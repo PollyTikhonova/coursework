{
 "cells": [
  {
   "cell_type": "markdown",
   "metadata": {
    "nbpresent": {
     "id": "8746a5a1-7691-4fa4-97c4-960ea2024fcc"
    },
    "slideshow": {
     "slide_type": "slide"
    }
   },
   "source": [
    "## Выявление корреляций между признаками"
   ]
  },
  {
   "cell_type": "markdown",
   "metadata": {
    "nbpresent": {
     "id": "7286996f-c105-41dc-9071-df25c1c08ff8"
    },
    "slideshow": {
     "slide_type": "slide"
    }
   },
   "source": [
    "С помощью R я построила heatmap корреляций, предварительно отнормировав признаки и выкинув строки с пропущенными данными."
   ]
  },
  {
   "cell_type": "code",
   "execution_count": null,
   "metadata": {
    "collapsed": true,
    "nbpresent": {
     "id": "f4312f24-d996-43a9-8b52-210ace89ad77"
    },
    "slideshow": {
     "slide_type": "fragment"
    }
   },
   "outputs": [],
   "source": [
    "data = read.csv('../rna-ion-step2/set_minresol_N_5.csv', sep = '\\t', skipNul = T)\n",
    "data = data[,2:362]\n",
    "data = data[apply(data,1,var)>0,]\n",
    "data_om = scale(na.omit(data))\n",
    "correlation.gene = cor(data_om,method = 'spearman')\n",
    "heat = heatmap(correlation.gene,\n",
    "        symm = TRUE,\n",
    "        distfun = function(x){as.dist(1-x)},\n",
    "        main = 'Gene',\n",
    "        keep.dendro = T)"
   ]
  },
  {
   "cell_type": "markdown",
   "metadata": {
    "nbpresent": {
     "id": "728c8632-a158-44f6-a388-339601c6bf2c"
    },
    "slideshow": {
     "slide_type": "slide"
    }
   },
   "source": [
    "Вот что получилось. Светлые, желтые пятна - наиболее скоррелированные признаки, красные - наоборот. \n",
    "Наиболее скоррелированные участки будут приближены в следующих слайдах. Для удобства я их пронумеровала на хитмапе справа.\n",
    "![](images/Heatmap ful+nav+color_bar.png)"
   ]
  },
  {
   "cell_type": "markdown",
   "metadata": {
    "slideshow": {
     "slide_type": "slide"
    }
   },
   "source": [
    "### Дендрогаммы скоррелированых участков.\n",
    "Цвета и номера совпадают с хитмапами. Стрелочки указывают на корреляции между объектами.\n",
    "<img src=\"images/Dendrograms_nav.png\">"
   ]
  },
  {
   "cell_type": "markdown",
   "metadata": {
    "slideshow": {
     "slide_type": "slide"
    }
   },
   "source": [
    "### Ниже будут показаны приближенные участки. \n",
    "Интенсивность и расположение подписей могут чуть-чуть отличаться, так как в виду технических сложностей приближеные хитмапы и хитмапы с первых слайдов были построены с помощью разных функций, но с одинаковыми параметрами, указанными на <a href='#/1'>первом слайде.</a>"
   ]
  },
  {
   "cell_type": "markdown",
   "metadata": {
    "nbpresent": {
     "id": "a6d1c1d6-8075-4dc6-84d7-09dc5361cdda"
    },
    "slideshow": {
     "slide_type": "subslide"
    }
   },
   "source": [
    "<img src=\"images/Plots from mapply/Heatmap_1+2+nav.png\">"
   ]
  },
  {
   "cell_type": "markdown",
   "metadata": {
    "slideshow": {
     "slide_type": "subslide"
    }
   },
   "source": [
    "<img src=\"images/Plots from mapply/Heatmap_3+4+nav.png\">"
   ]
  },
  {
   "cell_type": "markdown",
   "metadata": {
    "slideshow": {
     "slide_type": "subslide"
    }
   },
   "source": [
    "<img src=\"images/Plots from mapply/Heatmap_5+6+nav.png\">"
   ]
  },
  {
   "cell_type": "markdown",
   "metadata": {
    "slideshow": {
     "slide_type": "slide"
    }
   },
   "source": [
    "### Здесь ниже представлены те же участки, но построенные отдельно.\n",
    "Поэтому интенсивность цветов (читай скоррелированость) вычисляется относительно блока. Т.е. мы можем увидеть наиболее скоррелировнные участки в скоррелированных участках."
   ]
  },
  {
   "cell_type": "markdown",
   "metadata": {
    "slideshow": {
     "slide_type": "subslide"
    }
   },
   "source": [
    "<img src=\"images/Plots separately/Heatmap 1+2+nav.png\">"
   ]
  },
  {
   "cell_type": "markdown",
   "metadata": {
    "slideshow": {
     "slide_type": "subslide"
    }
   },
   "source": [
    "<img src=\"images/Plots separately/Heatmap 3+4+nav.png\">"
   ]
  },
  {
   "cell_type": "markdown",
   "metadata": {
    "slideshow": {
     "slide_type": "subslide"
    }
   },
   "source": [
    "Поскольку здесь коррелируют разные участки, то опять же в силу некоторых технических моментов, эти графики скорее неочень содержательны.\n",
    "<img src=\"images/Plots separately/Heatmap 5+6+nav.png\">"
   ]
  },
  {
   "cell_type": "markdown",
   "metadata": {
    "slideshow": {
     "slide_type": "slide"
    }
   },
   "source": [
    "### Выводы\n",
    "Корреляции наиболее подвержены углы нуклеотида, которые в свою очередь делятся на довольно четкие группы.\n",
    "\n",
    "А также нуклеотиды С и G со своими спариваниями.\n",
    "\n",
    "Ниже есть картинка, где я постаралась выделить все паттенрны, присутствующие в дендрограмме."
   ]
  },
  {
   "cell_type": "markdown",
   "metadata": {
    "slideshow": {
     "slide_type": "subslide"
    }
   },
   "source": [
    "<img src=\"images/Dendrograms_patterns.png\">"
   ]
  },
  {
   "cell_type": "markdown",
   "metadata": {
    "slideshow": {
     "slide_type": "slide"
    }
   },
   "source": [
    "### Ссылки и источники\n",
    "\n",
    "* <a href=\"Correlations Interactive version сlassic.html\">Интерактивный heatmap, где можно приближать интересующие участки. </a>\n",
    "* <a href=\"Correlations. R code.html\">Исходный код R, с помощью которого были построены все хитмапы и дендрограммы. </a>\n",
    "* <a href=\"https://pollytikhonova.github.io/coursework/correlation/\">Все файлы корреляционного исследования.</a>\n",
    "\n",
    "P.s. можно нажать Esc и откроется структура презентации. \n",
    "\n",
    "<a href=\"https://github.com/PollyTikhonova/coursework/tree/master/correlation\"><img src=\"https://pollytikhonova.github.io/coursework/GitHub-Mark-32px.png\" alt=\"В репозиторий\" title=\"В репозиторий\" style=\"max-width:100%;  display: block; margin: auto;\"></a>"
   ]
  }
 ],
 "metadata": {
  "anaconda-cloud": {},
  "celltoolbar": "Slideshow",
  "kernelspec": {
   "display_name": "Python 3",
   "language": "python",
   "name": "root"
  },
  "language_info": {
   "codemirror_mode": {
    "name": "ipython",
    "version": 3
   },
   "file_extension": ".py",
   "mimetype": "text/x-python",
   "name": "python",
   "nbconvert_exporter": "python",
   "pygments_lexer": "ipython3",
   "version": "3.5.2"
  },
  "nbpresent": {
   "slides": {
    "d9501a39-e434-4506-ba4d-3855326e9703": {
     "id": "d9501a39-e434-4506-ba4d-3855326e9703",
     "prev": null,
     "regions": {
      "27540eab-1835-4d0b-8a9a-fb84b7f10f5e": {
       "attrs": {
        "height": 1,
        "width": 1,
        "x": -0.0020865534804984454,
        "y": -0.001854714204887507
       },
       "content": {
        "cell": "8746a5a1-7691-4fa4-97c4-960ea2024fcc",
        "part": "whole"
       },
       "id": "27540eab-1835-4d0b-8a9a-fb84b7f10f5e"
      }
     }
    }
   },
   "themes": {
    "default": "d7aa1f50-0bb2-431d-95e2-b5b8460398b4",
    "theme": {
     "d7aa1f50-0bb2-431d-95e2-b5b8460398b4": {
      "backgrounds": {
       "backgroundColor": {
        "background-color": "backgroundColor",
        "id": "backgroundColor"
       }
      },
      "id": "d7aa1f50-0bb2-431d-95e2-b5b8460398b4",
      "palette": {
       "backgroundColor": {
        "id": "backgroundColor",
        "rgb": [
         256,
         256,
         256
        ]
       },
       "headingColor": {
        "id": "headingColor",
        "rgb": [
         0,
         0,
         0
        ]
       },
       "linkColor": {
        "id": "linkColor",
        "rgb": [
         0,
         0,
         139
        ]
       },
       "mainColor": {
        "id": "mainColor",
        "rgb": [
         0,
         0,
         0
        ]
       }
      },
      "rules": {
       "a": {
        "color": "linkColor"
       },
       "h1": {
        "color": "headingColor",
        "font-family": "News Cycle",
        "font-size": 7
       },
       "h2": {
        "color": "headingColor",
        "font-family": "News Cycle",
        "font-size": 5
       },
       "h3": {
        "color": "headingColor",
        "font-family": "News Cycle",
        "font-size": 3.75
       },
       "h4": {
        "color": "headingColor",
        "font-family": "News Cycle",
        "font-size": 3
       },
       "h5": {
        "color": "headingColor",
        "font-family": "News Cycle"
       },
       "h6": {
        "color": "headingColor",
        "font-family": "News Cycle"
       },
       "h7": {
        "color": "headingColor",
        "font-family": "News Cycle"
       },
       "li": {
        "color": "mainColor",
        "font-family": "Lato",
        "font-size": 5
       },
       "p": {
        "color": "mainColor",
        "font-family": "Lato",
        "font-size": 5
       }
      },
      "text-base": {
       "color": "mainColor",
       "font-family": "Lato",
       "font-size": 5
      }
     }
    }
   }
  }
 },
 "nbformat": 4,
 "nbformat_minor": 2
}
