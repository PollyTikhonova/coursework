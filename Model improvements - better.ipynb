{
 "cells": [
  {
   "cell_type": "code",
   "execution_count": 1,
   "metadata": {
    "collapsed": true
   },
   "outputs": [],
   "source": [
    "from class_magnesium_not_drop_na import *"
   ]
  },
  {
   "cell_type": "markdown",
   "metadata": {},
   "source": [
    "### Max depth"
   ]
  },
  {
   "cell_type": "code",
   "execution_count": 2,
   "metadata": {
    "collapsed": true
   },
   "outputs": [],
   "source": [
    "md = list(range(1,11)) + [15, 20, 25, 30, 35]\n",
    "#md = [ 25, 30, 40]"
   ]
  },
  {
   "cell_type": "code",
   "execution_count": 3,
   "metadata": {
    "collapsed": false
   },
   "outputs": [
    {
     "name": "stderr",
     "output_type": "stream",
     "text": [
      "Widget Javascript not detected.  It may not be installed properly. Did you enable the widgetsnbextension? If not, then run \"jupyter nbextension enable --py --sys-prefix widgetsnbextension\"\n"
     ]
    },
    {
     "name": "stdout",
     "output_type": "stream",
     "text": [
      "\n",
      "Number of sites:  6153\n",
      "Portion of sites:  0.230760576058\n",
      "Average score:  0.769239423942\n",
      "Last score:  0.769239423942\n"
     ]
    },
    {
     "name": "stderr",
     "output_type": "stream",
     "text": [
      "Widget Javascript not detected.  It may not be installed properly. Did you enable the widgetsnbextension? If not, then run \"jupyter nbextension enable --py --sys-prefix widgetsnbextension\"\n"
     ]
    },
    {
     "name": "stdout",
     "output_type": "stream",
     "text": [
      "\n",
      "Number of sites:  6153\n",
      "Portion of sites:  0.230760576058\n",
      "Average score:  0.769239423942\n",
      "Last score:  0.769239423942\n"
     ]
    },
    {
     "name": "stderr",
     "output_type": "stream",
     "text": [
      "Widget Javascript not detected.  It may not be installed properly. Did you enable the widgetsnbextension? If not, then run \"jupyter nbextension enable --py --sys-prefix widgetsnbextension\"\n"
     ]
    },
    {
     "name": "stdout",
     "output_type": "stream",
     "text": [
      "\n",
      "Number of sites:  6153\n",
      "Portion of sites:  0.230760576058\n",
      "Average score:  0.769239423942\n",
      "Last score:  0.769239423942\n"
     ]
    },
    {
     "name": "stderr",
     "output_type": "stream",
     "text": [
      "Widget Javascript not detected.  It may not be installed properly. Did you enable the widgetsnbextension? If not, then run \"jupyter nbextension enable --py --sys-prefix widgetsnbextension\"\n"
     ]
    },
    {
     "name": "stdout",
     "output_type": "stream",
     "text": [
      "\n",
      "Number of sites:  6153\n",
      "Portion of sites:  0.230760576058\n",
      "Average score:  0.769239423942\n",
      "Last score:  0.769239423942\n"
     ]
    },
    {
     "name": "stderr",
     "output_type": "stream",
     "text": [
      "Widget Javascript not detected.  It may not be installed properly. Did you enable the widgetsnbextension? If not, then run \"jupyter nbextension enable --py --sys-prefix widgetsnbextension\"\n"
     ]
    },
    {
     "name": "stdout",
     "output_type": "stream",
     "text": [
      "\n",
      "Number of sites:  6153\n",
      "Portion of sites:  0.230760576058\n",
      "Average score:  0.769239423942\n",
      "Last score:  0.769239423942\n"
     ]
    },
    {
     "name": "stderr",
     "output_type": "stream",
     "text": [
      "Widget Javascript not detected.  It may not be installed properly. Did you enable the widgetsnbextension? If not, then run \"jupyter nbextension enable --py --sys-prefix widgetsnbextension\"\n"
     ]
    },
    {
     "name": "stdout",
     "output_type": "stream",
     "text": [
      "\n",
      "Number of sites:  6153\n",
      "Portion of sites:  0.230760576058\n",
      "Average score:  0.769239423942\n",
      "Last score:  0.769239423942\n"
     ]
    },
    {
     "name": "stderr",
     "output_type": "stream",
     "text": [
      "Widget Javascript not detected.  It may not be installed properly. Did you enable the widgetsnbextension? If not, then run \"jupyter nbextension enable --py --sys-prefix widgetsnbextension\"\n"
     ]
    },
    {
     "name": "stdout",
     "output_type": "stream",
     "text": [
      "\n",
      "Number of sites:  6153\n",
      "Portion of sites:  0.230760576058\n",
      "Average score:  0.769239423942\n",
      "Last score:  0.769239423942\n"
     ]
    },
    {
     "name": "stderr",
     "output_type": "stream",
     "text": [
      "Widget Javascript not detected.  It may not be installed properly. Did you enable the widgetsnbextension? If not, then run \"jupyter nbextension enable --py --sys-prefix widgetsnbextension\"\n"
     ]
    },
    {
     "name": "stdout",
     "output_type": "stream",
     "text": [
      "\n",
      "Number of sites:  6153\n",
      "Portion of sites:  0.230760576058\n",
      "Average score:  0.769239423942\n",
      "Last score:  0.769239423942\n"
     ]
    },
    {
     "name": "stderr",
     "output_type": "stream",
     "text": [
      "Widget Javascript not detected.  It may not be installed properly. Did you enable the widgetsnbextension? If not, then run \"jupyter nbextension enable --py --sys-prefix widgetsnbextension\"\n"
     ]
    },
    {
     "name": "stdout",
     "output_type": "stream",
     "text": [
      "\n",
      "Number of sites:  6153\n",
      "Portion of sites:  0.230760576058\n",
      "Average score:  0.769239423942\n",
      "Last score:  0.769239423942\n"
     ]
    },
    {
     "name": "stderr",
     "output_type": "stream",
     "text": [
      "Widget Javascript not detected.  It may not be installed properly. Did you enable the widgetsnbextension? If not, then run \"jupyter nbextension enable --py --sys-prefix widgetsnbextension\"\n"
     ]
    },
    {
     "name": "stdout",
     "output_type": "stream",
     "text": [
      "\n",
      "Number of sites:  6153\n",
      "Portion of sites:  0.230760576058\n",
      "Average score:  0.769239423942\n",
      "Last score:  0.769239423942\n"
     ]
    },
    {
     "name": "stderr",
     "output_type": "stream",
     "text": [
      "Widget Javascript not detected.  It may not be installed properly. Did you enable the widgetsnbextension? If not, then run \"jupyter nbextension enable --py --sys-prefix widgetsnbextension\"\n"
     ]
    },
    {
     "name": "stdout",
     "output_type": "stream",
     "text": [
      "\n",
      "Number of sites:  6153\n",
      "Portion of sites:  0.230760576058\n",
      "Average score:  0.770282028203\n",
      "Last score:  0.770289528953\n"
     ]
    },
    {
     "name": "stderr",
     "output_type": "stream",
     "text": [
      "Widget Javascript not detected.  It may not be installed properly. Did you enable the widgetsnbextension? If not, then run \"jupyter nbextension enable --py --sys-prefix widgetsnbextension\"\n"
     ]
    },
    {
     "name": "stdout",
     "output_type": "stream",
     "text": [
      "\n",
      "Number of sites:  6153\n",
      "Portion of sites:  0.230760576058\n",
      "Average score:  0.773837383738\n",
      "Last score:  0.773364836484\n"
     ]
    },
    {
     "name": "stderr",
     "output_type": "stream",
     "text": [
      "Widget Javascript not detected.  It may not be installed properly. Did you enable the widgetsnbextension? If not, then run \"jupyter nbextension enable --py --sys-prefix widgetsnbextension\"\n"
     ]
    },
    {
     "name": "stdout",
     "output_type": "stream",
     "text": [
      "\n",
      "Number of sites:  6153\n",
      "Portion of sites:  0.230760576058\n",
      "Average score:  0.775892589259\n",
      "Last score:  0.775052505251\n"
     ]
    },
    {
     "name": "stderr",
     "output_type": "stream",
     "text": [
      "Widget Javascript not detected.  It may not be installed properly. Did you enable the widgetsnbextension? If not, then run \"jupyter nbextension enable --py --sys-prefix widgetsnbextension\"\n"
     ]
    },
    {
     "name": "stdout",
     "output_type": "stream",
     "text": [
      "\n",
      "Number of sites:  6153\n",
      "Portion of sites:  0.230760576058\n",
      "Average score:  0.776785178518\n",
      "Last score:  0.776065106511\n"
     ]
    },
    {
     "name": "stderr",
     "output_type": "stream",
     "text": [
      "Widget Javascript not detected.  It may not be installed properly. Did you enable the widgetsnbextension? If not, then run \"jupyter nbextension enable --py --sys-prefix widgetsnbextension\"\n"
     ]
    },
    {
     "name": "stdout",
     "output_type": "stream",
     "text": [
      "\n",
      "Number of sites:  6153\n",
      "Portion of sites:  0.230760576058\n",
      "Average score:  0.776822682268\n",
      "Last score:  0.776177617762\n"
     ]
    }
   ],
   "source": [
    "test = []\n",
    "train = []\n",
    "cnf = []\n",
    "for i in md:\n",
    "    m = Magnesium(\"set_minresol_N_5.csv\", fold='input files/',colours = ['#f6c35b', '#929292'],\n",
    "                 model = RandomForestClassifier(n_estimators=200, max_depth = i, n_jobs=-1, criterion='gini'),  \n",
    "                  with_groups = False)\n",
    "    data = m.compute(n_splits = 5, test_size = 0.3, plots = False, reduce_features = False, balanced = False)\n",
    "    train.append(data['train score'])\n",
    "    test.append(data['test score'])\n",
    "    cnf.append(data['confusion'][1])"
   ]
  },
  {
   "cell_type": "markdown",
   "metadata": {},
   "source": [
    "### Save data"
   ]
  },
  {
   "cell_type": "code",
   "execution_count": null,
   "metadata": {
    "collapsed": true
   },
   "outputs": [],
   "source": [
    "h = open('outputs/imbalanced_train.txt', 'w')\n",
    "h.write(' '.join([str(i) for i in train]))\n",
    "h.close()\n",
    "h = open('outputs/imbalanced_train.txt', 'w')\n",
    "h.write(' '.join([str(i) for i in train]))\n",
    "h.close()\n",
    "\n",
    "h = open('outputs/imbalanced_cnf.txt', 'w')\n",
    "h.write('\\n'.join([' '.join([str(j) for j in i]) for i in cnf]))\n",
    "h.close()"
   ]
  },
  {
   "cell_type": "markdown",
   "metadata": {},
   "source": [
    "### Upload data"
   ]
  },
  {
   "cell_type": "code",
   "execution_count": 15,
   "metadata": {
    "collapsed": false
   },
   "outputs": [],
   "source": [
    "# Чтобы не прогонять расчеты, написанные выше каждый раз, я сохранила эти данные, \n",
    "# поэтому сейчас я могу работать с сохраненными данными.\n",
    "\n",
    "test = [float(i) for i in open('outputs/imbalanced_test.txt').read().split()]\n",
    "train = [float(i) for i in open('outputs/imbalanced_train.txt').read().split()]\n",
    "cnf = open('outputs/imbalanced_cnf.txt').read().split('\\n')\n",
    "cnf =[np.array([float(j) for j in re.split('\\[|\\]|\\s', i) if len(j)>0]).reshape(2,2) for i in cnf]   \n",
    "\n",
    "md = list(range(1,11)) + [15, 20, 25, 30, 35]"
   ]
  },
  {
   "cell_type": "markdown",
   "metadata": {},
   "source": [
    "### Plots"
   ]
  },
  {
   "cell_type": "code",
   "execution_count": 17,
   "metadata": {
    "collapsed": false
   },
   "outputs": [
    {
     "data": {
      "image/png": "[encoded data removed]",
      "text/plain": [
       "<matplotlib.figure.Figure at 0x20dfa017940>"
      ]
     },
     "metadata": {},
     "output_type": "display_data"
    },
    {
     "data": {
      "image/png": "[encoded data removed]",
      "text/plain": [
       "<matplotlib.figure.Figure at 0x20dfa0703c8>"
      ]
     },
     "metadata": {},
     "output_type": "display_data"
    }
   ],
   "source": [
    "ax = plt.figure(figsize = (15,10)).add_subplot(211)\n",
    "ax.plot(md, test, color = 'teal', label = 'Mean test accuracy')\n",
    "ax.scatter(md, test, color = 'teal')\n",
    "ax.plot(md, train, color = 'purple', label = 'Mean train accuracy')\n",
    "ax.scatter(md, train, color = 'purple')\n",
    "ax.plot(md, [i[0,0] for i in cnf], '-.',color = 'grey', label = 'TN')\n",
    "ax.scatter(md, [i[0,0] for i in cnf], color = 'grey')\n",
    "ax.plot(md, [i[1,1] for i in cnf], '--',color = 'darkgrey', label = 'TP')\n",
    "ax.scatter(md, [i[1,1] for i in cnf],  color = 'darkgrey')\n",
    "plt.xlabel('MaxDepth')\n",
    "plt.ylabel('Accuracy')\n",
    "plt.legend()\n",
    "plt.title('Accuracy scores', fontsize = 12)\n",
    "\n",
    "ax = plt.figure(figsize = (15,10)).add_subplot(212)\n",
    "ax.plot(md, test, color = 'teal', label = 'Mean test accuracy')\n",
    "ax.scatter(md, test, color = 'teal')\n",
    "ax.plot(md, train, color = 'purple', label = 'Mean train accuracy')\n",
    "ax.scatter(md, train, color = 'purple')\n",
    "plt.xlabel('MaxDepth')\n",
    "plt.ylabel('Accuracy')\n",
    "plt.legend()\n",
    "plt.title('Accuracy scores', fontsize = 12)\n",
    "\n",
    "plt.show()"
   ]
  },
  {
   "cell_type": "markdown",
   "metadata": {},
   "source": [
    "### Leaves"
   ]
  },
  {
   "cell_type": "code",
   "execution_count": 6,
   "metadata": {
    "collapsed": true
   },
   "outputs": [],
   "source": [
    "lv = [1,5,10, 15, 20, 100]"
   ]
  },
  {
   "cell_type": "code",
   "execution_count": 7,
   "metadata": {
    "collapsed": false
   },
   "outputs": [
    {
     "name": "stderr",
     "output_type": "stream",
     "text": [
      "Widget Javascript not detected.  It may not be installed properly. Did you enable the widgetsnbextension? If not, then run \"jupyter nbextension enable --py --sys-prefix widgetsnbextension\"\n"
     ]
    },
    {
     "name": "stdout",
     "output_type": "stream",
     "text": [
      "\n",
      "Number of sites:  3991\n",
      "Portion of sites:  0.21432790935\n",
      "Average score:  0.78567209065\n",
      "Last score:  0.78567209065\n"
     ]
    },
    {
     "name": "stderr",
     "output_type": "stream",
     "text": [
      "Widget Javascript not detected.  It may not be installed properly. Did you enable the widgetsnbextension? If not, then run \"jupyter nbextension enable --py --sys-prefix widgetsnbextension\"\n"
     ]
    },
    {
     "name": "stdout",
     "output_type": "stream",
     "text": [
      "\n",
      "Number of sites:  3991\n",
      "Portion of sites:  0.21432790935\n",
      "Average score:  0.78567209065\n",
      "Last score:  0.78567209065\n"
     ]
    },
    {
     "name": "stderr",
     "output_type": "stream",
     "text": [
      "Widget Javascript not detected.  It may not be installed properly. Did you enable the widgetsnbextension? If not, then run \"jupyter nbextension enable --py --sys-prefix widgetsnbextension\"\n"
     ]
    },
    {
     "name": "stdout",
     "output_type": "stream",
     "text": [
      "\n",
      "Number of sites:  3991\n",
      "Portion of sites:  0.21432790935\n",
      "Average score:  0.78567209065\n",
      "Last score:  0.78567209065\n"
     ]
    },
    {
     "name": "stderr",
     "output_type": "stream",
     "text": [
      "Widget Javascript not detected.  It may not be installed properly. Did you enable the widgetsnbextension? If not, then run \"jupyter nbextension enable --py --sys-prefix widgetsnbextension\"\n"
     ]
    },
    {
     "name": "stdout",
     "output_type": "stream",
     "text": [
      "\n",
      "Number of sites:  3991\n",
      "Portion of sites:  0.21432790935\n",
      "Average score:  0.78567209065\n",
      "Last score:  0.78567209065\n"
     ]
    },
    {
     "name": "stderr",
     "output_type": "stream",
     "text": [
      "Widget Javascript not detected.  It may not be installed properly. Did you enable the widgetsnbextension? If not, then run \"jupyter nbextension enable --py --sys-prefix widgetsnbextension\"\n"
     ]
    },
    {
     "name": "stdout",
     "output_type": "stream",
     "text": [
      "\n",
      "Number of sites:  3991\n",
      "Portion of sites:  0.21432790935\n",
      "Average score:  0.78567209065\n",
      "Last score:  0.78567209065\n"
     ]
    },
    {
     "name": "stderr",
     "output_type": "stream",
     "text": [
      "Widget Javascript not detected.  It may not be installed properly. Did you enable the widgetsnbextension? If not, then run \"jupyter nbextension enable --py --sys-prefix widgetsnbextension\"\n"
     ]
    },
    {
     "name": "stdout",
     "output_type": "stream",
     "text": [
      "\n",
      "Number of sites:  3991\n",
      "Portion of sites:  0.21432790935\n",
      "Average score:  0.78567209065\n",
      "Last score:  0.78567209065\n"
     ]
    }
   ],
   "source": [
    "test_l = []\n",
    "train_l = []\n",
    "cnf_l = []\n",
    "for i in lv:\n",
    "    m = Magnesium(\"set_minresol_N_5_b_b.csv\", fold='input files/',colours = ['#f6c35b', '#929292'],\n",
    "                 model = RandomForestClassifier(n_estimators=200, max_depth = 10, min_samples_leaf=i, n_jobs=-1, \n",
    "                                                criterion='gini'),  with_groups = False)\n",
    "    data = m.compute(n_splits = 5, test_size = 0.3, plots = False, reduce_features = False)\n",
    "    train_l.append(data['train score'])\n",
    "    test_l.append(data['test score'])\n",
    "    cnf_l.append(data['confusion'][1])"
   ]
  },
  {
   "cell_type": "markdown",
   "metadata": {},
   "source": [
    "### Save data"
   ]
  },
  {
   "cell_type": "code",
   "execution_count": null,
   "metadata": {
    "collapsed": true
   },
   "outputs": [],
   "source": [
    "h = open('outputs/imbalanced_test_l.txt', 'w')\n",
    "h.write(' '.join([str(i) for i in test_l]))\n",
    "h.close()\n",
    "\n",
    "h = open('outputs/imbalanced_train_l.txt', 'w')\n",
    "h.write(' '.join([str(i) for i in train_l]))\n",
    "h.close()\n",
    "\n",
    "h = open('outputs/imbalanced_cnf_l.txt', 'w')\n",
    "h.write('\\n'.join([' '.join([str(j) for j in i]) for i in cnf_l]))\n",
    "h.close()"
   ]
  },
  {
   "cell_type": "markdown",
   "metadata": {},
   "source": [
    "### Upload data"
   ]
  },
  {
   "cell_type": "code",
   "execution_count": 12,
   "metadata": {
    "collapsed": false
   },
   "outputs": [],
   "source": [
    "# Чтобы не прогонять расчеты, написанные выше каждый раз, я сохранила эти данные, \n",
    "# поэтому сейчас я могу работать с сохраненными данными.\n",
    "\n",
    "test_l = [float(i) for i in open('outputs/imbalanced_test_l.txt').read().split()]\n",
    "train_l = [float(i) for i in open('outputs/imbalanced_train_l.txt').read().split()]\n",
    "cnf_l = open('outputs/imbalanced_cnf_l.txt').read().split('\\n')\n",
    "cnf_l =[np.array([float(j) for j in re.split('\\[|\\]|\\s', i) if len(j)>0]).reshape(2,2) for i in cnf_l]   \n",
    "\n",
    "lv = [1,5,10, 15, 20, 100]"
   ]
  },
  {
   "cell_type": "markdown",
   "metadata": {},
   "source": [
    "### Plots"
   ]
  },
  {
   "cell_type": "code",
   "execution_count": 14,
   "metadata": {
    "collapsed": false
   },
   "outputs": [
    {
     "data": {
      "image/png": "[encoded data removed]",
      "text/plain": [
       "<matplotlib.figure.Figure at 0x19f7f71fd30>"
      ]
     },
     "metadata": {},
     "output_type": "display_data"
    },
    {
     "data": {
      "image/png": "[encoded data removed]",
      "text/plain": [
       "<matplotlib.figure.Figure at 0x19f1e653fd0>"
      ]
     },
     "metadata": {},
     "output_type": "display_data"
    },
    {
     "data": {
      "image/png": "[encoded data removed]",
      "text/plain": [
       "<matplotlib.figure.Figure at 0x19f6b82eb00>"
      ]
     },
     "metadata": {},
     "output_type": "display_data"
    }
   ],
   "source": [
    "ax = plt.figure(figsize = (15,15)).add_subplot(311)\n",
    "ax.plot(lv, test_l, color = 'teal', label = 'Mean test accuracy')\n",
    "ax.scatter(lv, test_l, color = 'teal')\n",
    "ax.plot(lv, train_l, color = 'purple', label = 'Mean train accuracy')\n",
    "ax.scatter(lv, train_l, color = 'purple')\n",
    "ax.plot(lv, [i[0,0] for i in cnf_l], '-.',color = 'grey', label = 'TN')\n",
    "ax.scatter(lv, [i[0,0] for i in cnf_l], color = 'grey')\n",
    "ax.plot(lv, [i[1,1] for i in cnf_l], '--',color = 'darkgrey', label = 'TP')\n",
    "ax.scatter(lv, [i[1,1] for i in cnf_l],  color = 'darkgrey')\n",
    "plt.xlabel('Leaves')\n",
    "plt.ylabel('Accuracy')\n",
    "plt.legend()\n",
    "plt.title('Accuracy scores, maxdepth = 10', fontsize = 12)\n",
    "\n",
    "ax = plt.figure(figsize = (15,15)).add_subplot(312)\n",
    "ax.plot(lv, test_l, color = 'teal', label = 'Mean test accuracy')\n",
    "ax.scatter(lv, test_l, color = 'teal')\n",
    "ax.plot(lv, train_l, color = 'purple', label = 'Mean train accuracy')\n",
    "ax.scatter(lv, train_l, color = 'purple')\n",
    "plt.xlabel('Leaves')\n",
    "plt.ylabel('Accuracy')\n",
    "plt.legend()\n",
    "plt.title('Accuracy scores, maxdepth = 10', fontsize = 12)\n",
    "\n",
    "ax = plt.figure(figsize = (15,15)).add_subplot(312)\n",
    "ax.plot(lv[:2], test_l[:2], color = 'teal', label = 'Mean test accuracy')\n",
    "ax.scatter(lv[:2], test_l[:2], color = 'teal')\n",
    "ax.plot(lv[:2], train_l[:2], color = 'purple', label = 'Mean train accuracy')\n",
    "ax.scatter(lv[:2], train_l[:2], color = 'purple')\n",
    "ax.set_xticks(lv[:2])\n",
    "plt.xlabel('Leaves')\n",
    "plt.ylabel('Accuracy')\n",
    "plt.legend()\n",
    "plt.title('Accuracy scores, maxdepth = 10', fontsize = 12)\n",
    "\n",
    "plt.show()"
   ]
  },
  {
   "cell_type": "markdown",
   "metadata": {},
   "source": [
    "### Estimators"
   ]
  },
  {
   "cell_type": "code",
   "execution_count": 7,
   "metadata": {
    "collapsed": true
   },
   "outputs": [],
   "source": [
    "estimators = [25, 50, 75, 100, 125, 150, 175, 200, 250, 300, 350, 400]"
   ]
  },
  {
   "cell_type": "code",
   "execution_count": 8,
   "metadata": {
    "collapsed": false
   },
   "outputs": [
    {
     "name": "stdout",
     "output_type": "stream",
     "text": [
      "\n",
      "Number of sites:  3991\n",
      "Portion of sites:  0.21432790935\n",
      "Average score:  0.785682831212\n",
      "Last score:  0.785725793459\n",
      "\n",
      "Number of sites:  3991\n",
      "Portion of sites:  0.21432790935\n",
      "Average score:  0.78567209065\n",
      "Last score:  0.78567209065\n",
      "\n",
      "Number of sites:  3991\n",
      "Portion of sites:  0.21432790935\n",
      "Average score:  0.78567209065\n",
      "Last score:  0.78567209065\n",
      "\n",
      "Number of sites:  3991\n",
      "Portion of sites:  0.21432790935\n",
      "Average score:  0.78567209065\n",
      "Last score:  0.78567209065\n",
      "\n",
      "Number of sites:  3991\n",
      "Portion of sites:  0.21432790935\n",
      "Average score:  0.78567209065\n",
      "Last score:  0.78567209065\n",
      "\n",
      "Number of sites:  3991\n",
      "Portion of sites:  0.21432790935\n",
      "Average score:  0.78567209065\n",
      "Last score:  0.78567209065\n",
      "\n",
      "Number of sites:  3991\n",
      "Portion of sites:  0.21432790935\n",
      "Average score:  0.78567209065\n",
      "Last score:  0.78567209065\n",
      "\n",
      "Number of sites:  3991\n",
      "Portion of sites:  0.21432790935\n",
      "Average score:  0.78567209065\n",
      "Last score:  0.78567209065\n"
     ]
    }
   ],
   "source": [
    "test_e = []\n",
    "train_e = []\n",
    "cnf_e = []\n",
    "for i in estimators:\n",
    "    print('estimator:', i)\n",
    "    m = Magnesium(\"set_minresol_N_5_b_b.csv\", fold='input files/',colours = ['#f6c35b', '#929292'],\n",
    "                 model = RandomForestClassifier(n_estimators=i, n_jobs=-1, criterion='gini', \n",
    "                 max_depth = 10, min_samples_leaf=5),  with_groups = False)\n",
    "    data = m.compute(n_splits = 5, test_size = 0.3, plots = False, reduce_features = False)\n",
    "    train_e.append(data['train score'])\n",
    "    test_e.append(data['test score'])\n",
    "    cnf_e.append(data['confusion'][1])"
   ]
  },
  {
   "cell_type": "markdown",
   "metadata": {},
   "source": [
    "### Save data"
   ]
  },
  {
   "cell_type": "code",
   "execution_count": null,
   "metadata": {
    "collapsed": true
   },
   "outputs": [],
   "source": [
    "h = open('outputs/imbalanced_test_e.txt', 'w')\n",
    "h.write(' '.join([str(i) for i in test_e]))\n",
    "h.close()\n",
    "\n",
    "h = open('outputs/imbalanced_train_e.txt', 'w')\n",
    "h.write(' '.join([str(i) for i in train_e]))\n",
    "h.close()\n",
    "\n",
    "h = open('outputs/imbalanced_cnf_e.txt', 'w')\n",
    "h.write('\\n'.join([' '.join([str(j) for j in i]) for i in cnf_e]))\n",
    "h.close()"
   ]
  },
  {
   "cell_type": "markdown",
   "metadata": {},
   "source": [
    "### Upload data"
   ]
  },
  {
   "cell_type": "code",
   "execution_count": null,
   "metadata": {
    "collapsed": true
   },
   "outputs": [],
   "source": [
    "# Чтобы не прогонять расчеты, написанные выше каждый раз, я сохранила эти данные, \n",
    "# поэтому сейчас я могу работать с сохраненными данными.\n",
    "\n",
    "test_e = [float(i) for i in open('outputs/imbalanced_test_e.txt').read().split()]\n",
    "train_e = [float(i) for i in open('outputs/imbalanced_train_e.txt').read().split()]\n",
    "cnf_e = open('outputs/imbalanced_cnf_e.txt').read().split('\\n')\n",
    "cnf_e =[np.array([float(j) for j in re.split('\\[|\\]|\\s', i) if len(j)>0]).reshape(2,2) for i in cnf_e]   \n",
    "\n",
    "estimators = [25, 50, 75, 100, 125, 150, 175, 200, 250, 300, 350, 400]"
   ]
  },
  {
   "cell_type": "markdown",
   "metadata": {},
   "source": [
    "### Plots"
   ]
  },
  {
   "cell_type": "code",
   "execution_count": 15,
   "metadata": {
    "collapsed": false
   },
   "outputs": [
    {
     "data": {
      "image/png": "[encoded data removed]",
      "text/plain": [
       "<matplotlib.figure.Figure at 0x19f528fb470>"
      ]
     },
     "metadata": {},
     "output_type": "display_data"
    },
    {
     "data": {
      "image/png": "[encoded data removed]",
      "text/plain": [
       "<matplotlib.figure.Figure at 0x19f1d653d30>"
      ]
     },
     "metadata": {},
     "output_type": "display_data"
    }
   ],
   "source": [
    "ax = plt.figure(figsize = (15,10)).add_subplot(211)\n",
    "ax.plot(estimators, test_e, color = 'teal', label = 'Mean test accuracy')\n",
    "ax.scatter(estimators, test_e, color = 'teal')\n",
    "ax.plot(estimators, train_e, color = 'purple', label = 'Mean train accuracy')\n",
    "ax.scatter(estimators, train_e, color = 'purple')\n",
    "ax.plot(estimators, [i[0,0] for i in cnf_e], '-.',color = 'grey', label = 'TN')\n",
    "ax.scatter(estimators, [i[0,0] for i in cnf_e], color = 'grey')\n",
    "ax.plot(estimators, [i[1,1] for i in cnf_e], '--',color = 'darkgrey', label = 'TP')\n",
    "ax.scatter(estimators, [i[1,1] for i in cnf_e],  color = 'darkgrey')\n",
    "plt.legend()\n",
    "plt.xlabel('Estimators')\n",
    "plt.ylabel('Accuracy')\n",
    "plt.title('Accuracy scores, max_depth = 10, min_samples_leaf=5', fontsize = 12)\n",
    "plt.show()\n",
    "\n",
    "ax = plt.figure(figsize = (15,10)).add_subplot(212)\n",
    "ax.plot(estimators, test_e, color = 'teal', label = 'Mean test accuracy')\n",
    "ax.scatter(estimators, test_e, color = 'teal')\n",
    "ax.plot(estimators, train_e, color = 'purple', label = 'Mean train accuracy')\n",
    "ax.scatter(estimators, train_e, color = 'purple')\n",
    "plt.legend()\n",
    "plt.xlabel('Estimators')\n",
    "plt.ylabel('Accuracy')\n",
    "plt.title('Accuracy scores, max_depth = 10, min_samples_leaf=5', fontsize = 12)\n",
    "\n",
    "plt.show()"
   ]
  }
 ],
 "metadata": {
  "anaconda-cloud": {},
  "kernelspec": {
   "display_name": "Python 3",
   "language": "python",
   "name": "root"
  },
  "language_info": {
   "codemirror_mode": {
    "name": "ipython",
    "version": 3
   },
   "file_extension": ".py",
   "mimetype": "text/x-python",
   "name": "python",
   "nbconvert_exporter": "python",
   "pygments_lexer": "ipython3",
   "version": "3.5.2"
  },
  "widgets": {
   "state": {
    "03cbb8615775461c95397660ac002dad": {
     "views": [
      {
       "cell_index": 21
      }
     ]
    },
    "044272ad053a4b02b270b3e392d8c4a1": {
     "views": [
      {
       "cell_index": 21
      }
     ]
    },
    "82ede9798acf4728b138625bf42447a6": {
     "views": [
      {
       "cell_index": 21
      }
     ]
    },
    "b70a327c9ed44426a637735136f77215": {
     "views": [
      {
       "cell_index": 20
      }
     ]
    },
    "bbc86a4819904cd2aa06abfec41c77f3": {
     "views": [
      {
       "cell_index": 19
      }
     ]
    },
    "c6f63c5a43054156a94abcd42ad3130d": {
     "views": [
      {
       "cell_index": 20
      }
     ]
    },
    "ca20799a94ae4008be7c6cefbc78f352": {
     "views": [
      {
       "cell_index": 20
      }
     ]
    },
    "fcd095ab10594f9b810703865165cbe4": {
     "views": [
      {
       "cell_index": 20
      }
     ]
    }
   },
   "version": "1.2.0"
  }
 },
 "nbformat": 4,
 "nbformat_minor": 2
}
