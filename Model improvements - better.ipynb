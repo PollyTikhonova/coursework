{
 "cells": [
  {
   "cell_type": "code",
   "execution_count": 1,
   "metadata": {
    "collapsed": true
   },
   "outputs": [],
   "source": [
    "from class_magnesium_not_drop_na import *"
   ]
  },
  {
   "cell_type": "markdown",
   "metadata": {},
   "source": [
    "### Max depth"
   ]
  },
  {
   "cell_type": "code",
   "execution_count": 2,
   "metadata": {
    "collapsed": true
   },
   "outputs": [],
   "source": [
    "md = list(range(1,11)) + [15, 20, 25, 30, 35]\n",
    "#md = [ 25, 30, 40]"
   ]
  },
  {
   "cell_type": "code",
   "execution_count": 3,
   "metadata": {
    "collapsed": false
   },
   "outputs": [
    {
     "name": "stderr",
     "output_type": "stream",
     "text": [
      "Widget Javascript not detected.  It may not be installed properly. Did you enable the widgetsnbextension? If not, then run \"jupyter nbextension enable --py --sys-prefix widgetsnbextension\"\n"
     ]
    },
    {
     "name": "stdout",
     "output_type": "stream",
     "text": [
      "\n",
      "Number of sites:  6153\n",
      "Portion of sites:  0.230760576058\n",
      "Average score:  0.769239423942\n",
      "Last score:  0.769239423942\n"
     ]
    },
    {
     "name": "stderr",
     "output_type": "stream",
     "text": [
      "Widget Javascript not detected.  It may not be installed properly. Did you enable the widgetsnbextension? If not, then run \"jupyter nbextension enable --py --sys-prefix widgetsnbextension\"\n"
     ]
    },
    {
     "name": "stdout",
     "output_type": "stream",
     "text": [
      "\n",
      "Number of sites:  6153\n",
      "Portion of sites:  0.230760576058\n",
      "Average score:  0.769239423942\n",
      "Last score:  0.769239423942\n"
     ]
    },
    {
     "name": "stderr",
     "output_type": "stream",
     "text": [
      "Widget Javascript not detected.  It may not be installed properly. Did you enable the widgetsnbextension? If not, then run \"jupyter nbextension enable --py --sys-prefix widgetsnbextension\"\n"
     ]
    },
    {
     "name": "stdout",
     "output_type": "stream",
     "text": [
      "\n",
      "Number of sites:  6153\n",
      "Portion of sites:  0.230760576058\n",
      "Average score:  0.769239423942\n",
      "Last score:  0.769239423942\n"
     ]
    },
    {
     "name": "stderr",
     "output_type": "stream",
     "text": [
      "Widget Javascript not detected.  It may not be installed properly. Did you enable the widgetsnbextension? If not, then run \"jupyter nbextension enable --py --sys-prefix widgetsnbextension\"\n"
     ]
    },
    {
     "name": "stdout",
     "output_type": "stream",
     "text": [
      "\n",
      "Number of sites:  6153\n",
      "Portion of sites:  0.230760576058\n",
      "Average score:  0.769239423942\n",
      "Last score:  0.769239423942\n"
     ]
    },
    {
     "name": "stderr",
     "output_type": "stream",
     "text": [
      "Widget Javascript not detected.  It may not be installed properly. Did you enable the widgetsnbextension? If not, then run \"jupyter nbextension enable --py --sys-prefix widgetsnbextension\"\n"
     ]
    },
    {
     "name": "stdout",
     "output_type": "stream",
     "text": [
      "\n",
      "Number of sites:  6153\n",
      "Portion of sites:  0.230760576058\n",
      "Average score:  0.769239423942\n",
      "Last score:  0.769239423942\n"
     ]
    },
    {
     "name": "stderr",
     "output_type": "stream",
     "text": [
      "Widget Javascript not detected.  It may not be installed properly. Did you enable the widgetsnbextension? If not, then run \"jupyter nbextension enable --py --sys-prefix widgetsnbextension\"\n"
     ]
    },
    {
     "name": "stdout",
     "output_type": "stream",
     "text": [
      "\n",
      "Number of sites:  6153\n",
      "Portion of sites:  0.230760576058\n",
      "Average score:  0.769239423942\n",
      "Last score:  0.769239423942\n"
     ]
    },
    {
     "name": "stderr",
     "output_type": "stream",
     "text": [
      "Widget Javascript not detected.  It may not be installed properly. Did you enable the widgetsnbextension? If not, then run \"jupyter nbextension enable --py --sys-prefix widgetsnbextension\"\n"
     ]
    },
    {
     "name": "stdout",
     "output_type": "stream",
     "text": [
      "\n",
      "Number of sites:  6153\n",
      "Portion of sites:  0.230760576058\n",
      "Average score:  0.769239423942\n",
      "Last score:  0.769239423942\n"
     ]
    },
    {
     "name": "stderr",
     "output_type": "stream",
     "text": [
      "Widget Javascript not detected.  It may not be installed properly. Did you enable the widgetsnbextension? If not, then run \"jupyter nbextension enable --py --sys-prefix widgetsnbextension\"\n"
     ]
    },
    {
     "name": "stdout",
     "output_type": "stream",
     "text": [
      "\n",
      "Number of sites:  6153\n",
      "Portion of sites:  0.230760576058\n",
      "Average score:  0.769239423942\n",
      "Last score:  0.769239423942\n"
     ]
    },
    {
     "name": "stderr",
     "output_type": "stream",
     "text": [
      "Widget Javascript not detected.  It may not be installed properly. Did you enable the widgetsnbextension? If not, then run \"jupyter nbextension enable --py --sys-prefix widgetsnbextension\"\n"
     ]
    },
    {
     "name": "stdout",
     "output_type": "stream",
     "text": [
      "\n",
      "Number of sites:  6153\n",
      "Portion of sites:  0.230760576058\n",
      "Average score:  0.769239423942\n",
      "Last score:  0.769239423942\n"
     ]
    },
    {
     "name": "stderr",
     "output_type": "stream",
     "text": [
      "Widget Javascript not detected.  It may not be installed properly. Did you enable the widgetsnbextension? If not, then run \"jupyter nbextension enable --py --sys-prefix widgetsnbextension\"\n"
     ]
    },
    {
     "name": "stdout",
     "output_type": "stream",
     "text": [
      "\n",
      "Number of sites:  6153\n",
      "Portion of sites:  0.230760576058\n",
      "Average score:  0.769239423942\n",
      "Last score:  0.769239423942\n"
     ]
    },
    {
     "name": "stderr",
     "output_type": "stream",
     "text": [
      "Widget Javascript not detected.  It may not be installed properly. Did you enable the widgetsnbextension? If not, then run \"jupyter nbextension enable --py --sys-prefix widgetsnbextension\"\n"
     ]
    },
    {
     "name": "stdout",
     "output_type": "stream",
     "text": [
      "\n",
      "Number of sites:  6153\n",
      "Portion of sites:  0.230760576058\n",
      "Average score:  0.770282028203\n",
      "Last score:  0.770289528953\n"
     ]
    },
    {
     "name": "stderr",
     "output_type": "stream",
     "text": [
      "Widget Javascript not detected.  It may not be installed properly. Did you enable the widgetsnbextension? If not, then run \"jupyter nbextension enable --py --sys-prefix widgetsnbextension\"\n"
     ]
    },
    {
     "name": "stdout",
     "output_type": "stream",
     "text": [
      "\n",
      "Number of sites:  6153\n",
      "Portion of sites:  0.230760576058\n",
      "Average score:  0.773837383738\n",
      "Last score:  0.773364836484\n"
     ]
    },
    {
     "name": "stderr",
     "output_type": "stream",
     "text": [
      "Widget Javascript not detected.  It may not be installed properly. Did you enable the widgetsnbextension? If not, then run \"jupyter nbextension enable --py --sys-prefix widgetsnbextension\"\n"
     ]
    },
    {
     "name": "stdout",
     "output_type": "stream",
     "text": [
      "\n",
      "Number of sites:  6153\n",
      "Portion of sites:  0.230760576058\n",
      "Average score:  0.775892589259\n",
      "Last score:  0.775052505251\n"
     ]
    },
    {
     "name": "stderr",
     "output_type": "stream",
     "text": [
      "Widget Javascript not detected.  It may not be installed properly. Did you enable the widgetsnbextension? If not, then run \"jupyter nbextension enable --py --sys-prefix widgetsnbextension\"\n"
     ]
    },
    {
     "name": "stdout",
     "output_type": "stream",
     "text": [
      "\n",
      "Number of sites:  6153\n",
      "Portion of sites:  0.230760576058\n",
      "Average score:  0.776785178518\n",
      "Last score:  0.776065106511\n"
     ]
    },
    {
     "name": "stderr",
     "output_type": "stream",
     "text": [
      "Widget Javascript not detected.  It may not be installed properly. Did you enable the widgetsnbextension? If not, then run \"jupyter nbextension enable --py --sys-prefix widgetsnbextension\"\n"
     ]
    },
    {
     "name": "stdout",
     "output_type": "stream",
     "text": [
      "\n",
      "Number of sites:  6153\n",
      "Portion of sites:  0.230760576058\n",
      "Average score:  0.776822682268\n",
      "Last score:  0.776177617762\n"
     ]
    }
   ],
   "source": [
    "test = []\n",
    "train = []\n",
    "cnf = []\n",
    "for i in md:\n",
    "    m = Magnesium(\"set_minresol_N_5.csv\", fold='input files/',colours = ['#f6c35b', '#929292'],\n",
    "                 model = RandomForestClassifier(n_estimators=200, max_depth = i, n_jobs=-1, criterion='gini'),  \n",
    "                  with_groups = False)\n",
    "    data = m.compute(n_splits = 5, test_size = 0.3, plots = False, reduce_features = False, balanced = False)\n",
    "    train.append(data['train score'])\n",
    "    test.append(data['test score'])\n",
    "    cnf.append(data['confusion'][1])"
   ]
  },
  {
   "cell_type": "code",
   "execution_count": 10,
   "metadata": {
    "collapsed": false
   },
   "outputs": [
    {
     "data": {
      "image/png": "[encoded data removed]",
      "text/plain": [
       "<matplotlib.figure.Figure at 0x224b4d6dcc0>"
      ]
     },
     "metadata": {},
     "output_type": "display_data"
    },
    {
     "data": {
      "image/png": "[encoded data removed]",
      "text/plain": [
       "<matplotlib.figure.Figure at 0x22472021d30>"
      ]
     },
     "metadata": {},
     "output_type": "display_data"
    }
   ],
   "source": [
    "#md = [1,5,10, 15, 20, 25, 30, 40]\n",
    "ax = plt.figure(figsize = (15,10)).add_subplot(211)\n",
    "#ax.plot(list(range(len(test))), test, color = 'teal', label = 'Mean test accuracy')\n",
    "ax.plot(md, test, color = 'teal', label = 'Mean test accuracy')\n",
    "ax.scatter(md, test, color = 'teal')\n",
    "ax.plot(md, train, color = 'purple', label = 'Mean train accuracy')\n",
    "ax.scatter(md, train, color = 'purple')\n",
    "ax.plot(md, [i[1][0,0] for i in cnf], '-.',color = 'grey', label = 'TN')\n",
    "ax.scatter(md, [i[1][0,0] for i in cnf], color = 'grey')\n",
    "ax.plot(md, [i[1][1,1] for i in cnf], '--',color = 'darkgrey', label = 'TP')\n",
    "ax.scatter(md, [i[1][1,1] for i in cnf],  color = 'darkgrey')\n",
    "plt.legend()\n",
    "plt.title('Accuracy scores', fontsize = 12)\n",
    "\n",
    "ax = plt.figure(figsize = (15,10)).add_subplot(212)\n",
    "#ax.plot(list(range(len(test))), test, color = 'teal', label = 'Mean test accuracy')\n",
    "ax.plot(md, test, color = 'teal', label = 'Mean test accuracy')\n",
    "ax.scatter(md, test, color = 'teal')\n",
    "ax.plot(md, train, color = 'purple', label = 'Mean train accuracy')\n",
    "ax.scatter(md, train, color = 'purple')\n",
    "plt.legend()\n",
    "plt.title('Accuracy scores', fontsize = 12)\n",
    "\n",
    "plt.show()"
   ]
  },
  {
   "cell_type": "raw",
   "metadata": {},
   "source": [
    "ax = plt.figure(figsize = (15,10)).add_subplot(111)\n",
    "ax.plot(md[:3], test[:3], color = 'teal', label = 'Mean test accuracy')\n",
    "ax.scatter(md[:3], test[:3], color = 'teal')\n",
    "ax.plot(md[:3], train[:3], color = 'purple', label = 'Mean train accuracy')\n",
    "ax.scatter(md[:3], train[:3], color = 'purple')\n",
    "#new_ticks = [ax.get_xticks()[i] for i in range(len(ax.get_xticks())) if i%2 == 1]\n",
    "#ax.set_xticks(new_ticks)\n",
    "#ax.set_xticklabels(md[:3])\n",
    "plt.legend()\n",
    "plt.title('Accuracy scores', fontsize = 12)\n",
    "plt.show()"
   ]
  },
  {
   "cell_type": "markdown",
   "metadata": {},
   "source": [
    "### Leaves"
   ]
  },
  {
   "cell_type": "code",
   "execution_count": 6,
   "metadata": {
    "collapsed": true
   },
   "outputs": [],
   "source": [
    "lv = [1,5,10, 15, 20, 100]"
   ]
  },
  {
   "cell_type": "code",
   "execution_count": 7,
   "metadata": {
    "collapsed": false
   },
   "outputs": [
    {
     "name": "stderr",
     "output_type": "stream",
     "text": [
      "Widget Javascript not detected.  It may not be installed properly. Did you enable the widgetsnbextension? If not, then run \"jupyter nbextension enable --py --sys-prefix widgetsnbextension\"\n"
     ]
    },
    {
     "name": "stdout",
     "output_type": "stream",
     "text": [
      "\n",
      "Number of sites:  3991\n",
      "Portion of sites:  0.21432790935\n",
      "Average score:  0.78567209065\n",
      "Last score:  0.78567209065\n"
     ]
    },
    {
     "name": "stderr",
     "output_type": "stream",
     "text": [
      "Widget Javascript not detected.  It may not be installed properly. Did you enable the widgetsnbextension? If not, then run \"jupyter nbextension enable --py --sys-prefix widgetsnbextension\"\n"
     ]
    },
    {
     "name": "stdout",
     "output_type": "stream",
     "text": [
      "\n",
      "Number of sites:  3991\n",
      "Portion of sites:  0.21432790935\n",
      "Average score:  0.78567209065\n",
      "Last score:  0.78567209065\n"
     ]
    },
    {
     "name": "stderr",
     "output_type": "stream",
     "text": [
      "Widget Javascript not detected.  It may not be installed properly. Did you enable the widgetsnbextension? If not, then run \"jupyter nbextension enable --py --sys-prefix widgetsnbextension\"\n"
     ]
    },
    {
     "name": "stdout",
     "output_type": "stream",
     "text": [
      "\n",
      "Number of sites:  3991\n",
      "Portion of sites:  0.21432790935\n",
      "Average score:  0.78567209065\n",
      "Last score:  0.78567209065\n"
     ]
    },
    {
     "name": "stderr",
     "output_type": "stream",
     "text": [
      "Widget Javascript not detected.  It may not be installed properly. Did you enable the widgetsnbextension? If not, then run \"jupyter nbextension enable --py --sys-prefix widgetsnbextension\"\n"
     ]
    },
    {
     "name": "stdout",
     "output_type": "stream",
     "text": [
      "\n",
      "Number of sites:  3991\n",
      "Portion of sites:  0.21432790935\n",
      "Average score:  0.78567209065\n",
      "Last score:  0.78567209065\n"
     ]
    },
    {
     "name": "stderr",
     "output_type": "stream",
     "text": [
      "Widget Javascript not detected.  It may not be installed properly. Did you enable the widgetsnbextension? If not, then run \"jupyter nbextension enable --py --sys-prefix widgetsnbextension\"\n"
     ]
    },
    {
     "name": "stdout",
     "output_type": "stream",
     "text": [
      "\n",
      "Number of sites:  3991\n",
      "Portion of sites:  0.21432790935\n",
      "Average score:  0.78567209065\n",
      "Last score:  0.78567209065\n"
     ]
    },
    {
     "name": "stderr",
     "output_type": "stream",
     "text": [
      "Widget Javascript not detected.  It may not be installed properly. Did you enable the widgetsnbextension? If not, then run \"jupyter nbextension enable --py --sys-prefix widgetsnbextension\"\n"
     ]
    },
    {
     "name": "stdout",
     "output_type": "stream",
     "text": [
      "\n",
      "Number of sites:  3991\n",
      "Portion of sites:  0.21432790935\n",
      "Average score:  0.78567209065\n",
      "Last score:  0.78567209065\n"
     ]
    }
   ],
   "source": [
    "test_l = []\n",
    "train_l = []\n",
    "cnf_l = []\n",
    "for i in lv:\n",
    "    m = Magnesium(\"set_minresol_N_5_b_b.csv\", fold='input files/',colours = ['#f6c35b', '#929292'],\n",
    "                 model = RandomForestClassifier(n_estimators=200, max_depth = 10, min_samples_leaf=i, n_jobs=-1, \n",
    "                                                criterion='gini'),  with_groups = False)\n",
    "    data = m.compute(n_splits = 5, test_size = 0.3, plots = False, reduce_features = False)\n",
    "    train_l.append(data['train score'])\n",
    "    test_l.append(data['test score'])\n",
    "    cnf_l.append(data['confusion'][1])"
   ]
  },
  {
   "cell_type": "code",
   "execution_count": 9,
   "metadata": {
    "collapsed": false
   },
   "outputs": [
    {
     "data": {
      "image/png": "[encoded data removed]",
      "text/plain": [
       "<matplotlib.figure.Figure at 0x2240236b470>"
      ]
     },
     "metadata": {},
     "output_type": "display_data"
    },
    {
     "data": {
      "image/png": "[encoded data removed]",
      "text/plain": [
       "<matplotlib.figure.Figure at 0x2244e2b8940>"
      ]
     },
     "metadata": {},
     "output_type": "display_data"
    }
   ],
   "source": [
    "ax = plt.figure(figsize = (15,10)).add_subplot(211)\n",
    "ax.plot(lv, test_l, color = 'teal', label = 'Mean test accuracy')\n",
    "ax.scatter(lv, test_l, color = 'teal')\n",
    "ax.plot(lv, train_l, color = 'purple', label = 'Mean train accuracy')\n",
    "ax.scatter(lv, train_l, color = 'purple')\n",
    "ax.plot(lv, [i[0,0] for i in cnf_l], '-.',color = 'grey', label = 'TN')\n",
    "ax.scatter(lv, [i[0,0] for i in cnf_l], color = 'grey')\n",
    "ax.plot(lv, [i[1,1] for i in cnf_l], '--',color = 'darkgrey', label = 'TP')\n",
    "ax.scatter(lv, [i[1,1] for i in cnf_l],  color = 'darkgrey')\n",
    "plt.legend()\n",
    "plt.title('Accuracy scores', fontsize = 12)\n",
    "\n",
    "ax = plt.figure(figsize = (15,10)).add_subplot(212)\n",
    "ax.plot(lv, test_l, color = 'teal', label = 'Mean test accuracy')\n",
    "ax.scatter(lv, test_l, color = 'teal')\n",
    "ax.plot(lv, train_l, color = 'purple', label = 'Mean train accuracy')\n",
    "ax.scatter(lv, train_l, color = 'purple')\n",
    "plt.legend()\n",
    "plt.title('Accuracy scores', fontsize = 12)\n",
    "plt.show()\n",
    "\n",
    "\n",
    "plt.show()"
   ]
  },
  {
   "cell_type": "markdown",
   "metadata": {},
   "source": [
    "### Estimators"
   ]
  },
  {
   "cell_type": "raw",
   "metadata": {},
   "source": [
    "n = [25, 50, 75, 100, 125, 150, 175, 200]"
   ]
  },
  {
   "cell_type": "raw",
   "metadata": {},
   "source": [
    "test = []\n",
    "train = []\n",
    "for i in n:\n",
    "    m = Magnesium(\"set_minresol_N_5_b_b.csv\", fold='input files/',colours = ['#f6c35b', '#929292'],\n",
    "                 model = RandomForestClassifier(n_estimators=i, n_jobs=-1, criterion='gini'),  with_groups = True)\n",
    "    data = m.compute(n_splits = 5, test_size = 0.3, plots = False, reduce_features = False)\n",
    "    train.append(data['train score'])\n",
    "    test.append(data['test score'])"
   ]
  },
  {
   "cell_type": "raw",
   "metadata": {},
   "source": [
    "ax = plt.figure().add_subplot(111)\n",
    "ax.plot(list(range(len(test))), test, color = 'teal', label = 'Mean test accuracy')\n",
    "ax.plot(list(range(len(train))), test, color = 'purple', label = 'Mean train accuracy')\n",
    "ax.set_xticklabels([0]+n)\n",
    "plt.legend()\n",
    "plt.title('Accuracy scores', fontsize = 12)\n",
    "plt.show()"
   ]
  }
 ],
 "metadata": {
  "anaconda-cloud": {},
  "kernelspec": {
   "display_name": "Python 3",
   "language": "python",
   "name": "root"
  },
  "language_info": {
   "codemirror_mode": {
    "name": "ipython",
    "version": 3
   },
   "file_extension": ".py",
   "mimetype": "text/x-python",
   "name": "python",
   "nbconvert_exporter": "python",
   "pygments_lexer": "ipython3",
   "version": "3.5.2"
  },
  "widgets": {
   "state": {
    "01c8ec6e797e44c882b64220237f242c": {
     "views": [
      {
       "cell_index": 3
      }
     ]
    },
    "0206392db5f643dd9ce4bc15c1a9193a": {
     "views": [
      {
       "cell_index": 8
      }
     ]
    },
    "04db26f282364aa8adcaeeb2cc4763e5": {
     "views": [
      {
       "cell_index": 3
      }
     ]
    },
    "0987bfec726e4cbf9d4c75d224051561": {
     "views": [
      {
       "cell_index": 3
      }
     ]
    },
    "1b3b66f87785495793a661286e9fbe6c": {
     "views": [
      {
       "cell_index": 3
      }
     ]
    },
    "212cdbb5fcd8458c9680a916e6625317": {
     "views": [
      {
       "cell_index": 3
      }
     ]
    },
    "247deeee47d545e290f74355fc5cac0b": {
     "views": [
      {
       "cell_index": 3
      }
     ]
    },
    "39a1e6aab7f341ee944513e99f4e87ef": {
     "views": [
      {
       "cell_index": 7
      }
     ]
    },
    "3abab00da5e94461b159768767ef306a": {
     "views": [
      {
       "cell_index": 3
      }
     ]
    },
    "41b922e9778e4aacb458a167ba227c1d": {
     "views": [
      {
       "cell_index": 3
      }
     ]
    },
    "451ac34dd2944964937e92e0ba9eb1aa": {
     "views": [
      {
       "cell_index": 3
      }
     ]
    },
    "47475b9634894cf6a949e4c31760cee2": {
     "views": [
      {
       "cell_index": 2
      }
     ]
    },
    "48e91047812544b68ec44e19e721e165": {
     "views": [
      {
       "cell_index": 2
      }
     ]
    },
    "4d962ba10da3484188b3bce4c95b8ca3": {
     "views": [
      {
       "cell_index": 3
      }
     ]
    },
    "533bb68316bb4e81b87546e69ffaa021": {
     "views": [
      {
       "cell_index": 3
      }
     ]
    },
    "62a646d3e876471b816dfc441064e9d6": {
     "views": [
      {
       "cell_index": 2
      }
     ]
    },
    "65332a84c7934ff0b8993ffc731b5314": {
     "views": [
      {
       "cell_index": 8
      }
     ]
    },
    "6583efaa4d6742f3a98000aeec5c3cd3": {
     "views": [
      {
       "cell_index": 3
      }
     ]
    },
    "666c53accdb043bfb138deb442875ce4": {
     "views": [
      {
       "cell_index": 3
      }
     ]
    },
    "66df022646eb484b80f409255dbb71b7": {
     "views": [
      {
       "cell_index": 3
      }
     ]
    },
    "7324f693166b462595df67481360df2e": {
     "views": [
      {
       "cell_index": 3
      }
     ]
    },
    "84119ba514ff4c0bbc0fba0532effa27": {
     "views": [
      {
       "cell_index": 2
      }
     ]
    },
    "848b42b29dc64924a5181ce80e52a14e": {
     "views": [
      {
       "cell_index": 8
      }
     ]
    },
    "88a6a0b9acd2409da2d3d6eab88f3ad3": {
     "views": [
      {
       "cell_index": 7
      }
     ]
    },
    "95e4e78b994f4bbc90773709e0c53502": {
     "views": [
      {
       "cell_index": 3
      }
     ]
    },
    "98060c8b7bec4ae2a6d8821e99c9e5cc": {
     "views": [
      {
       "cell_index": 8
      }
     ]
    },
    "993879bc3b974f579fe6a0fffd871190": {
     "views": [
      {
       "cell_index": 3
      }
     ]
    },
    "9ba4da9816554d3bb4970e3752b083cd": {
     "views": [
      {
       "cell_index": 3
      }
     ]
    },
    "a8321f24c6cb4ef5aa0fbbeaf8018981": {
     "views": [
      {
       "cell_index": 3
      }
     ]
    },
    "b35c938e70bc4ab0b1f248572c9aa5ad": {
     "views": [
      {
       "cell_index": 8
      }
     ]
    },
    "b593395a459c48ee978bda4c66e8a3e7": {
     "views": [
      {
       "cell_index": 3
      }
     ]
    },
    "ba4aca2019e44bbca81e932779cab633": {
     "views": [
      {
       "cell_index": 7
      }
     ]
    },
    "be505bc0eeff45d686627601958df1dd": {
     "views": [
      {
       "cell_index": 3
      }
     ]
    },
    "c25a7e1c91194dd994e752e2e6f4b7e2": {
     "views": [
      {
       "cell_index": 3
      }
     ]
    },
    "c6df24a276bd48f7b79b3be0f5e5844b": {
     "views": [
      {
       "cell_index": 3
      }
     ]
    },
    "c9315b887a9f401faa15a4cac8835024": {
     "views": [
      {
       "cell_index": 8
      }
     ]
    },
    "d3955c7362f34965aa5063ba2a1bd87e": {
     "views": [
      {
       "cell_index": 3
      }
     ]
    },
    "ebb1ef1ed6d546fbac6049c3da7d1057": {
     "views": [
      {
       "cell_index": 3
      }
     ]
    },
    "ee00df196f9f484da70f1230f45b9372": {
     "views": [
      {
       "cell_index": 3
      }
     ]
    },
    "fb0f1e65383246d8a9d5f8bd8fbe41c2": {
     "views": [
      {
       "cell_index": 3
      }
     ]
    },
    "fd5b170fe129479ab463e98a846c1605": {
     "views": [
      {
       "cell_index": 3
      }
     ]
    }
   },
   "version": "1.2.0"
  }
 },
 "nbformat": 4,
 "nbformat_minor": 2
}
