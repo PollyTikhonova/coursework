{
 "cells": [
  {
   "cell_type": "code",
   "execution_count": 1,
   "metadata": {
    "collapsed": false
   },
   "outputs": [],
   "source": [
    "from class_magnesium_not_drop_na import *"
   ]
  },
  {
   "cell_type": "markdown",
   "metadata": {},
   "source": [
    "### Max depth"
   ]
  },
  {
   "cell_type": "code",
   "execution_count": 2,
   "metadata": {
    "collapsed": true
   },
   "outputs": [],
   "source": [
    "md = list(range(1,11)) + [15, 20, 25, 30, 35]"
   ]
  },
  {
   "cell_type": "code",
   "execution_count": 3,
   "metadata": {
    "collapsed": false
   },
   "outputs": [
    {
     "name": "stdout",
     "output_type": "stream",
     "text": [
      "\n",
      "Maxdepth =  1\n",
      "(41020,)\n",
      "(88877,)\n",
      "Before:  (88877, 361)\n",
      "After:  (41020, 361)\n"
     ]
    },
    {
     "name": "stderr",
     "output_type": "stream",
     "text": [
      "Widget Javascript not detected.  It may not be installed properly. Did you enable the widgetsnbextension? If not, then run \"jupyter nbextension enable --py --sys-prefix widgetsnbextension\"\n"
     ]
    },
    {
     "name": "stdout",
     "output_type": "stream",
     "text": [
      "\n",
      "Number of sites:  6153\n",
      "Portion of sites:  0.5\n",
      "Average score:  0.60308792459\n",
      "Last score:  0.60409556314\n",
      "\n",
      "Maxdepth =  2\n",
      "(41020,)\n",
      "(88877,)\n",
      "Before:  (88877, 361)\n",
      "After:  (41020, 361)\n"
     ]
    },
    {
     "name": "stderr",
     "output_type": "stream",
     "text": [
      "Widget Javascript not detected.  It may not be installed properly. Did you enable the widgetsnbextension? If not, then run \"jupyter nbextension enable --py --sys-prefix widgetsnbextension\"\n"
     ]
    },
    {
     "name": "stdout",
     "output_type": "stream",
     "text": [
      "\n",
      "Number of sites:  6153\n",
      "Portion of sites:  0.5\n",
      "Average score:  0.611929140257\n",
      "Last score:  0.61482203803\n",
      "\n",
      "Maxdepth =  3\n",
      "(41020,)\n",
      "(88877,)\n",
      "Before:  (88877, 361)\n",
      "After:  (41020, 361)\n"
     ]
    },
    {
     "name": "stderr",
     "output_type": "stream",
     "text": [
      "Widget Javascript not detected.  It may not be installed properly. Did you enable the widgetsnbextension? If not, then run \"jupyter nbextension enable --py --sys-prefix widgetsnbextension\"\n"
     ]
    },
    {
     "name": "stdout",
     "output_type": "stream",
     "text": [
      "\n",
      "Number of sites:  6153\n",
      "Portion of sites:  0.5\n",
      "Average score:  0.620494067934\n",
      "Last score:  0.620591581342\n",
      "\n",
      "Maxdepth =  4\n",
      "(41020,)\n",
      "(88877,)\n",
      "Before:  (88877, 361)\n",
      "After:  (41020, 361)\n"
     ]
    },
    {
     "name": "stderr",
     "output_type": "stream",
     "text": [
      "Widget Javascript not detected.  It may not be installed properly. Did you enable the widgetsnbextension? If not, then run \"jupyter nbextension enable --py --sys-prefix widgetsnbextension\"\n"
     ]
    },
    {
     "name": "stdout",
     "output_type": "stream",
     "text": [
      "\n",
      "Number of sites:  6153\n",
      "Portion of sites:  0.5\n",
      "Average score:  0.626686169348\n",
      "Last score:  0.625792296441\n",
      "\n",
      "Maxdepth =  5\n",
      "(41020,)\n",
      "(88877,)\n",
      "Before:  (88877, 361)\n",
      "After:  (41020, 361)\n"
     ]
    },
    {
     "name": "stderr",
     "output_type": "stream",
     "text": [
      "Widget Javascript not detected.  It may not be installed properly. Did you enable the widgetsnbextension? If not, then run \"jupyter nbextension enable --py --sys-prefix widgetsnbextension\"\n"
     ]
    },
    {
     "name": "stdout",
     "output_type": "stream",
     "text": [
      "\n",
      "Number of sites:  6153\n",
      "Portion of sites:  0.5\n",
      "Average score:  0.63273200065\n",
      "Last score:  0.629855355111\n",
      "\n",
      "Maxdepth =  6\n",
      "(41020,)\n",
      "(88877,)\n",
      "Before:  (88877, 361)\n",
      "After:  (41020, 361)\n"
     ]
    },
    {
     "name": "stderr",
     "output_type": "stream",
     "text": [
      "Widget Javascript not detected.  It may not be installed properly. Did you enable the widgetsnbextension? If not, then run \"jupyter nbextension enable --py --sys-prefix widgetsnbextension\"\n"
     ]
    },
    {
     "name": "stdout",
     "output_type": "stream",
     "text": [
      "\n",
      "Number of sites:  6153\n",
      "Portion of sites:  0.5\n",
      "Average score:  0.642304566878\n",
      "Last score:  0.637900211279\n",
      "\n",
      "Maxdepth =  7\n",
      "(41020,)\n",
      "(88877,)\n",
      "Before:  (88877, 361)\n",
      "After:  (41020, 361)\n"
     ]
    },
    {
     "name": "stderr",
     "output_type": "stream",
     "text": [
      "Widget Javascript not detected.  It may not be installed properly. Did you enable the widgetsnbextension? If not, then run \"jupyter nbextension enable --py --sys-prefix widgetsnbextension\"\n"
     ]
    },
    {
     "name": "stdout",
     "output_type": "stream",
     "text": [
      "\n",
      "Number of sites:  6153\n",
      "Portion of sites:  0.5\n",
      "Average score:  0.647147732813\n",
      "Last score:  0.646432634487\n",
      "\n",
      "Maxdepth =  8\n",
      "(41020,)\n",
      "(88877,)\n",
      "Before:  (88877, 361)\n",
      "After:  (41020, 361)\n"
     ]
    },
    {
     "name": "stderr",
     "output_type": "stream",
     "text": [
      "Widget Javascript not detected.  It may not be installed properly. Did you enable the widgetsnbextension? If not, then run \"jupyter nbextension enable --py --sys-prefix widgetsnbextension\"\n"
     ]
    },
    {
     "name": "stdout",
     "output_type": "stream",
     "text": [
      "\n",
      "Number of sites:  6153\n",
      "Portion of sites:  0.5\n",
      "Average score:  0.656379002113\n",
      "Last score:  0.65268974484\n",
      "\n",
      "Maxdepth =  9\n",
      "(41020,)\n",
      "(88877,)\n",
      "Before:  (88877, 361)\n",
      "After:  (41020, 361)\n"
     ]
    },
    {
     "name": "stderr",
     "output_type": "stream",
     "text": [
      "Widget Javascript not detected.  It may not be installed properly. Did you enable the widgetsnbextension? If not, then run \"jupyter nbextension enable --py --sys-prefix widgetsnbextension\"\n"
     ]
    },
    {
     "name": "stdout",
     "output_type": "stream",
     "text": [
      "\n",
      "Number of sites:  6153\n",
      "Portion of sites:  0.5\n",
      "Average score:  0.661790996262\n",
      "Last score:  0.656671542337\n",
      "\n",
      "Maxdepth =  10\n",
      "(41020,)\n",
      "(88877,)\n",
      "Before:  (88877, 361)\n",
      "After:  (41020, 361)\n"
     ]
    },
    {
     "name": "stderr",
     "output_type": "stream",
     "text": [
      "Widget Javascript not detected.  It may not be installed properly. Did you enable the widgetsnbextension? If not, then run \"jupyter nbextension enable --py --sys-prefix widgetsnbextension\"\n"
     ]
    },
    {
     "name": "stdout",
     "output_type": "stream",
     "text": [
      "\n",
      "Number of sites:  6153\n",
      "Portion of sites:  0.5\n",
      "Average score:  0.66830814237\n",
      "Last score:  0.663334958557\n",
      "\n",
      "Maxdepth =  15\n",
      "(41020,)\n",
      "(88877,)\n",
      "Before:  (88877, 361)\n",
      "After:  (41020, 361)\n"
     ]
    },
    {
     "name": "stderr",
     "output_type": "stream",
     "text": [
      "Widget Javascript not detected.  It may not be installed properly. Did you enable the widgetsnbextension? If not, then run \"jupyter nbextension enable --py --sys-prefix widgetsnbextension\"\n"
     ]
    },
    {
     "name": "stdout",
     "output_type": "stream",
     "text": [
      "\n",
      "Number of sites:  6153\n",
      "Portion of sites:  0.5\n",
      "Average score:  0.700877620673\n",
      "Last score:  0.69413294328\n",
      "\n",
      "Maxdepth =  20\n",
      "(41020,)\n",
      "(88877,)\n",
      "Before:  (88877, 361)\n",
      "After:  (41020, 361)\n"
     ]
    },
    {
     "name": "stderr",
     "output_type": "stream",
     "text": [
      "Widget Javascript not detected.  It may not be installed properly. Did you enable the widgetsnbextension? If not, then run \"jupyter nbextension enable --py --sys-prefix widgetsnbextension\"\n"
     ]
    },
    {
     "name": "stdout",
     "output_type": "stream",
     "text": [
      "\n",
      "Number of sites:  6153\n",
      "Portion of sites:  0.5\n",
      "Average score:  0.710352673493\n",
      "Last score:  0.70461563465\n",
      "\n",
      "Maxdepth =  25\n",
      "(41020,)\n",
      "(88877,)\n",
      "Before:  (88877, 361)\n",
      "After:  (41020, 361)\n"
     ]
    },
    {
     "name": "stderr",
     "output_type": "stream",
     "text": [
      "Widget Javascript not detected.  It may not be installed properly. Did you enable the widgetsnbextension? If not, then run \"jupyter nbextension enable --py --sys-prefix widgetsnbextension\"\n"
     ]
    },
    {
     "name": "stdout",
     "output_type": "stream",
     "text": [
      "\n",
      "Number of sites:  6153\n",
      "Portion of sites:  0.5\n",
      "Average score:  0.70944254835\n",
      "Last score:  0.707134731026\n",
      "\n",
      "Maxdepth =  30\n",
      "(41020,)\n",
      "(88877,)\n",
      "Before:  (88877, 361)\n",
      "After:  (41020, 361)\n"
     ]
    },
    {
     "name": "stderr",
     "output_type": "stream",
     "text": [
      "Widget Javascript not detected.  It may not be installed properly. Did you enable the widgetsnbextension? If not, then run \"jupyter nbextension enable --py --sys-prefix widgetsnbextension\"\n"
     ]
    },
    {
     "name": "stdout",
     "output_type": "stream",
     "text": [
      "\n",
      "Number of sites:  6153\n",
      "Portion of sites:  0.5\n",
      "Average score:  0.709978872095\n",
      "Last score:  0.703884284089\n",
      "\n",
      "Maxdepth =  35\n",
      "(41020,)\n",
      "(88877,)\n",
      "Before:  (88877, 361)\n",
      "After:  (41020, 361)\n"
     ]
    },
    {
     "name": "stderr",
     "output_type": "stream",
     "text": [
      "Widget Javascript not detected.  It may not be installed properly. Did you enable the widgetsnbextension? If not, then run \"jupyter nbextension enable --py --sys-prefix widgetsnbextension\"\n"
     ]
    },
    {
     "name": "stdout",
     "output_type": "stream",
     "text": [
      "\n",
      "Number of sites:  6153\n",
      "Portion of sites:  0.5\n",
      "Average score:  0.709523809524\n",
      "Last score:  0.705834552251\n"
     ]
    }
   ],
   "source": [
    "test = []\n",
    "train = []\n",
    "cnf = []\n",
    "for i in md:\n",
    "    print()\n",
    "    print('Maxdepth = ',i)\n",
    "    m = Magnesium(\"set_minresol_N_5.csv\", fold='input files/',colours = ['#f6c35b', '#929292'],\n",
    "                 model = RandomForestClassifier(n_estimators=200, max_depth = i, n_jobs=-1, criterion='gini'),\n",
    "                  with_groups = False)\n",
    "    data = m.compute(n_splits = 5, test_size = 0.3, plots = False, reduce_features = False, balanced = True)\n",
    "    train.append(data['train score'])\n",
    "    test.append(data['test score'])\n",
    "    cnf.append(data['confusion'][1])"
   ]
  },
  {
   "cell_type": "code",
   "execution_count": 5,
   "metadata": {
    "collapsed": false
   },
   "outputs": [
    {
     "data": {
      "image/png": "[encoded data removed]",
      "text/plain": [
       "<matplotlib.figure.Figure at 0x291b38a4278>"
      ]
     },
     "metadata": {},
     "output_type": "display_data"
    },
    {
     "data": {
      "image/png": "[encoded data removed]",
      "text/plain": [
       "<matplotlib.figure.Figure at 0x2912606c9b0>"
      ]
     },
     "metadata": {},
     "output_type": "display_data"
    }
   ],
   "source": [
    "ax = plt.figure(figsize = (15,10)).add_subplot(211)\n",
    "ax.plot(md, test, color = 'teal', label = 'Mean test accuracy')\n",
    "ax.scatter(md, test, color = 'teal')\n",
    "ax.plot(md, train, color = 'purple', label = 'Mean train accuracy')\n",
    "ax.scatter(md, train, color = 'purple')\n",
    "ax.plot(md, [i[0,0] for i in cnf], '-.',color = 'grey', label = 'TN')\n",
    "ax.scatter(md, [i[0,0] for i in cnf], color = 'grey')\n",
    "ax.plot(md, [i[1,1] for i in cnf], '--',color = 'darkgrey', label = 'TP')\n",
    "ax.scatter(md, [i[1,1] for i in cnf],  color = 'darkgrey')\n",
    "plt.legend()\n",
    "plt.title('Accuracy scores', fontsize = 12)\n",
    "\n",
    "ax = plt.figure(figsize = (15,10)).add_subplot(212)\n",
    "ax.plot(md, test, color = 'teal', label = 'Mean test accuracy')\n",
    "ax.scatter(md, test, color = 'teal')\n",
    "ax.plot(md, train, color = 'purple', label = 'Mean train accuracy')\n",
    "ax.scatter(md, train, color = 'purple')\n",
    "plt.legend()\n",
    "plt.title('Accuracy scores', fontsize = 12)\n",
    "plt.show()"
   ]
  },
  {
   "cell_type": "raw",
   "metadata": {
    "collapsed": true
   },
   "source": [
    "ax = plt.figure(figsize = (15,10)).add_subplot(111)\n",
    "ax.plot(md[:-2], test[:-2], color = 'teal', label = 'Mean test accuracy')\n",
    "ax.scatter(md[:-2], test[:-2], color = 'teal')\n",
    "ax.plot(md[:-2], train[:-2], color = 'purple', label = 'Mean train accuracy')\n",
    "ax.scatter(md[:-2], train[:-2], color = 'purple')\n",
    "#new_ticks = [ax.get_xticks()[i] for i in range(len(ax.get_xticks())) if i%2 == 1]\n",
    "ax.set_xticks(md[:-2])\n",
    "#ax.set_xticklabels(md)\n",
    "plt.legend()\n",
    "plt.title('Accuracy scores', fontsize = 12)\n",
    "plt.show()"
   ]
  },
  {
   "cell_type": "markdown",
   "metadata": {},
   "source": [
    "### Leaves"
   ]
  },
  {
   "cell_type": "code",
   "execution_count": 6,
   "metadata": {
    "collapsed": true
   },
   "outputs": [],
   "source": [
    "lv = [1,5,10, 15, 20, 25, 30, 40, 45, 50, 55, 60, 65, 70, 75, 80, 100, 120, 130, 140, 150, 160, 170, 180, 190, 200]\n",
    "#lv = [220, 250, 280, 300, 350, 400]"
   ]
  },
  {
   "cell_type": "code",
   "execution_count": 7,
   "metadata": {
    "collapsed": false
   },
   "outputs": [
    {
     "name": "stdout",
     "output_type": "stream",
     "text": [
      "\n",
      "Maxdepth =  1\n",
      "(41020,)\n",
      "(88877,)\n",
      "Before:  (88877, 361)\n",
      "After:  (41020, 361)\n"
     ]
    },
    {
     "name": "stderr",
     "output_type": "stream",
     "text": [
      "Widget Javascript not detected.  It may not be installed properly. Did you enable the widgetsnbextension? If not, then run \"jupyter nbextension enable --py --sys-prefix widgetsnbextension\"\n"
     ]
    },
    {
     "name": "stdout",
     "output_type": "stream",
     "text": [
      "\n",
      "Number of sites:  6153\n",
      "Portion of sites:  0.5\n",
      "Average score:  0.708597432147\n",
      "Last score:  0.709410043881\n",
      "\n",
      "Maxdepth =  5\n",
      "(41020,)\n",
      "(88877,)\n",
      "Before:  (88877, 361)\n",
      "After:  (41020, 361)\n"
     ]
    },
    {
     "name": "stderr",
     "output_type": "stream",
     "text": [
      "Widget Javascript not detected.  It may not be installed properly. Did you enable the widgetsnbextension? If not, then run \"jupyter nbextension enable --py --sys-prefix widgetsnbextension\"\n"
     ]
    },
    {
     "name": "stdout",
     "output_type": "stream",
     "text": [
      "\n",
      "Number of sites:  6153\n",
      "Portion of sites:  0.5\n",
      "Average score:  0.705704534373\n",
      "Last score:  0.702665366488\n",
      "\n",
      "Maxdepth =  10\n",
      "(41020,)\n",
      "(88877,)\n",
      "Before:  (88877, 361)\n",
      "After:  (41020, 361)\n"
     ]
    },
    {
     "name": "stderr",
     "output_type": "stream",
     "text": [
      "Widget Javascript not detected.  It may not be installed properly. Did you enable the widgetsnbextension? If not, then run \"jupyter nbextension enable --py --sys-prefix widgetsnbextension\"\n"
     ]
    },
    {
     "name": "stdout",
     "output_type": "stream",
     "text": [
      "\n",
      "Number of sites:  6153\n",
      "Portion of sites:  0.5\n",
      "Average score:  0.70253534861\n",
      "Last score:  0.699089874858\n",
      "\n",
      "Maxdepth =  15\n",
      "(41020,)\n",
      "(88877,)\n",
      "Before:  (88877, 361)\n",
      "After:  (41020, 361)\n"
     ]
    },
    {
     "name": "stderr",
     "output_type": "stream",
     "text": [
      "Widget Javascript not detected.  It may not be installed properly. Did you enable the widgetsnbextension? If not, then run \"jupyter nbextension enable --py --sys-prefix widgetsnbextension\"\n"
     ]
    },
    {
     "name": "stdout",
     "output_type": "stream",
     "text": [
      "\n",
      "Number of sites:  6153\n",
      "Portion of sites:  0.5\n",
      "Average score:  0.696847066472\n",
      "Last score:  0.691695108077\n",
      "\n",
      "Maxdepth =  20\n",
      "(41020,)\n",
      "(88877,)\n",
      "Before:  (88877, 361)\n",
      "After:  (41020, 361)\n"
     ]
    },
    {
     "name": "stderr",
     "output_type": "stream",
     "text": [
      "Widget Javascript not detected.  It may not be installed properly. Did you enable the widgetsnbextension? If not, then run \"jupyter nbextension enable --py --sys-prefix widgetsnbextension\"\n"
     ]
    },
    {
     "name": "stdout",
     "output_type": "stream",
     "text": [
      "\n",
      "Number of sites:  6153\n",
      "Portion of sites:  0.5\n",
      "Average score:  0.691955143832\n",
      "Last score:  0.69055745165\n",
      "\n",
      "Maxdepth =  25\n",
      "(41020,)\n",
      "(88877,)\n",
      "Before:  (88877, 361)\n",
      "After:  (41020, 361)\n"
     ]
    },
    {
     "name": "stderr",
     "output_type": "stream",
     "text": [
      "Widget Javascript not detected.  It may not be installed properly. Did you enable the widgetsnbextension? If not, then run \"jupyter nbextension enable --py --sys-prefix widgetsnbextension\"\n"
     ]
    },
    {
     "name": "stdout",
     "output_type": "stream",
     "text": [
      "\n",
      "Number of sites:  6153\n",
      "Portion of sites:  0.5\n",
      "Average score:  0.684771656103\n",
      "Last score:  0.679749715586\n",
      "\n",
      "Maxdepth =  30\n",
      "(41020,)\n",
      "(88877,)\n",
      "Before:  (88877, 361)\n",
      "After:  (41020, 361)\n"
     ]
    },
    {
     "name": "stderr",
     "output_type": "stream",
     "text": [
      "Widget Javascript not detected.  It may not be installed properly. Did you enable the widgetsnbextension? If not, then run \"jupyter nbextension enable --py --sys-prefix widgetsnbextension\"\n"
     ]
    },
    {
     "name": "stdout",
     "output_type": "stream",
     "text": [
      "\n",
      "Number of sites:  6153\n",
      "Portion of sites:  0.5\n",
      "Average score:  0.681830001625\n",
      "Last score:  0.674223955794\n",
      "\n",
      "Maxdepth =  40\n",
      "(41020,)\n",
      "(88877,)\n",
      "Before:  (88877, 361)\n",
      "After:  (41020, 361)\n"
     ]
    },
    {
     "name": "stderr",
     "output_type": "stream",
     "text": [
      "Widget Javascript not detected.  It may not be installed properly. Did you enable the widgetsnbextension? If not, then run \"jupyter nbextension enable --py --sys-prefix widgetsnbextension\"\n"
     ]
    },
    {
     "name": "stdout",
     "output_type": "stream",
     "text": [
      "\n",
      "Number of sites:  6153\n",
      "Portion of sites:  0.5\n",
      "Average score:  0.676385503007\n",
      "Last score:  0.671704859418\n",
      "\n",
      "Maxdepth =  45\n",
      "(41020,)\n",
      "(88877,)\n",
      "Before:  (88877, 361)\n",
      "After:  (41020, 361)\n"
     ]
    },
    {
     "name": "stderr",
     "output_type": "stream",
     "text": [
      "Widget Javascript not detected.  It may not be installed properly. Did you enable the widgetsnbextension? If not, then run \"jupyter nbextension enable --py --sys-prefix widgetsnbextension\"\n"
     ]
    },
    {
     "name": "stdout",
     "output_type": "stream",
     "text": [
      "\n",
      "Number of sites:  6153\n",
      "Portion of sites:  0.5\n",
      "Average score:  0.67289127255\n",
      "Last score:  0.667966845441\n",
      "\n",
      "Maxdepth =  50\n",
      "(41020,)\n",
      "(88877,)\n",
      "Before:  (88877, 361)\n",
      "After:  (41020, 361)\n"
     ]
    },
    {
     "name": "stderr",
     "output_type": "stream",
     "text": [
      "Widget Javascript not detected.  It may not be installed properly. Did you enable the widgetsnbextension? If not, then run \"jupyter nbextension enable --py --sys-prefix widgetsnbextension\"\n"
     ]
    },
    {
     "name": "stdout",
     "output_type": "stream",
     "text": [
      "\n",
      "Number of sites:  6153\n",
      "Portion of sites:  0.5\n",
      "Average score:  0.671802372826\n",
      "Last score:  0.664472614985\n",
      "\n",
      "Maxdepth =  55\n",
      "(41020,)\n",
      "(88877,)\n",
      "Before:  (88877, 361)\n",
      "After:  (41020, 361)\n"
     ]
    },
    {
     "name": "stderr",
     "output_type": "stream",
     "text": [
      "Widget Javascript not detected.  It may not be installed properly. Did you enable the widgetsnbextension? If not, then run \"jupyter nbextension enable --py --sys-prefix widgetsnbextension\"\n"
     ]
    },
    {
     "name": "stdout",
     "output_type": "stream",
     "text": [
      "\n",
      "Number of sites:  6153\n",
      "Portion of sites:  0.5\n",
      "Average score:  0.669722086787\n",
      "Last score:  0.664310092638\n",
      "\n",
      "Maxdepth =  60\n",
      "(41020,)\n",
      "(88877,)\n",
      "Before:  (88877, 361)\n",
      "After:  (41020, 361)\n"
     ]
    },
    {
     "name": "stderr",
     "output_type": "stream",
     "text": [
      "Widget Javascript not detected.  It may not be installed properly. Did you enable the widgetsnbextension? If not, then run \"jupyter nbextension enable --py --sys-prefix widgetsnbextension\"\n"
     ]
    },
    {
     "name": "stdout",
     "output_type": "stream",
     "text": [
      "\n",
      "Number of sites:  6153\n",
      "Portion of sites:  0.5\n",
      "Average score:  0.668210628961\n",
      "Last score:  0.660165772794\n",
      "\n",
      "Maxdepth =  65\n",
      "(41020,)\n",
      "(88877,)\n",
      "Before:  (88877, 361)\n",
      "After:  (41020, 361)\n"
     ]
    },
    {
     "name": "stderr",
     "output_type": "stream",
     "text": [
      "Widget Javascript not detected.  It may not be installed properly. Did you enable the widgetsnbextension? If not, then run \"jupyter nbextension enable --py --sys-prefix widgetsnbextension\"\n"
     ]
    },
    {
     "name": "stdout",
     "output_type": "stream",
     "text": [
      "\n",
      "Number of sites:  6153\n",
      "Portion of sites:  0.5\n",
      "Average score:  0.666276613034\n",
      "Last score:  0.660572078661\n",
      "\n",
      "Maxdepth =  70\n",
      "(41020,)\n",
      "(88877,)\n",
      "Before:  (88877, 361)\n",
      "After:  (41020, 361)\n"
     ]
    },
    {
     "name": "stderr",
     "output_type": "stream",
     "text": [
      "Widget Javascript not detected.  It may not be installed properly. Did you enable the widgetsnbextension? If not, then run \"jupyter nbextension enable --py --sys-prefix widgetsnbextension\"\n"
     ]
    },
    {
     "name": "stdout",
     "output_type": "stream",
     "text": [
      "\n",
      "Number of sites:  6153\n",
      "Portion of sites:  0.5\n",
      "Average score:  0.663464976434\n",
      "Last score:  0.659678205753\n",
      "\n",
      "Maxdepth =  75\n",
      "(41020,)\n",
      "(88877,)\n",
      "Before:  (88877, 361)\n",
      "After:  (41020, 361)\n"
     ]
    },
    {
     "name": "stderr",
     "output_type": "stream",
     "text": [
      "Widget Javascript not detected.  It may not be installed properly. Did you enable the widgetsnbextension? If not, then run \"jupyter nbextension enable --py --sys-prefix widgetsnbextension\"\n"
     ]
    },
    {
     "name": "stdout",
     "output_type": "stream",
     "text": [
      "\n",
      "Number of sites:  6153\n",
      "Portion of sites:  0.5\n",
      "Average score:  0.662619860231\n",
      "Last score:  0.660409556314\n",
      "\n",
      "Maxdepth =  80\n",
      "(41020,)\n",
      "(88877,)\n",
      "Before:  (88877, 361)\n",
      "After:  (41020, 361)\n"
     ]
    },
    {
     "name": "stderr",
     "output_type": "stream",
     "text": [
      "Widget Javascript not detected.  It may not be installed properly. Did you enable the widgetsnbextension? If not, then run \"jupyter nbextension enable --py --sys-prefix widgetsnbextension\"\n"
     ]
    },
    {
     "name": "stdout",
     "output_type": "stream",
     "text": [
      "\n",
      "Number of sites:  6153\n",
      "Portion of sites:  0.5\n",
      "Average score:  0.663594994312\n",
      "Last score:  0.657240370551\n",
      "\n",
      "Maxdepth =  100\n",
      "(41020,)\n",
      "(88877,)\n",
      "Before:  (88877, 361)\n",
      "After:  (41020, 361)\n"
     ]
    },
    {
     "name": "stderr",
     "output_type": "stream",
     "text": [
      "Widget Javascript not detected.  It may not be installed properly. Did you enable the widgetsnbextension? If not, then run \"jupyter nbextension enable --py --sys-prefix widgetsnbextension\"\n"
     ]
    },
    {
     "name": "stdout",
     "output_type": "stream",
     "text": [
      "\n",
      "Number of sites:  6153\n",
      "Portion of sites:  0.5\n",
      "Average score:  0.656395254347\n",
      "Last score:  0.651795871932\n",
      "\n",
      "Maxdepth =  120\n",
      "(41020,)\n",
      "(88877,)\n",
      "Before:  (88877, 361)\n",
      "After:  (41020, 361)\n"
     ]
    },
    {
     "name": "stderr",
     "output_type": "stream",
     "text": [
      "Widget Javascript not detected.  It may not be installed properly. Did you enable the widgetsnbextension? If not, then run \"jupyter nbextension enable --py --sys-prefix widgetsnbextension\"\n"
     ]
    },
    {
     "name": "stdout",
     "output_type": "stream",
     "text": [
      "\n",
      "Number of sites:  6153\n",
      "Portion of sites:  0.5\n",
      "Average score:  0.652364700146\n",
      "Last score:  0.649520559077\n",
      "\n",
      "Maxdepth =  130\n",
      "(41020,)\n",
      "(88877,)\n",
      "Before:  (88877, 361)\n",
      "After:  (41020, 361)\n"
     ]
    },
    {
     "name": "stderr",
     "output_type": "stream",
     "text": [
      "Widget Javascript not detected.  It may not be installed properly. Did you enable the widgetsnbextension? If not, then run \"jupyter nbextension enable --py --sys-prefix widgetsnbextension\"\n"
     ]
    },
    {
     "name": "stdout",
     "output_type": "stream",
     "text": [
      "\n",
      "Number of sites:  6153\n",
      "Portion of sites:  0.5\n",
      "Average score:  0.652137168861\n",
      "Last score:  0.6457825451\n",
      "\n",
      "Maxdepth =  140\n",
      "(41020,)\n",
      "(88877,)\n",
      "Before:  (88877, 361)\n",
      "After:  (41020, 361)\n"
     ]
    },
    {
     "name": "stderr",
     "output_type": "stream",
     "text": [
      "Widget Javascript not detected.  It may not be installed properly. Did you enable the widgetsnbextension? If not, then run \"jupyter nbextension enable --py --sys-prefix widgetsnbextension\"\n"
     ]
    },
    {
     "name": "stdout",
     "output_type": "stream",
     "text": [
      "\n",
      "Number of sites:  6153\n",
      "Portion of sites:  0.5\n",
      "Average score:  0.652104664391\n",
      "Last score:  0.650414431984\n",
      "\n",
      "Maxdepth =  150\n",
      "(41020,)\n",
      "(88877,)\n",
      "Before:  (88877, 361)\n",
      "After:  (41020, 361)\n"
     ]
    },
    {
     "name": "stderr",
     "output_type": "stream",
     "text": [
      "Widget Javascript not detected.  It may not be installed properly. Did you enable the widgetsnbextension? If not, then run \"jupyter nbextension enable --py --sys-prefix widgetsnbextension\"\n"
     ]
    },
    {
     "name": "stdout",
     "output_type": "stream",
     "text": [
      "\n",
      "Number of sites:  6153\n",
      "Portion of sites:  0.5\n",
      "Average score:  0.649032992036\n",
      "Last score:  0.645863806273\n",
      "\n",
      "Maxdepth =  160\n",
      "(41020,)\n",
      "(88877,)\n",
      "Before:  (88877, 361)\n",
      "After:  (41020, 361)\n"
     ]
    },
    {
     "name": "stderr",
     "output_type": "stream",
     "text": [
      "Widget Javascript not detected.  It may not be installed properly. Did you enable the widgetsnbextension? If not, then run \"jupyter nbextension enable --py --sys-prefix widgetsnbextension\"\n"
     ]
    },
    {
     "name": "stdout",
     "output_type": "stream",
     "text": [
      "\n",
      "Number of sites:  6153\n",
      "Portion of sites:  0.5\n",
      "Average score:  0.646611409069\n",
      "Last score:  0.640419307655\n",
      "\n",
      "Maxdepth =  170\n",
      "(41020,)\n",
      "(88877,)\n",
      "Before:  (88877, 361)\n",
      "After:  (41020, 361)\n"
     ]
    },
    {
     "name": "stderr",
     "output_type": "stream",
     "text": [
      "Widget Javascript not detected.  It may not be installed properly. Did you enable the widgetsnbextension? If not, then run \"jupyter nbextension enable --py --sys-prefix widgetsnbextension\"\n"
     ]
    },
    {
     "name": "stdout",
     "output_type": "stream",
     "text": [
      "\n",
      "Number of sites:  6153\n",
      "Portion of sites:  0.5\n",
      "Average score:  0.649715585893\n",
      "Last score:  0.647895335609\n",
      "\n",
      "Maxdepth =  180\n",
      "(41020,)\n",
      "(88877,)\n",
      "Before:  (88877, 361)\n",
      "After:  (41020, 361)\n"
     ]
    },
    {
     "name": "stderr",
     "output_type": "stream",
     "text": [
      "Widget Javascript not detected.  It may not be installed properly. Did you enable the widgetsnbextension? If not, then run \"jupyter nbextension enable --py --sys-prefix widgetsnbextension\"\n"
     ]
    },
    {
     "name": "stdout",
     "output_type": "stream",
     "text": [
      "\n",
      "Number of sites:  6153\n",
      "Portion of sites:  0.5\n",
      "Average score:  0.64627011214\n",
      "Last score:  0.642532098163\n",
      "\n",
      "Maxdepth =  190\n",
      "(41020,)\n",
      "(88877,)\n",
      "Before:  (88877, 361)\n",
      "After:  (41020, 361)\n"
     ]
    },
    {
     "name": "stderr",
     "output_type": "stream",
     "text": [
      "Widget Javascript not detected.  It may not be installed properly. Did you enable the widgetsnbextension? If not, then run \"jupyter nbextension enable --py --sys-prefix widgetsnbextension\"\n"
     ]
    },
    {
     "name": "stdout",
     "output_type": "stream",
     "text": [
      "\n",
      "Number of sites:  6153\n",
      "Portion of sites:  0.5\n",
      "Average score:  0.645571266049\n",
      "Last score:  0.64269462051\n",
      "\n",
      "Maxdepth =  200\n",
      "(41020,)\n",
      "(88877,)\n",
      "Before:  (88877, 361)\n",
      "After:  (41020, 361)\n"
     ]
    },
    {
     "name": "stderr",
     "output_type": "stream",
     "text": [
      "Widget Javascript not detected.  It may not be installed properly. Did you enable the widgetsnbextension? If not, then run \"jupyter nbextension enable --py --sys-prefix widgetsnbextension\"\n"
     ]
    },
    {
     "name": "stdout",
     "output_type": "stream",
     "text": [
      "\n",
      "Number of sites:  6153\n",
      "Portion of sites:  0.5\n",
      "Average score:  0.644872419958\n",
      "Last score:  0.643019665204\n"
     ]
    }
   ],
   "source": [
    "test_l = []\n",
    "train_l = []\n",
    "cnf_l = []\n",
    "for i in lv:\n",
    "    print()\n",
    "    print('Leaves = ',i)\n",
    "    m = Magnesium(\"set_minresol_N_5.csv\", fold='input files/',colours = ['#f6c35b', '#929292'],\n",
    "                 model = RandomForestClassifier(n_estimators=200, max_depth = 20, min_samples_leaf=i, \n",
    "                                                n_jobs=-1, criterion='gini'),  with_groups = False)\n",
    "    data = m.compute(n_splits = 5, test_size = 0.3, plots = False, reduce_features = False, balanced = True)\n",
    "    train_l.append(data['train score'])\n",
    "    test_l.append(data['test score'])\n",
    "    cnf_l.append(data['confusion'][1])"
   ]
  },
  {
   "cell_type": "code",
   "execution_count": 10,
   "metadata": {
    "collapsed": false
   },
   "outputs": [
    {
     "data": {
      "image/png": "[encoded data removed]",
      "text/plain": [
       "<matplotlib.figure.Figure at 0x291b77ba160>"
      ]
     },
     "metadata": {},
     "output_type": "display_data"
    },
    {
     "data": {
      "image/png": "[encoded data removed]",
      "text/plain": [
       "<matplotlib.figure.Figure at 0x291ad539c50>"
      ]
     },
     "metadata": {},
     "output_type": "display_data"
    }
   ],
   "source": [
    "ax = plt.figure(figsize = (15,10)).add_subplot(211)\n",
    "ax.plot(lv, test_l, color = 'teal', label = 'Mean test accuracy')\n",
    "ax.scatter(lv, test_l, color = 'teal')\n",
    "ax.plot(lv, train_l, color = 'purple', label = 'Mean train accuracy')\n",
    "ax.scatter(lv, train_l, color = 'purple')\n",
    "ax.plot(lv, [i[0,0] for i in cnf_l], '-.',color = 'grey', label = 'TN')\n",
    "ax.scatter(lv, [i[0,0] for i in cnf_l], color = 'grey')\n",
    "ax.plot(lv, [i[1,1] for i in cnf_l], '--',color = 'darkgrey', label = 'TP')\n",
    "ax.scatter(lv, [i[1,1] for i in cnf_l],  color = 'darkgrey')\n",
    "plt.legend()\n",
    "plt.title('Accuracy scores', fontsize = 12)\n",
    "\n",
    "ax = plt.figure(figsize = (15,10)).add_subplot(212)\n",
    "ax.plot(lv, test_l, color = 'teal', label = 'Mean test accuracy')\n",
    "ax.scatter(lv, test_l, color = 'teal')\n",
    "ax.plot(lv, train_l, color = 'purple', label = 'Mean train accuracy')\n",
    "ax.scatter(lv, train_l, color = 'purple')\n",
    "plt.legend()\n",
    "plt.title('Accuracy scores', fontsize = 12)\n",
    "plt.show()"
   ]
  },
  {
   "cell_type": "markdown",
   "metadata": {},
   "source": [
    "### Estimators"
   ]
  },
  {
   "cell_type": "raw",
   "metadata": {
    "collapsed": true
   },
   "source": [
    "n = [25, 50, 75, 100, 125, 150, 175, 200]"
   ]
  },
  {
   "cell_type": "raw",
   "metadata": {
    "collapsed": true
   },
   "source": [
    "test = []\n",
    "train = []\n",
    "for i in n:\n",
    "    m = Magnesium(\"set_minresol_N_5_b_b.csv\", fold='input files/',colours = ['#f6c35b', '#929292'],\n",
    "                 model = RandomForestClassifier(n_estimators=i, n_jobs=-1, criterion='gini'),  with_groups = True)\n",
    "    data = m.compute(n_splits = 5, test_size = 0.3, plots = False, reduce_features = False)\n",
    "    train.append(data['train score'])\n",
    "    test.append(data['test score'])"
   ]
  },
  {
   "cell_type": "raw",
   "metadata": {
    "collapsed": true
   },
   "source": [
    "ax = plt.figure().add_subplot(111)\n",
    "ax.plot(list(range(len(test))), test, color = 'teal', label = 'Mean test accuracy')\n",
    "ax.plot(list(range(len(train))), test, color = 'purple', label = 'Mean train accuracy')\n",
    "ax.set_xticklabels([0]+n)\n",
    "plt.legend()\n",
    "plt.title('Accuracy scores', fontsize = 12)\n",
    "plt.show()"
   ]
  }
 ],
 "metadata": {
  "anaconda-cloud": {},
  "kernelspec": {
   "display_name": "Python [default]",
   "language": "python",
   "name": "python3"
  },
  "language_info": {
   "codemirror_mode": {
    "name": "ipython",
    "version": 3
   },
   "file_extension": ".py",
   "mimetype": "text/x-python",
   "name": "python",
   "nbconvert_exporter": "python",
   "pygments_lexer": "ipython3",
   "version": "3.5.2"
  },
  "widgets": {
   "state": {
    "04abb94ca9444912a1bfacc0f39eb2d2": {
     "views": [
      {
       "cell_index": 3
      }
     ]
    },
    "1673ebee66144c608fb6dc6bef23212b": {
     "views": [
      {
       "cell_index": 8
      }
     ]
    },
    "168997a73b99450c9ae7a56ef1d2978e": {
     "views": [
      {
       "cell_index": 8
      }
     ]
    },
    "172bba97fab84befbf751151f72e3f8d": {
     "views": [
      {
       "cell_index": 8
      }
     ]
    },
    "1c09993c18ba457d895bf640576a78d3": {
     "views": [
      {
       "cell_index": 8
      }
     ]
    },
    "1cf2eca097c54b149ad62b21e208e3cc": {
     "views": [
      {
       "cell_index": 8
      }
     ]
    },
    "1dd8d95e694949cead81a843757540fd": {
     "views": [
      {
       "cell_index": 8
      }
     ]
    },
    "1f9aa24a92a0480f9ac8896f9b24dea2": {
     "views": [
      {
       "cell_index": 8
      }
     ]
    },
    "2119ab41bc7640278824182cf5078f55": {
     "views": [
      {
       "cell_index": 8
      }
     ]
    },
    "2510ce1035df4d91822bb371407ff913": {
     "views": [
      {
       "cell_index": 8
      }
     ]
    },
    "25eefa2ec74445559ff32f80f8eecb27": {
     "views": [
      {
       "cell_index": 8
      }
     ]
    },
    "2883effb93b04deeb6589070cafb4331": {
     "views": [
      {
       "cell_index": 8
      }
     ]
    },
    "2a6aae0e2f754dfcba4494ccb9a4435e": {
     "views": [
      {
       "cell_index": 8
      }
     ]
    },
    "2d59c43be7de4507a90506f444da57e6": {
     "views": [
      {
       "cell_index": 8
      }
     ]
    },
    "2dcf06cc533e413baf66b990d141e208": {
     "views": [
      {
       "cell_index": 8
      }
     ]
    },
    "3571abac90a64346ac7dd47279074251": {
     "views": [
      {
       "cell_index": 8
      }
     ]
    },
    "3f264c7529cd4f7ab0f3718b24bba6bb": {
     "views": [
      {
       "cell_index": 3
      }
     ]
    },
    "41f438465e4a49a3aae652e29592f826": {
     "views": [
      {
       "cell_index": 3
      }
     ]
    },
    "445c9b0ee0674d8184bbd22cce4f0ee6": {
     "views": [
      {
       "cell_index": 8
      }
     ]
    },
    "46f635c7255847668940a607aeb6b3b1": {
     "views": [
      {
       "cell_index": 3
      }
     ]
    },
    "4990f85eb5cb436e85d227a2eecbeb10": {
     "views": [
      {
       "cell_index": 3
      }
     ]
    },
    "4c5ec8bf75974b4182997240982019b3": {
     "views": [
      {
       "cell_index": 8
      }
     ]
    },
    "4cf88873e0bd4c98825dbee3bfb34160": {
     "views": [
      {
       "cell_index": 3
      }
     ]
    },
    "58f61b97db674afb9e40441cd44fd153": {
     "views": [
      {
       "cell_index": 8
      }
     ]
    },
    "5e36e43256fe4d069a68d85de8368296": {
     "views": [
      {
       "cell_index": 8
      }
     ]
    },
    "62869f56d8ca4ef3a75ab76b50423f90": {
     "views": [
      {
       "cell_index": 3
      }
     ]
    },
    "63c5a5b71bd14e8782a83244caffa1b3": {
     "views": [
      {
       "cell_index": 8
      }
     ]
    },
    "657ec64864074c43a0d2b2e34d634a93": {
     "views": [
      {
       "cell_index": 8
      }
     ]
    },
    "659473416dd846858e8054ab5fe7a02d": {
     "views": [
      {
       "cell_index": 3
      }
     ]
    },
    "67df883cad4340d3bc5785afc677272b": {
     "views": [
      {
       "cell_index": 3
      }
     ]
    },
    "6a5e4fd9f12240eaa6949c1577552baa": {
     "views": [
      {
       "cell_index": 3
      }
     ]
    },
    "6a6f86b07a46423bb134b6b22895d87a": {
     "views": [
      {
       "cell_index": 3
      }
     ]
    },
    "70de71e5175745499bd638b458de1fa2": {
     "views": [
      {
       "cell_index": 8
      }
     ]
    },
    "75c88b69ced34b1e8f9309fe81abda76": {
     "views": [
      {
       "cell_index": 3
      }
     ]
    },
    "7f943b9b55cf48b5a9bcda45e3b6bae7": {
     "views": [
      {
       "cell_index": 8
      }
     ]
    },
    "83b2c8d837da48f5b1f9cddd092e4901": {
     "views": [
      {
       "cell_index": 8
      }
     ]
    },
    "88a61e3a77f34947b84917e2a6ece577": {
     "views": [
      {
       "cell_index": 3
      }
     ]
    },
    "8b3939ac0e9e41239abf93e559c5d5ca": {
     "views": [
      {
       "cell_index": 8
      }
     ]
    },
    "8c9436243ec64657923487d79f1ca0cc": {
     "views": [
      {
       "cell_index": 8
      }
     ]
    },
    "9130740b05a94b7dbb455d5ae6a3926b": {
     "views": [
      {
       "cell_index": 8
      }
     ]
    },
    "971d28d2f6c149f8a45d4e47d879f664": {
     "views": [
      {
       "cell_index": 8
      }
     ]
    },
    "99f7af90e13b4b8cbdb3b8dae4642d29": {
     "views": [
      {
       "cell_index": 8
      }
     ]
    },
    "9a4450558d9341cea57057a42d222fe8": {
     "views": [
      {
       "cell_index": 8
      }
     ]
    },
    "9bf581e8f31d4b5c8ca3e6132880de5a": {
     "views": [
      {
       "cell_index": 3
      }
     ]
    },
    "a06fc314f0d144e7b5d59cebb8f76f17": {
     "views": [
      {
       "cell_index": 8
      }
     ]
    },
    "a070b7f2b27742c0bbee50308466dd9f": {
     "views": [
      {
       "cell_index": 8
      }
     ]
    },
    "a68ed49847a94a5bb5f0544999485874": {
     "views": [
      {
       "cell_index": 8
      }
     ]
    },
    "b0976901832547bbb7852adfc7dbf722": {
     "views": [
      {
       "cell_index": 3
      }
     ]
    },
    "b29d84bf472e42ecb65c41903f4d71f8": {
     "views": [
      {
       "cell_index": 3
      }
     ]
    },
    "b72971b7ce59449ca3c564c394f7b276": {
     "views": [
      {
       "cell_index": 12
      }
     ]
    },
    "bb7eab7d397341a7b194164af0e25c71": {
     "views": [
      {
       "cell_index": 8
      }
     ]
    },
    "c7237cc1f1aa48a0a7751ec437c276bd": {
     "views": [
      {
       "cell_index": 3
      }
     ]
    },
    "ca1d8922e5744ed3bc970cf0e5111560": {
     "views": [
      {
       "cell_index": 3
      }
     ]
    },
    "cf2488ffa0f24f9ebbb30434e6875651": {
     "views": [
      {
       "cell_index": 8
      }
     ]
    },
    "d66a367ff5a54bc89336642c89754858": {
     "views": [
      {
       "cell_index": 8
      }
     ]
    },
    "d7ddcdde9c884e58a7e9fe973e2b8dca": {
     "views": [
      {
       "cell_index": 8
      }
     ]
    },
    "dd7bfd9a71464bd3b41edfc09d22b155": {
     "views": [
      {
       "cell_index": 3
      }
     ]
    },
    "e45466eea65e42d089dffad879d511cb": {
     "views": [
      {
       "cell_index": 8
      }
     ]
    },
    "e51c326149014dbca4898cd35de0120f": {
     "views": [
      {
       "cell_index": 8
      }
     ]
    },
    "eb00740e8d154432860d1375843d2c02": {
     "views": [
      {
       "cell_index": 8
      }
     ]
    },
    "ee5292a41c61481b892140c7bd7ae027": {
     "views": [
      {
       "cell_index": 12
      }
     ]
    },
    "eeab8db373584d46ad474718b7ef0739": {
     "views": [
      {
       "cell_index": 3
      }
     ]
    },
    "f3784b6af72647778db298b4cb3ce9ef": {
     "views": [
      {
       "cell_index": 8
      }
     ]
    },
    "f91dcc5e2c714c80a0e9dd9d0d6dc0c7": {
     "views": [
      {
       "cell_index": 3
      }
     ]
    },
    "fb5e7e8620a942b786333debf13175f8": {
     "views": [
      {
       "cell_index": 8
      }
     ]
    },
    "ff2c641fa7be4b11b6e9d6fe67aede69": {
     "views": [
      {
       "cell_index": 8
      }
     ]
    },
    "ffc5c27d274f43d0a9dc6ef83e233ef2": {
     "views": [
      {
       "cell_index": 3
      }
     ]
    }
   },
   "version": "1.2.0"
  }
 },
 "nbformat": 4,
 "nbformat_minor": 2
}
