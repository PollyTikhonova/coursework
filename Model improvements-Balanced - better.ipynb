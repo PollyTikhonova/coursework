{
 "cells": [
  {
   "cell_type": "code",
   "execution_count": 3,
   "metadata": {
    "collapsed": false
   },
   "outputs": [],
   "source": [
    "from class_magnesium_not_drop_na import *"
   ]
  },
  {
   "cell_type": "markdown",
   "metadata": {},
   "source": [
    "### Max depth"
   ]
  },
  {
   "cell_type": "code",
   "execution_count": 13,
   "metadata": {
    "collapsed": true
   },
   "outputs": [],
   "source": [
    "md = list(range(1,11)) + [15, 20, 25, 30, 35]"
   ]
  },
  {
   "cell_type": "code",
   "execution_count": 14,
   "metadata": {
    "collapsed": false
   },
   "outputs": [
    {
     "name": "stdout",
     "output_type": "stream",
     "text": [
      "\n",
      "Maxdepth =  1\n",
      "(41020,)\n",
      "(88877,)\n",
      "Before:  (88877, 361)\n",
      "After:  (41020, 361)\n",
      "\n",
      "Number of sites:  6153\n",
      "Portion of sites:  0.5\n",
      "Average score:  0.603380464814\n",
      "Last score:  0.607833577117\n",
      "\n",
      "Maxdepth =  2\n",
      "(41020,)\n",
      "(88877,)\n",
      "Before:  (88877, 361)\n",
      "After:  (41020, 361)\n",
      "\n",
      "Number of sites:  6153\n",
      "Portion of sites:  0.5\n",
      "Average score:  0.612189176012\n",
      "Last score:  0.613440598082\n",
      "\n",
      "Maxdepth =  3\n",
      "(41020,)\n",
      "(88877,)\n",
      "Before:  (88877, 361)\n",
      "After:  (41020, 361)\n",
      "\n",
      "Number of sites:  6153\n",
      "Portion of sites:  0.5\n",
      "Average score:  0.620494067934\n",
      "Last score:  0.620429058996\n",
      "\n",
      "Maxdepth =  4\n",
      "(41020,)\n",
      "(88877,)\n",
      "Before:  (88877, 361)\n",
      "After:  (41020, 361)\n",
      "\n",
      "Number of sites:  6153\n",
      "Portion of sites:  0.5\n",
      "Average score:  0.628116366\n",
      "Last score:  0.626036079961\n",
      "\n",
      "Maxdepth =  5\n",
      "(41020,)\n",
      "(88877,)\n",
      "Before:  (88877, 361)\n",
      "After:  (41020, 361)\n",
      "\n",
      "Number of sites:  6153\n",
      "Portion of sites:  0.5\n",
      "Average score:  0.635088574679\n",
      "Last score:  0.633512107915\n",
      "\n",
      "Maxdepth =  6\n",
      "(41020,)\n",
      "(88877,)\n",
      "Before:  (88877, 361)\n",
      "After:  (41020, 361)\n",
      "\n",
      "Number of sites:  6153\n",
      "Portion of sites:  0.5\n",
      "Average score:  0.641524459613\n",
      "Last score:  0.640906874695\n",
      "\n",
      "Maxdepth =  7\n",
      "(41020,)\n",
      "(88877,)\n",
      "Before:  (88877, 361)\n",
      "After:  (41020, 361)\n",
      "\n",
      "Number of sites:  6153\n",
      "Portion of sites:  0.5\n",
      "Average score:  0.64960182025\n",
      "Last score:  0.643263448724\n",
      "\n",
      "Maxdepth =  8\n",
      "(41020,)\n",
      "(88877,)\n",
      "Before:  (88877, 361)\n",
      "After:  (41020, 361)\n",
      "\n",
      "Number of sites:  6153\n",
      "Portion of sites:  0.5\n",
      "Average score:  0.65473752641\n",
      "Last score:  0.648139119129\n",
      "\n",
      "Maxdepth =  9\n",
      "(41020,)\n",
      "(88877,)\n",
      "Before:  (88877, 361)\n",
      "After:  (41020, 361)\n",
      "\n",
      "Number of sites:  6153\n",
      "Portion of sites:  0.5\n",
      "Average score:  0.662311067772\n",
      "Last score:  0.656590281164\n",
      "\n",
      "Maxdepth =  10\n",
      "(41020,)\n",
      "(88877,)\n",
      "Before:  (88877, 361)\n",
      "After:  (41020, 361)\n",
      "\n",
      "Number of sites:  6153\n",
      "Portion of sites:  0.5\n",
      "Average score:  0.669088249634\n",
      "Last score:  0.662441085649\n",
      "\n",
      "Maxdepth =  15\n",
      "(41020,)\n",
      "(88877,)\n",
      "Before:  (88877, 361)\n",
      "After:  (41020, 361)\n",
      "\n",
      "Number of sites:  6153\n",
      "Portion of sites:  0.5\n",
      "Average score:  0.701153908662\n",
      "Last score:  0.694051682106\n",
      "\n",
      "Maxdepth =  20\n",
      "(41020,)\n",
      "(88877,)\n",
      "Before:  (88877, 361)\n",
      "After:  (41020, 361)\n",
      "\n",
      "Number of sites:  6153\n",
      "Portion of sites:  0.5\n",
      "Average score:  0.708873720137\n",
      "Last score:  0.70104014302\n",
      "\n",
      "Maxdepth =  25\n",
      "(41020,)\n",
      "(88877,)\n",
      "Before:  (88877, 361)\n",
      "After:  (41020, 361)\n",
      "\n",
      "Number of sites:  6153\n",
      "Portion of sites:  0.5\n",
      "Average score:  0.708987485779\n",
      "Last score:  0.704534373476\n",
      "\n",
      "Maxdepth =  30\n",
      "(41020,)\n",
      "(88877,)\n",
      "Before:  (88877, 361)\n",
      "After:  (41020, 361)\n",
      "\n",
      "Number of sites:  6153\n",
      "Portion of sites:  0.5\n",
      "Average score:  0.71072647489\n",
      "Last score:  0.706403380465\n",
      "\n",
      "Maxdepth =  35\n",
      "(41020,)\n",
      "(88877,)\n",
      "Before:  (88877, 361)\n",
      "After:  (41020, 361)\n",
      "\n",
      "Number of sites:  6153\n",
      "Portion of sites:  0.5\n",
      "Average score:  0.710645213717\n",
      "Last score:  0.705915813424\n"
     ]
    }
   ],
   "source": [
    "test = []\n",
    "train = []\n",
    "cnf = []\n",
    "for i in md:\n",
    "    print()\n",
    "    print('Maxdepth = ',i)\n",
    "    m = Magnesium(\"set_minresol_N_5.csv\", fold='input files/',colours = ['#f6c35b', '#929292'],\n",
    "                 model = RandomForestClassifier(n_estimators=200, max_depth = i, n_jobs=-1, criterion='gini'),\n",
    "                  with_groups = False)\n",
    "    data = m.compute(n_splits = 5, test_size = 0.3, plots = False, reduce_features = False, balanced = True)\n",
    "    train.append(data['train score'])\n",
    "    test.append(data['test score'])\n",
    "    cnf.append(data['confusion'][1])"
   ]
  },
  {
   "cell_type": "markdown",
   "metadata": {},
   "source": [
    "### Save data"
   ]
  },
  {
   "cell_type": "code",
   "execution_count": 15,
   "metadata": {
    "collapsed": true
   },
   "outputs": [],
   "source": [
    "h = open('outputs/balanced_test.txt', 'w')\n",
    "h.write(' '.join([str(i) for i in test]))\n",
    "h.close()\n",
    "\n",
    "h = open('outputs/balanced_train.txt', 'w')\n",
    "h.write(' '.join([str(i) for i in train]))\n",
    "h.close()\n",
    "\n",
    "h = open('outputs/balanced_cnf.txt', 'w')\n",
    "h.write('\\n'.join([' '.join([str(j) for j in i]) for i in cnf]))\n",
    "h.close()"
   ]
  },
  {
   "cell_type": "markdown",
   "metadata": {},
   "source": [
    "### Upload data"
   ]
  },
  {
   "cell_type": "code",
   "execution_count": 9,
   "metadata": {
    "collapsed": false
   },
   "outputs": [],
   "source": [
    "# Чтобы не прогонять расчеты, написанные выше каждый раз, я сохранила эти данные, \n",
    "# поэтому сейчас я могу работать с сохраненными данными.\n",
    "\n",
    "test = [float(i) for i in open('outputs/balanced_test.txt').read().split()]\n",
    "train = [float(i) for i in open('outputs/balanced_train.txt').read().split()]\n",
    "cnf = open('outputs/balanced_cnf.txt').read().split('\\n')\n",
    "cnf =[np.array([float(j) for j in re.split('\\[|\\]|\\s', i) if len(j)>0]).reshape(2,2) for i in cnf]   \n",
    "\n",
    "md = list(range(1,11)) + [15, 20, 25, 30, 35]"
   ]
  },
  {
   "cell_type": "markdown",
   "metadata": {},
   "source": [
    "### Plots"
   ]
  },
  {
   "cell_type": "code",
   "execution_count": 10,
   "metadata": {
    "collapsed": false
   },
   "outputs": [
    {
     "data": {
      "image/png": "[encoded data removed]",
      "text/plain": [
       "<matplotlib.figure.Figure at 0x266e2ab3f28>"
      ]
     },
     "metadata": {},
     "output_type": "display_data"
    },
    {
     "data": {
      "image/png": "[encoded data removed]",
      "text/plain": [
       "<matplotlib.figure.Figure at 0x266e2a13630>"
      ]
     },
     "metadata": {},
     "output_type": "display_data"
    }
   ],
   "source": [
    "ax = plt.figure(figsize = (15,10)).add_subplot(211)\n",
    "ax.plot(md, test, color = 'teal', label = 'Mean test accuracy')\n",
    "ax.scatter(md, test, color = 'teal')\n",
    "ax.plot(md, train, color = 'purple', label = 'Mean train accuracy')\n",
    "ax.scatter(md, train, color = 'purple')\n",
    "ax.plot(md, [i[0,0] for i in cnf], '-.',color = 'grey', label = 'TN')\n",
    "ax.scatter(md, [i[0,0] for i in cnf], color = 'grey')\n",
    "ax.plot(md, [i[1,1] for i in cnf], '--',color = 'darkgrey', label = 'TP')\n",
    "ax.scatter(md, [i[1,1] for i in cnf],  color = 'darkgrey')\n",
    "plt.legend()\n",
    "plt.xlabel('MaxDepth')\n",
    "plt.ylabel('Accuracy')\n",
    "plt.title('Accuracy scores', fontsize = 12)\n",
    "\n",
    "ax = plt.figure(figsize = (15,10)).add_subplot(212)\n",
    "ax.plot(md, test, color = 'teal', label = 'Mean test accuracy')\n",
    "ax.scatter(md, test, color = 'teal')\n",
    "ax.plot(md, train, color = 'purple', label = 'Mean train accuracy')\n",
    "ax.scatter(md, train, color = 'purple')\n",
    "plt.legend()\n",
    "plt.xlabel('MaxDepth')\n",
    "plt.ylabel('Accuracy')\n",
    "plt.title('Accuracy scores', fontsize = 12)\n",
    "plt.show()"
   ]
  },
  {
   "cell_type": "markdown",
   "metadata": {},
   "source": [
    "### Leaves"
   ]
  },
  {
   "cell_type": "code",
   "execution_count": 6,
   "metadata": {
    "collapsed": true
   },
   "outputs": [],
   "source": [
    "lv = [1,5,10, 15, 20, 25, 30, 40, 45, 50, 55, 60, 65, 70, 75, 80, 100, 120, 130, 140, 150, 160, 170, 180, 190, 200]"
   ]
  },
  {
   "cell_type": "code",
   "execution_count": 7,
   "metadata": {
    "collapsed": false
   },
   "outputs": [
    {
     "name": "stdout",
     "output_type": "stream",
     "text": [
      "\n",
      "Maxdepth =  1\n",
      "(41020,)\n",
      "(88877,)\n",
      "Before:  (88877, 361)\n",
      "After:  (41020, 361)\n"
     ]
    },
    {
     "name": "stderr",
     "output_type": "stream",
     "text": [
      "Widget Javascript not detected.  It may not be installed properly. Did you enable the widgetsnbextension? If not, then run \"jupyter nbextension enable --py --sys-prefix widgetsnbextension\"\n"
     ]
    },
    {
     "name": "stdout",
     "output_type": "stream",
     "text": [
      "\n",
      "Number of sites:  6153\n",
      "Portion of sites:  0.5\n",
      "Average score:  0.708597432147\n",
      "Last score:  0.709410043881\n",
      "\n",
      "Maxdepth =  5\n",
      "(41020,)\n",
      "(88877,)\n",
      "Before:  (88877, 361)\n",
      "After:  (41020, 361)\n"
     ]
    },
    {
     "name": "stderr",
     "output_type": "stream",
     "text": [
      "Widget Javascript not detected.  It may not be installed properly. Did you enable the widgetsnbextension? If not, then run \"jupyter nbextension enable --py --sys-prefix widgetsnbextension\"\n"
     ]
    },
    {
     "name": "stdout",
     "output_type": "stream",
     "text": [
      "\n",
      "Number of sites:  6153\n",
      "Portion of sites:  0.5\n",
      "Average score:  0.705704534373\n",
      "Last score:  0.702665366488\n",
      "\n",
      "Maxdepth =  10\n",
      "(41020,)\n",
      "(88877,)\n",
      "Before:  (88877, 361)\n",
      "After:  (41020, 361)\n"
     ]
    },
    {
     "name": "stderr",
     "output_type": "stream",
     "text": [
      "Widget Javascript not detected.  It may not be installed properly. Did you enable the widgetsnbextension? If not, then run \"jupyter nbextension enable --py --sys-prefix widgetsnbextension\"\n"
     ]
    },
    {
     "name": "stdout",
     "output_type": "stream",
     "text": [
      "\n",
      "Number of sites:  6153\n",
      "Portion of sites:  0.5\n",
      "Average score:  0.70253534861\n",
      "Last score:  0.699089874858\n",
      "\n",
      "Maxdepth =  15\n",
      "(41020,)\n",
      "(88877,)\n",
      "Before:  (88877, 361)\n",
      "After:  (41020, 361)\n"
     ]
    },
    {
     "name": "stderr",
     "output_type": "stream",
     "text": [
      "Widget Javascript not detected.  It may not be installed properly. Did you enable the widgetsnbextension? If not, then run \"jupyter nbextension enable --py --sys-prefix widgetsnbextension\"\n"
     ]
    },
    {
     "name": "stdout",
     "output_type": "stream",
     "text": [
      "\n",
      "Number of sites:  6153\n",
      "Portion of sites:  0.5\n",
      "Average score:  0.696847066472\n",
      "Last score:  0.691695108077\n",
      "\n",
      "Maxdepth =  20\n",
      "(41020,)\n",
      "(88877,)\n",
      "Before:  (88877, 361)\n",
      "After:  (41020, 361)\n"
     ]
    },
    {
     "name": "stderr",
     "output_type": "stream",
     "text": [
      "Widget Javascript not detected.  It may not be installed properly. Did you enable the widgetsnbextension? If not, then run \"jupyter nbextension enable --py --sys-prefix widgetsnbextension\"\n"
     ]
    },
    {
     "name": "stdout",
     "output_type": "stream",
     "text": [
      "\n",
      "Number of sites:  6153\n",
      "Portion of sites:  0.5\n",
      "Average score:  0.691955143832\n",
      "Last score:  0.69055745165\n",
      "\n",
      "Maxdepth =  25\n",
      "(41020,)\n",
      "(88877,)\n",
      "Before:  (88877, 361)\n",
      "After:  (41020, 361)\n"
     ]
    },
    {
     "name": "stderr",
     "output_type": "stream",
     "text": [
      "Widget Javascript not detected.  It may not be installed properly. Did you enable the widgetsnbextension? If not, then run \"jupyter nbextension enable --py --sys-prefix widgetsnbextension\"\n"
     ]
    },
    {
     "name": "stdout",
     "output_type": "stream",
     "text": [
      "\n",
      "Number of sites:  6153\n",
      "Portion of sites:  0.5\n",
      "Average score:  0.684771656103\n",
      "Last score:  0.679749715586\n",
      "\n",
      "Maxdepth =  30\n",
      "(41020,)\n",
      "(88877,)\n",
      "Before:  (88877, 361)\n",
      "After:  (41020, 361)\n"
     ]
    },
    {
     "name": "stderr",
     "output_type": "stream",
     "text": [
      "Widget Javascript not detected.  It may not be installed properly. Did you enable the widgetsnbextension? If not, then run \"jupyter nbextension enable --py --sys-prefix widgetsnbextension\"\n"
     ]
    },
    {
     "name": "stdout",
     "output_type": "stream",
     "text": [
      "\n",
      "Number of sites:  6153\n",
      "Portion of sites:  0.5\n",
      "Average score:  0.681830001625\n",
      "Last score:  0.674223955794\n",
      "\n",
      "Maxdepth =  40\n",
      "(41020,)\n",
      "(88877,)\n",
      "Before:  (88877, 361)\n",
      "After:  (41020, 361)\n"
     ]
    },
    {
     "name": "stderr",
     "output_type": "stream",
     "text": [
      "Widget Javascript not detected.  It may not be installed properly. Did you enable the widgetsnbextension? If not, then run \"jupyter nbextension enable --py --sys-prefix widgetsnbextension\"\n"
     ]
    },
    {
     "name": "stdout",
     "output_type": "stream",
     "text": [
      "\n",
      "Number of sites:  6153\n",
      "Portion of sites:  0.5\n",
      "Average score:  0.676385503007\n",
      "Last score:  0.671704859418\n",
      "\n",
      "Maxdepth =  45\n",
      "(41020,)\n",
      "(88877,)\n",
      "Before:  (88877, 361)\n",
      "After:  (41020, 361)\n"
     ]
    },
    {
     "name": "stderr",
     "output_type": "stream",
     "text": [
      "Widget Javascript not detected.  It may not be installed properly. Did you enable the widgetsnbextension? If not, then run \"jupyter nbextension enable --py --sys-prefix widgetsnbextension\"\n"
     ]
    },
    {
     "name": "stdout",
     "output_type": "stream",
     "text": [
      "\n",
      "Number of sites:  6153\n",
      "Portion of sites:  0.5\n",
      "Average score:  0.67289127255\n",
      "Last score:  0.667966845441\n",
      "\n",
      "Maxdepth =  50\n",
      "(41020,)\n",
      "(88877,)\n",
      "Before:  (88877, 361)\n",
      "After:  (41020, 361)\n"
     ]
    },
    {
     "name": "stderr",
     "output_type": "stream",
     "text": [
      "Widget Javascript not detected.  It may not be installed properly. Did you enable the widgetsnbextension? If not, then run \"jupyter nbextension enable --py --sys-prefix widgetsnbextension\"\n"
     ]
    },
    {
     "name": "stdout",
     "output_type": "stream",
     "text": [
      "\n",
      "Number of sites:  6153\n",
      "Portion of sites:  0.5\n",
      "Average score:  0.671802372826\n",
      "Last score:  0.664472614985\n",
      "\n",
      "Maxdepth =  55\n",
      "(41020,)\n",
      "(88877,)\n",
      "Before:  (88877, 361)\n",
      "After:  (41020, 361)\n"
     ]
    },
    {
     "name": "stderr",
     "output_type": "stream",
     "text": [
      "Widget Javascript not detected.  It may not be installed properly. Did you enable the widgetsnbextension? If not, then run \"jupyter nbextension enable --py --sys-prefix widgetsnbextension\"\n"
     ]
    },
    {
     "name": "stdout",
     "output_type": "stream",
     "text": [
      "\n",
      "Number of sites:  6153\n",
      "Portion of sites:  0.5\n",
      "Average score:  0.669722086787\n",
      "Last score:  0.664310092638\n",
      "\n",
      "Maxdepth =  60\n",
      "(41020,)\n",
      "(88877,)\n",
      "Before:  (88877, 361)\n",
      "After:  (41020, 361)\n"
     ]
    },
    {
     "name": "stderr",
     "output_type": "stream",
     "text": [
      "Widget Javascript not detected.  It may not be installed properly. Did you enable the widgetsnbextension? If not, then run \"jupyter nbextension enable --py --sys-prefix widgetsnbextension\"\n"
     ]
    },
    {
     "name": "stdout",
     "output_type": "stream",
     "text": [
      "\n",
      "Number of sites:  6153\n",
      "Portion of sites:  0.5\n",
      "Average score:  0.668210628961\n",
      "Last score:  0.660165772794\n",
      "\n",
      "Maxdepth =  65\n",
      "(41020,)\n",
      "(88877,)\n",
      "Before:  (88877, 361)\n",
      "After:  (41020, 361)\n"
     ]
    },
    {
     "name": "stderr",
     "output_type": "stream",
     "text": [
      "Widget Javascript not detected.  It may not be installed properly. Did you enable the widgetsnbextension? If not, then run \"jupyter nbextension enable --py --sys-prefix widgetsnbextension\"\n"
     ]
    },
    {
     "name": "stdout",
     "output_type": "stream",
     "text": [
      "\n",
      "Number of sites:  6153\n",
      "Portion of sites:  0.5\n",
      "Average score:  0.666276613034\n",
      "Last score:  0.660572078661\n",
      "\n",
      "Maxdepth =  70\n",
      "(41020,)\n",
      "(88877,)\n",
      "Before:  (88877, 361)\n",
      "After:  (41020, 361)\n"
     ]
    },
    {
     "name": "stderr",
     "output_type": "stream",
     "text": [
      "Widget Javascript not detected.  It may not be installed properly. Did you enable the widgetsnbextension? If not, then run \"jupyter nbextension enable --py --sys-prefix widgetsnbextension\"\n"
     ]
    },
    {
     "name": "stdout",
     "output_type": "stream",
     "text": [
      "\n",
      "Number of sites:  6153\n",
      "Portion of sites:  0.5\n",
      "Average score:  0.663464976434\n",
      "Last score:  0.659678205753\n",
      "\n",
      "Maxdepth =  75\n",
      "(41020,)\n",
      "(88877,)\n",
      "Before:  (88877, 361)\n",
      "After:  (41020, 361)\n"
     ]
    },
    {
     "name": "stderr",
     "output_type": "stream",
     "text": [
      "Widget Javascript not detected.  It may not be installed properly. Did you enable the widgetsnbextension? If not, then run \"jupyter nbextension enable --py --sys-prefix widgetsnbextension\"\n"
     ]
    },
    {
     "name": "stdout",
     "output_type": "stream",
     "text": [
      "\n",
      "Number of sites:  6153\n",
      "Portion of sites:  0.5\n",
      "Average score:  0.662619860231\n",
      "Last score:  0.660409556314\n",
      "\n",
      "Maxdepth =  80\n",
      "(41020,)\n",
      "(88877,)\n",
      "Before:  (88877, 361)\n",
      "After:  (41020, 361)\n"
     ]
    },
    {
     "name": "stderr",
     "output_type": "stream",
     "text": [
      "Widget Javascript not detected.  It may not be installed properly. Did you enable the widgetsnbextension? If not, then run \"jupyter nbextension enable --py --sys-prefix widgetsnbextension\"\n"
     ]
    },
    {
     "name": "stdout",
     "output_type": "stream",
     "text": [
      "\n",
      "Number of sites:  6153\n",
      "Portion of sites:  0.5\n",
      "Average score:  0.663594994312\n",
      "Last score:  0.657240370551\n",
      "\n",
      "Maxdepth =  100\n",
      "(41020,)\n",
      "(88877,)\n",
      "Before:  (88877, 361)\n",
      "After:  (41020, 361)\n"
     ]
    },
    {
     "name": "stderr",
     "output_type": "stream",
     "text": [
      "Widget Javascript not detected.  It may not be installed properly. Did you enable the widgetsnbextension? If not, then run \"jupyter nbextension enable --py --sys-prefix widgetsnbextension\"\n"
     ]
    },
    {
     "name": "stdout",
     "output_type": "stream",
     "text": [
      "\n",
      "Number of sites:  6153\n",
      "Portion of sites:  0.5\n",
      "Average score:  0.656395254347\n",
      "Last score:  0.651795871932\n",
      "\n",
      "Maxdepth =  120\n",
      "(41020,)\n",
      "(88877,)\n",
      "Before:  (88877, 361)\n",
      "After:  (41020, 361)\n"
     ]
    },
    {
     "name": "stderr",
     "output_type": "stream",
     "text": [
      "Widget Javascript not detected.  It may not be installed properly. Did you enable the widgetsnbextension? If not, then run \"jupyter nbextension enable --py --sys-prefix widgetsnbextension\"\n"
     ]
    },
    {
     "name": "stdout",
     "output_type": "stream",
     "text": [
      "\n",
      "Number of sites:  6153\n",
      "Portion of sites:  0.5\n",
      "Average score:  0.652364700146\n",
      "Last score:  0.649520559077\n",
      "\n",
      "Maxdepth =  130\n",
      "(41020,)\n",
      "(88877,)\n",
      "Before:  (88877, 361)\n",
      "After:  (41020, 361)\n"
     ]
    },
    {
     "name": "stderr",
     "output_type": "stream",
     "text": [
      "Widget Javascript not detected.  It may not be installed properly. Did you enable the widgetsnbextension? If not, then run \"jupyter nbextension enable --py --sys-prefix widgetsnbextension\"\n"
     ]
    },
    {
     "name": "stdout",
     "output_type": "stream",
     "text": [
      "\n",
      "Number of sites:  6153\n",
      "Portion of sites:  0.5\n",
      "Average score:  0.652137168861\n",
      "Last score:  0.6457825451\n",
      "\n",
      "Maxdepth =  140\n",
      "(41020,)\n",
      "(88877,)\n",
      "Before:  (88877, 361)\n",
      "After:  (41020, 361)\n"
     ]
    },
    {
     "name": "stderr",
     "output_type": "stream",
     "text": [
      "Widget Javascript not detected.  It may not be installed properly. Did you enable the widgetsnbextension? If not, then run \"jupyter nbextension enable --py --sys-prefix widgetsnbextension\"\n"
     ]
    },
    {
     "name": "stdout",
     "output_type": "stream",
     "text": [
      "\n",
      "Number of sites:  6153\n",
      "Portion of sites:  0.5\n",
      "Average score:  0.652104664391\n",
      "Last score:  0.650414431984\n",
      "\n",
      "Maxdepth =  150\n",
      "(41020,)\n",
      "(88877,)\n",
      "Before:  (88877, 361)\n",
      "After:  (41020, 361)\n"
     ]
    },
    {
     "name": "stderr",
     "output_type": "stream",
     "text": [
      "Widget Javascript not detected.  It may not be installed properly. Did you enable the widgetsnbextension? If not, then run \"jupyter nbextension enable --py --sys-prefix widgetsnbextension\"\n"
     ]
    },
    {
     "name": "stdout",
     "output_type": "stream",
     "text": [
      "\n",
      "Number of sites:  6153\n",
      "Portion of sites:  0.5\n",
      "Average score:  0.649032992036\n",
      "Last score:  0.645863806273\n",
      "\n",
      "Maxdepth =  160\n",
      "(41020,)\n",
      "(88877,)\n",
      "Before:  (88877, 361)\n",
      "After:  (41020, 361)\n"
     ]
    },
    {
     "name": "stderr",
     "output_type": "stream",
     "text": [
      "Widget Javascript not detected.  It may not be installed properly. Did you enable the widgetsnbextension? If not, then run \"jupyter nbextension enable --py --sys-prefix widgetsnbextension\"\n"
     ]
    },
    {
     "name": "stdout",
     "output_type": "stream",
     "text": [
      "\n",
      "Number of sites:  6153\n",
      "Portion of sites:  0.5\n",
      "Average score:  0.646611409069\n",
      "Last score:  0.640419307655\n",
      "\n",
      "Maxdepth =  170\n",
      "(41020,)\n",
      "(88877,)\n",
      "Before:  (88877, 361)\n",
      "After:  (41020, 361)\n"
     ]
    },
    {
     "name": "stderr",
     "output_type": "stream",
     "text": [
      "Widget Javascript not detected.  It may not be installed properly. Did you enable the widgetsnbextension? If not, then run \"jupyter nbextension enable --py --sys-prefix widgetsnbextension\"\n"
     ]
    },
    {
     "name": "stdout",
     "output_type": "stream",
     "text": [
      "\n",
      "Number of sites:  6153\n",
      "Portion of sites:  0.5\n",
      "Average score:  0.649715585893\n",
      "Last score:  0.647895335609\n",
      "\n",
      "Maxdepth =  180\n",
      "(41020,)\n",
      "(88877,)\n",
      "Before:  (88877, 361)\n",
      "After:  (41020, 361)\n"
     ]
    },
    {
     "name": "stderr",
     "output_type": "stream",
     "text": [
      "Widget Javascript not detected.  It may not be installed properly. Did you enable the widgetsnbextension? If not, then run \"jupyter nbextension enable --py --sys-prefix widgetsnbextension\"\n"
     ]
    },
    {
     "name": "stdout",
     "output_type": "stream",
     "text": [
      "\n",
      "Number of sites:  6153\n",
      "Portion of sites:  0.5\n",
      "Average score:  0.64627011214\n",
      "Last score:  0.642532098163\n",
      "\n",
      "Maxdepth =  190\n",
      "(41020,)\n",
      "(88877,)\n",
      "Before:  (88877, 361)\n",
      "After:  (41020, 361)\n"
     ]
    },
    {
     "name": "stderr",
     "output_type": "stream",
     "text": [
      "Widget Javascript not detected.  It may not be installed properly. Did you enable the widgetsnbextension? If not, then run \"jupyter nbextension enable --py --sys-prefix widgetsnbextension\"\n"
     ]
    },
    {
     "name": "stdout",
     "output_type": "stream",
     "text": [
      "\n",
      "Number of sites:  6153\n",
      "Portion of sites:  0.5\n",
      "Average score:  0.645571266049\n",
      "Last score:  0.64269462051\n",
      "\n",
      "Maxdepth =  200\n",
      "(41020,)\n",
      "(88877,)\n",
      "Before:  (88877, 361)\n",
      "After:  (41020, 361)\n"
     ]
    },
    {
     "name": "stderr",
     "output_type": "stream",
     "text": [
      "Widget Javascript not detected.  It may not be installed properly. Did you enable the widgetsnbextension? If not, then run \"jupyter nbextension enable --py --sys-prefix widgetsnbextension\"\n"
     ]
    },
    {
     "name": "stdout",
     "output_type": "stream",
     "text": [
      "\n",
      "Number of sites:  6153\n",
      "Portion of sites:  0.5\n",
      "Average score:  0.644872419958\n",
      "Last score:  0.643019665204\n"
     ]
    }
   ],
   "source": [
    "test_l = []\n",
    "train_l = []\n",
    "cnf_l = []\n",
    "for i in lv:\n",
    "    print()\n",
    "    print('Leaves = ',i)\n",
    "    m = Magnesium(\"set_minresol_N_5.csv\", fold='input files/',colours = ['#f6c35b', '#929292'],\n",
    "                 model = RandomForestClassifier(n_estimators=200, max_depth = 20, min_samples_leaf=i, \n",
    "                                                n_jobs=-1, criterion='gini'),  with_groups = False)\n",
    "    data = m.compute(n_splits = 5, test_size = 0.3, plots = False, reduce_features = False, balanced = True)\n",
    "    train_l.append(data['train score'])\n",
    "    test_l.append(data['test score'])\n",
    "    cnf_l.append(data['confusion'][1])"
   ]
  },
  {
   "cell_type": "markdown",
   "metadata": {},
   "source": [
    "### Save data"
   ]
  },
  {
   "cell_type": "code",
   "execution_count": null,
   "metadata": {
    "collapsed": true
   },
   "outputs": [],
   "source": [
    "h = open('outputs/balanced_test_l.txt', 'w')\n",
    "h.write(' '.join([str(i) for i in test_l]))\n",
    "h.close()\n",
    "\n",
    "h = open('outputs/balanced_train_l.txt', 'w')\n",
    "h.write(' '.join([str(i) for i in train_l]))\n",
    "h.close()\n",
    "\n",
    "h = open('outputs/balanced_cnf_l.txt', 'w')\n",
    "h.write('\\n'.join([' '.join([str(j) for j in i]) for i in cnf_l]))\n",
    "h.close()"
   ]
  },
  {
   "cell_type": "markdown",
   "metadata": {},
   "source": [
    "### Upload data"
   ]
  },
  {
   "cell_type": "code",
   "execution_count": 6,
   "metadata": {
    "collapsed": true
   },
   "outputs": [],
   "source": [
    "# Чтобы не прогонять расчеты, написанные выше каждый раз, я сохранила эти данные, \n",
    "# поэтому сейчас я могу работать с сохраненными данными.\n",
    "\n",
    "test_l = [float(i) for i in open('outputs/balanced_test_l.txt').read().split()]\n",
    "train_l = [float(i) for i in open('outputs/balanced_train_l.txt').read().split()]\n",
    "cnf_l = open('outputs/balanced_cnf_l.txt').read().split('\\n')\n",
    "cnf_l =[np.array([float(j) for j in re.split('\\[|\\]|\\s', i) if len(j)>0]).reshape(2,2) for i in cnf_l]   \n",
    "\n",
    "lv = [1,5,10, 15, 20, 25, 30, 40, 45, 50, 55, 60, 65, 70, 75, 80, 100, 120, 130, 140, 150, 160, 170, 180, 190, 200]"
   ]
  },
  {
   "cell_type": "markdown",
   "metadata": {},
   "source": [
    "### Plots"
   ]
  },
  {
   "cell_type": "code",
   "execution_count": 8,
   "metadata": {
    "collapsed": false
   },
   "outputs": [
    {
     "data": {
      "image/png": "[encoded data removed]",
      "text/plain": [
       "<matplotlib.figure.Figure at 0x266e2aba2e8>"
      ]
     },
     "metadata": {},
     "output_type": "display_data"
    },
    {
     "data": {
      "image/png": "[encoded data removed]",
      "text/plain": [
       "<matplotlib.figure.Figure at 0x266e2b24c18>"
      ]
     },
     "metadata": {},
     "output_type": "display_data"
    }
   ],
   "source": [
    "ax = plt.figure(figsize = (15,10)).add_subplot(211)\n",
    "ax.plot(lv, test_l, color = 'teal', label = 'Mean test accuracy')\n",
    "ax.scatter(lv, test_l, color = 'teal')\n",
    "ax.plot(lv, train_l, color = 'purple', label = 'Mean train accuracy')\n",
    "ax.scatter(lv, train_l, color = 'purple')\n",
    "ax.plot(lv, [i[0,0] for i in cnf_l], '-.',color = 'grey', label = 'TN')\n",
    "ax.scatter(lv, [i[0,0] for i in cnf_l], color = 'grey')\n",
    "ax.plot(lv, [i[1,1] for i in cnf_l], '--',color = 'darkgrey', label = 'TP')\n",
    "ax.scatter(lv, [i[1,1] for i in cnf_l],  color = 'darkgrey')\n",
    "plt.legend()\n",
    "plt.xlabel('Leaves')\n",
    "plt.ylabel('Accuracy')\n",
    "plt.title('Accuracy scores, maxdepth = 20', fontsize = 12)\n",
    "\n",
    "ax = plt.figure(figsize = (15,10)).add_subplot(212)\n",
    "ax.plot(lv, test_l, color = 'teal', label = 'Mean test accuracy')\n",
    "ax.scatter(lv, test_l, color = 'teal')\n",
    "ax.plot(lv, train_l, color = 'purple', label = 'Mean train accuracy')\n",
    "ax.scatter(lv, train_l, color = 'purple')\n",
    "plt.legend()\n",
    "plt.xlabel('Leaves')\n",
    "plt.ylabel('Accuracy')\n",
    "plt.title('Accuracy scores, maxdepth = 20', fontsize = 12)\n",
    "plt.show()"
   ]
  },
  {
   "cell_type": "markdown",
   "metadata": {},
   "source": [
    "### Estimators"
   ]
  },
  {
   "cell_type": "code",
   "execution_count": 15,
   "metadata": {
    "collapsed": true
   },
   "outputs": [],
   "source": [
    "#estimators = [25, 50, 75, 100, 125, 150, 175, 200, 225, 250, 275, 300, 325, 350, 375, 400]\n",
    "estimators = [425, 450, 475, 500]"
   ]
  },
  {
   "cell_type": "code",
   "execution_count": 16,
   "metadata": {
    "collapsed": false
   },
   "outputs": [
    {
     "name": "stdout",
     "output_type": "stream",
     "text": [
      "estimator: 425\n",
      "(26606,)\n",
      "(62069,)\n",
      "Before:  (62069, 361)\n",
      "After:  (26606, 361)\n",
      "Number of sites:  3991\n",
      "Portion of sites:  0.5\n",
      "Average score:  0.66319218241\n",
      "Last score:  0.661738912553\n",
      "estimator: 450\n",
      "(26606,)\n",
      "(62069,)\n",
      "Before:  (62069, 361)\n",
      "After:  (26606, 361)\n",
      "Number of sites:  3991\n",
      "Portion of sites:  0.5\n",
      "Average score:  0.662941618642\n",
      "Last score:  0.656602355299\n",
      "estimator: 475\n",
      "(26606,)\n",
      "(62069,)\n",
      "Before:  (62069, 361)\n",
      "After:  (26606, 361)\n",
      "Number of sites:  3991\n",
      "Portion of sites:  0.5\n",
      "Average score:  0.663517915309\n",
      "Last score:  0.658732147331\n",
      "estimator: 500\n",
      "(26606,)\n",
      "(62069,)\n",
      "Before:  (62069, 361)\n",
      "After:  (26606, 361)\n",
      "Number of sites:  3991\n",
      "Portion of sites:  0.5\n",
      "Average score:  0.661964419945\n",
      "Last score:  0.6589827111\n"
     ]
    }
   ],
   "source": [
    "#test_e = []\n",
    "#train_e = []\n",
    "#cnf_e = []\n",
    "for i in estimators:\n",
    "    print('estimator:', i)\n",
    "    m = Magnesium(\"set_minresol_N_5_b_b.csv\", fold='input files/',colours = ['#f6c35b', '#929292'],\n",
    "                 model = RandomForestClassifier(n_estimators=i, n_jobs=-1, criterion='gini', \n",
    "                 max_depth = 20, min_samples_leaf=75),  with_groups = False)\n",
    "    data = m.compute(n_splits = 5, test_size = 0.3, plots = False, reduce_features = False, balanced = True)\n",
    "    train_e.append(data['train score'])\n",
    "    test_e.append(data['test score'])\n",
    "    cnf_e.append(data['confusion'][1])"
   ]
  },
  {
   "cell_type": "markdown",
   "metadata": {},
   "source": [
    "### Save data"
   ]
  },
  {
   "cell_type": "code",
   "execution_count": 17,
   "metadata": {
    "collapsed": false
   },
   "outputs": [],
   "source": [
    "h = open('outputs/balanced_test_e.txt', 'w')\n",
    "h.write(' '.join([str(i) for i in test_e]))\n",
    "h.close()\n",
    "\n",
    "h = open('outputs/balanced_train_e.txt', 'w')\n",
    "h.write(' '.join([str(i) for i in train_e]))\n",
    "h.close()\n",
    "\n",
    "h = open('outputs/balanced_cnf_e.txt', 'w')\n",
    "h.write('\\n'.join([' '.join([str(j) for j in i]) for i in cnf_e]))\n",
    "h.close()"
   ]
  },
  {
   "cell_type": "markdown",
   "metadata": {},
   "source": [
    "### Upload data"
   ]
  },
  {
   "cell_type": "code",
   "execution_count": 18,
   "metadata": {
    "collapsed": true
   },
   "outputs": [],
   "source": [
    "# Чтобы не прогонять расчеты, написанные выше каждый раз, я сохранила эти данные, \n",
    "# поэтому сейчас я могу работать с сохраненными данными.\n",
    "\n",
    "test_e = [float(i) for i in open('outputs/balanced_test_e.txt').read().split()]\n",
    "train_e = [float(i) for i in open('outputs/balanced_train_e.txt').read().split()]\n",
    "cnf_e = open('outputs/balanced_cnf_e.txt').read().split('\\n')\n",
    "cnf_e =[np.array([float(j) for j in re.split('\\[|\\]|\\s', i) if len(j)>0]).reshape(2,2) for i in cnf_e]   \n",
    "\n",
    "estimators = [25, 50, 75, 100, 125, 150, 175, 200, 225, 250, 275, 300, 325, 350, 375, 400, 425, 450, 475, 500]"
   ]
  },
  {
   "cell_type": "markdown",
   "metadata": {},
   "source": [
    "### Plots"
   ]
  },
  {
   "cell_type": "code",
   "execution_count": 20,
   "metadata": {
    "collapsed": false
   },
   "outputs": [
    {
     "data": {
      "image/png": "[encoded data removed]",
      "text/plain": [
       "<matplotlib.figure.Figure at 0x1ed27e447f0>"
      ]
     },
     "metadata": {},
     "output_type": "display_data"
    },
    {
     "data": {
      "image/png": "[encoded data removed]",
      "text/plain": [
       "<matplotlib.figure.Figure at 0x1ed161933c8>"
      ]
     },
     "metadata": {},
     "output_type": "display_data"
    }
   ],
   "source": [
    "ax = plt.figure(figsize = (15,10)).add_subplot(311)\n",
    "ax.plot(estimators, test_e, color = 'teal', label = 'Mean test accuracy')\n",
    "ax.scatter(estimators, test_e, color = 'teal')\n",
    "ax.plot(estimators, train_e, color = 'purple', label = 'Mean train accuracy')\n",
    "ax.scatter(estimators, train_e, color = 'purple')\n",
    "ax.plot(estimators, [i[0,0] for i in cnf_e], '-.',color = 'grey', label = 'TN')\n",
    "ax.scatter(estimators, [i[0,0] for i in cnf_e], color = 'grey')\n",
    "ax.plot(estimators, [i[1,1] for i in cnf_e], '--',color = 'darkgrey', label = 'TP')\n",
    "ax.scatter(estimators, [i[1,1] for i in cnf_e],  color = 'darkgrey')\n",
    "plt.legend()\n",
    "plt.xlabel('Estimators')\n",
    "plt.ylabel('Accuracy')\n",
    "plt.title('Accuracy scores, maxdepth = 20, min_samples_leaf=75', fontsize = 12)\n",
    "plt.show()\n",
    "\n",
    "ax = plt.figure(figsize = (15,10)).add_subplot(312)\n",
    "ax.plot(estimators, test_e, color = 'teal', label = 'Mean test accuracy')\n",
    "ax.scatter(estimators, test_e, color = 'teal')\n",
    "ax.plot(estimators, train_e, color = 'purple', label = 'Mean train accuracy')\n",
    "ax.scatter(estimators, train_e, color = 'purple')\n",
    "plt.legend()\n",
    "plt.xlabel('Estimators')\n",
    "plt.ylabel('Accuracy')\n",
    "plt.title('Accuracy scores, maxdepth = 20, min_samples_leaf=75', fontsize = 12)\n",
    "\n",
    "\n",
    "plt.show()"
   ]
  },
  {
   "cell_type": "code",
   "execution_count": null,
   "metadata": {
    "collapsed": true
   },
   "outputs": [],
   "source": []
  }
 ],
 "metadata": {
  "anaconda-cloud": {},
  "kernelspec": {
   "display_name": "Python [default]",
   "language": "python",
   "name": "python3"
  },
  "language_info": {
   "codemirror_mode": {
    "name": "ipython",
    "version": 3
   },
   "file_extension": ".py",
   "mimetype": "text/x-python",
   "name": "python",
   "nbconvert_exporter": "python",
   "pygments_lexer": "ipython3",
   "version": "3.5.2"
  },
  "widgets": {
   "state": {
    "29a8045db8314cabb81e99e7648cec0b": {
     "views": [
      {
       "cell_index": 21
      }
     ]
    },
    "2f54712aed5c4497b69e713127e39011": {
     "views": [
      {
       "cell_index": 21
      }
     ]
    },
    "3bb5a5e1f93a41a98420ffa8fc4f5a9a": {
     "views": [
      {
       "cell_index": 21
      }
     ]
    },
    "453eb7ba18614979af532b917ac465d5": {
     "views": [
      {
       "cell_index": 21
      }
     ]
    },
    "4f3c55fd31124ad6979d91240a2a1bbe": {
     "views": [
      {
       "cell_index": 21
      }
     ]
    },
    "7723379affc7436a8db12061293d915b": {
     "views": [
      {
       "cell_index": 21
      }
     ]
    },
    "77e37e7eb7d64c2fa3b7242bfe49cb50": {
     "views": [
      {
       "cell_index": 21
      }
     ]
    },
    "8dc69ae82bdc4515a33a40f6f40083a0": {
     "views": [
      {
       "cell_index": 21
      }
     ]
    },
    "96e2240818914e35871e3a8311716b31": {
     "views": [
      {
       "cell_index": 21
      }
     ]
    },
    "ae12d67bbef149129af78f68ba7541a9": {
     "views": [
      {
       "cell_index": 21
      }
     ]
    },
    "c2a807f2edff4ecd9e988fbd9e98c943": {
     "views": [
      {
       "cell_index": 21
      }
     ]
    },
    "dc853cb653c844d4a16a5e07f7f03ac4": {
     "views": [
      {
       "cell_index": 21
      }
     ]
    },
    "e5af322b19704c628aab7fa7de32af08": {
     "views": [
      {
       "cell_index": 21
      }
     ]
    },
    "e77b932b31174a679c672922c3371a2b": {
     "views": [
      {
       "cell_index": 21
      }
     ]
    },
    "f223499c8c454f6bbf504f38f324c635": {
     "views": [
      {
       "cell_index": 21
      }
     ]
    },
    "f89bf0c5ecd34804b30b23d7d20a34da": {
     "views": [
      {
       "cell_index": 21
      }
     ]
    }
   },
   "version": "1.2.0"
  }
 },
 "nbformat": 4,
 "nbformat_minor": 2
}
