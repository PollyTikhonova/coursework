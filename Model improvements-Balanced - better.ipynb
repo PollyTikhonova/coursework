{
 "cells": [
  {
   "cell_type": "code",
   "execution_count": 1,
   "metadata": {
    "collapsed": false
   },
   "outputs": [],
   "source": [
    "from class_magnesium_not_drop_na import *"
   ]
  },
  {
   "cell_type": "markdown",
   "metadata": {},
   "source": [
    "### Max depth"
   ]
  },
  {
   "cell_type": "code",
   "execution_count": 13,
   "metadata": {
    "collapsed": true
   },
   "outputs": [],
   "source": [
    "md = list(range(1,11)) + [15, 20, 25, 30, 35]"
   ]
  },
  {
   "cell_type": "code",
   "execution_count": 14,
   "metadata": {
    "collapsed": false
   },
   "outputs": [
    {
     "name": "stdout",
     "output_type": "stream",
     "text": [
      "\n",
      "Maxdepth =  1\n",
      "(41020,)\n",
      "(88877,)\n",
      "Before:  (88877, 361)\n",
      "After:  (41020, 361)\n",
      "\n",
      "Number of sites:  6153\n",
      "Portion of sites:  0.5\n",
      "Average score:  0.603380464814\n",
      "Last score:  0.607833577117\n",
      "\n",
      "Maxdepth =  2\n",
      "(41020,)\n",
      "(88877,)\n",
      "Before:  (88877, 361)\n",
      "After:  (41020, 361)\n",
      "\n",
      "Number of sites:  6153\n",
      "Portion of sites:  0.5\n",
      "Average score:  0.612189176012\n",
      "Last score:  0.613440598082\n",
      "\n",
      "Maxdepth =  3\n",
      "(41020,)\n",
      "(88877,)\n",
      "Before:  (88877, 361)\n",
      "After:  (41020, 361)\n",
      "\n",
      "Number of sites:  6153\n",
      "Portion of sites:  0.5\n",
      "Average score:  0.620494067934\n",
      "Last score:  0.620429058996\n",
      "\n",
      "Maxdepth =  4\n",
      "(41020,)\n",
      "(88877,)\n",
      "Before:  (88877, 361)\n",
      "After:  (41020, 361)\n",
      "\n",
      "Number of sites:  6153\n",
      "Portion of sites:  0.5\n",
      "Average score:  0.628116366\n",
      "Last score:  0.626036079961\n",
      "\n",
      "Maxdepth =  5\n",
      "(41020,)\n",
      "(88877,)\n",
      "Before:  (88877, 361)\n",
      "After:  (41020, 361)\n",
      "\n",
      "Number of sites:  6153\n",
      "Portion of sites:  0.5\n",
      "Average score:  0.635088574679\n",
      "Last score:  0.633512107915\n",
      "\n",
      "Maxdepth =  6\n",
      "(41020,)\n",
      "(88877,)\n",
      "Before:  (88877, 361)\n",
      "After:  (41020, 361)\n",
      "\n",
      "Number of sites:  6153\n",
      "Portion of sites:  0.5\n",
      "Average score:  0.641524459613\n",
      "Last score:  0.640906874695\n",
      "\n",
      "Maxdepth =  7\n",
      "(41020,)\n",
      "(88877,)\n",
      "Before:  (88877, 361)\n",
      "After:  (41020, 361)\n",
      "\n",
      "Number of sites:  6153\n",
      "Portion of sites:  0.5\n",
      "Average score:  0.64960182025\n",
      "Last score:  0.643263448724\n",
      "\n",
      "Maxdepth =  8\n",
      "(41020,)\n",
      "(88877,)\n",
      "Before:  (88877, 361)\n",
      "After:  (41020, 361)\n",
      "\n",
      "Number of sites:  6153\n",
      "Portion of sites:  0.5\n",
      "Average score:  0.65473752641\n",
      "Last score:  0.648139119129\n",
      "\n",
      "Maxdepth =  9\n",
      "(41020,)\n",
      "(88877,)\n",
      "Before:  (88877, 361)\n",
      "After:  (41020, 361)\n",
      "\n",
      "Number of sites:  6153\n",
      "Portion of sites:  0.5\n",
      "Average score:  0.662311067772\n",
      "Last score:  0.656590281164\n",
      "\n",
      "Maxdepth =  10\n",
      "(41020,)\n",
      "(88877,)\n",
      "Before:  (88877, 361)\n",
      "After:  (41020, 361)\n",
      "\n",
      "Number of sites:  6153\n",
      "Portion of sites:  0.5\n",
      "Average score:  0.669088249634\n",
      "Last score:  0.662441085649\n",
      "\n",
      "Maxdepth =  15\n",
      "(41020,)\n",
      "(88877,)\n",
      "Before:  (88877, 361)\n",
      "After:  (41020, 361)\n",
      "\n",
      "Number of sites:  6153\n",
      "Portion of sites:  0.5\n",
      "Average score:  0.701153908662\n",
      "Last score:  0.694051682106\n",
      "\n",
      "Maxdepth =  20\n",
      "(41020,)\n",
      "(88877,)\n",
      "Before:  (88877, 361)\n",
      "After:  (41020, 361)\n",
      "\n",
      "Number of sites:  6153\n",
      "Portion of sites:  0.5\n",
      "Average score:  0.708873720137\n",
      "Last score:  0.70104014302\n",
      "\n",
      "Maxdepth =  25\n",
      "(41020,)\n",
      "(88877,)\n",
      "Before:  (88877, 361)\n",
      "After:  (41020, 361)\n",
      "\n",
      "Number of sites:  6153\n",
      "Portion of sites:  0.5\n",
      "Average score:  0.708987485779\n",
      "Last score:  0.704534373476\n",
      "\n",
      "Maxdepth =  30\n",
      "(41020,)\n",
      "(88877,)\n",
      "Before:  (88877, 361)\n",
      "After:  (41020, 361)\n",
      "\n",
      "Number of sites:  6153\n",
      "Portion of sites:  0.5\n",
      "Average score:  0.71072647489\n",
      "Last score:  0.706403380465\n",
      "\n",
      "Maxdepth =  35\n",
      "(41020,)\n",
      "(88877,)\n",
      "Before:  (88877, 361)\n",
      "After:  (41020, 361)\n",
      "\n",
      "Number of sites:  6153\n",
      "Portion of sites:  0.5\n",
      "Average score:  0.710645213717\n",
      "Last score:  0.705915813424\n"
     ]
    }
   ],
   "source": [
    "test = []\n",
    "train = []\n",
    "cnf = []\n",
    "for i in md:\n",
    "    print()\n",
    "    print('Maxdepth = ',i)\n",
    "    m = Magnesium(\"set_minresol_N_5.csv\", fold='input files/',colours = ['#f6c35b', '#929292'],\n",
    "                 model = RandomForestClassifier(n_estimators=200, max_depth = i, n_jobs=-1, criterion='gini'),\n",
    "                  with_groups = False)\n",
    "    data = m.compute(n_splits = 5, test_size = 0.3, plots = False, reduce_features = False, balanced = True)\n",
    "    train.append(data['train score'])\n",
    "    test.append(data['test score'])\n",
    "    cnf.append(data['confusion'][1])"
   ]
  },
  {
   "cell_type": "markdown",
   "metadata": {},
   "source": [
    "### Save data"
   ]
  },
  {
   "cell_type": "code",
   "execution_count": 15,
   "metadata": {
    "collapsed": true
   },
   "outputs": [],
   "source": [
    "h = open('outputs/balanced_test.txt', 'w')\n",
    "h.write(' '.join([str(i) for i in test]))\n",
    "h.close()\n",
    "\n",
    "h = open('outputs/balanced_train.txt', 'w')\n",
    "h.write(' '.join([str(i) for i in train]))\n",
    "h.close()\n",
    "\n",
    "h = open('outputs/balanced_cnf.txt', 'w')\n",
    "h.write('\\n'.join([' '.join([str(j) for j in i]) for i in cnf]))\n",
    "h.close()"
   ]
  },
  {
   "cell_type": "markdown",
   "metadata": {},
   "source": [
    "### Upload data"
   ]
  },
  {
   "cell_type": "code",
   "execution_count": 9,
   "metadata": {
    "collapsed": false
   },
   "outputs": [],
   "source": [
    "# Чтобы не прогонять расчеты, написанные выше каждый раз, я сохранила эти данные, \n",
    "# поэтому сейчас я могу работать с сохраненными данными.\n",
    "\n",
    "test = [float(i) for i in open('outputs/balanced_test.txt').read().split()]\n",
    "train = [float(i) for i in open('outputs/balanced_train.txt').read().split()]\n",
    "cnf = open('outputs/balanced_cnf.txt').read().split('\\n')\n",
    "cnf =[np.array([float(j) for j in re.split('\\[|\\]|\\s', i) if len(j)>0]).reshape(2,2) for i in cnf]   \n",
    "\n",
    "md = list(range(1,11)) + [15, 20, 25, 30, 35]"
   ]
  },
  {
   "cell_type": "markdown",
   "metadata": {},
   "source": [
    "### Plots"
   ]
  },
  {
   "cell_type": "code",
   "execution_count": 10,
   "metadata": {
    "collapsed": false
   },
   "outputs": [
    {
     "data": {
      "image/png": "[encoded data removed]",
      "text/plain": [
       "<matplotlib.figure.Figure at 0x266e2ab3f28>"
      ]
     },
     "metadata": {},
     "output_type": "display_data"
    },
    {
     "data": {
      "image/png": "[encoded data removed]",
      "text/plain": [
       "<matplotlib.figure.Figure at 0x266e2a13630>"
      ]
     },
     "metadata": {},
     "output_type": "display_data"
    }
   ],
   "source": [
    "ax = plt.figure(figsize = (15,10)).add_subplot(211)\n",
    "ax.plot(md, test, color = 'teal', label = 'Mean test accuracy')\n",
    "ax.scatter(md, test, color = 'teal')\n",
    "ax.plot(md, train, color = 'purple', label = 'Mean train accuracy')\n",
    "ax.scatter(md, train, color = 'purple')\n",
    "ax.plot(md, [i[0,0] for i in cnf], '-.',color = 'grey', label = 'TN')\n",
    "ax.scatter(md, [i[0,0] for i in cnf], color = 'grey')\n",
    "ax.plot(md, [i[1,1] for i in cnf], '--',color = 'darkgrey', label = 'TP')\n",
    "ax.scatter(md, [i[1,1] for i in cnf],  color = 'darkgrey')\n",
    "plt.legend()\n",
    "plt.xlabel('MaxDepth')\n",
    "plt.ylabel('Accuracy')\n",
    "plt.title('Accuracy scores', fontsize = 12)\n",
    "\n",
    "ax = plt.figure(figsize = (15,10)).add_subplot(212)\n",
    "ax.plot(md, test, color = 'teal', label = 'Mean test accuracy')\n",
    "ax.scatter(md, test, color = 'teal')\n",
    "ax.plot(md, train, color = 'purple', label = 'Mean train accuracy')\n",
    "ax.scatter(md, train, color = 'purple')\n",
    "plt.legend()\n",
    "plt.xlabel('MaxDepth')\n",
    "plt.ylabel('Accuracy')\n",
    "plt.title('Accuracy scores', fontsize = 12)\n",
    "plt.show()"
   ]
  },
  {
   "cell_type": "markdown",
   "metadata": {},
   "source": [
    "### Leaves"
   ]
  },
  {
   "cell_type": "code",
   "execution_count": 6,
   "metadata": {
    "collapsed": true
   },
   "outputs": [],
   "source": [
    "lv = [1,5,10, 15, 20, 25, 30, 40, 45, 50, 55, 60, 65, 70, 75, 80, 100, 120, 130, 140, 150, 160, 170, 180, 190, 200]"
   ]
  },
  {
   "cell_type": "code",
   "execution_count": 7,
   "metadata": {
    "collapsed": false
   },
   "outputs": [
    {
     "name": "stdout",
     "output_type": "stream",
     "text": [
      "\n",
      "Maxdepth =  1\n",
      "(41020,)\n",
      "(88877,)\n",
      "Before:  (88877, 361)\n",
      "After:  (41020, 361)\n"
     ]
    },
    {
     "name": "stderr",
     "output_type": "stream",
     "text": [
      "Widget Javascript not detected.  It may not be installed properly. Did you enable the widgetsnbextension? If not, then run \"jupyter nbextension enable --py --sys-prefix widgetsnbextension\"\n"
     ]
    },
    {
     "name": "stdout",
     "output_type": "stream",
     "text": [
      "\n",
      "Number of sites:  6153\n",
      "Portion of sites:  0.5\n",
      "Average score:  0.708597432147\n",
      "Last score:  0.709410043881\n",
      "\n",
      "Maxdepth =  5\n",
      "(41020,)\n",
      "(88877,)\n",
      "Before:  (88877, 361)\n",
      "After:  (41020, 361)\n"
     ]
    },
    {
     "name": "stderr",
     "output_type": "stream",
     "text": [
      "Widget Javascript not detected.  It may not be installed properly. Did you enable the widgetsnbextension? If not, then run \"jupyter nbextension enable --py --sys-prefix widgetsnbextension\"\n"
     ]
    },
    {
     "name": "stdout",
     "output_type": "stream",
     "text": [
      "\n",
      "Number of sites:  6153\n",
      "Portion of sites:  0.5\n",
      "Average score:  0.705704534373\n",
      "Last score:  0.702665366488\n",
      "\n",
      "Maxdepth =  10\n",
      "(41020,)\n",
      "(88877,)\n",
      "Before:  (88877, 361)\n",
      "After:  (41020, 361)\n"
     ]
    },
    {
     "name": "stderr",
     "output_type": "stream",
     "text": [
      "Widget Javascript not detected.  It may not be installed properly. Did you enable the widgetsnbextension? If not, then run \"jupyter nbextension enable --py --sys-prefix widgetsnbextension\"\n"
     ]
    },
    {
     "name": "stdout",
     "output_type": "stream",
     "text": [
      "\n",
      "Number of sites:  6153\n",
      "Portion of sites:  0.5\n",
      "Average score:  0.70253534861\n",
      "Last score:  0.699089874858\n",
      "\n",
      "Maxdepth =  15\n",
      "(41020,)\n",
      "(88877,)\n",
      "Before:  (88877, 361)\n",
      "After:  (41020, 361)\n"
     ]
    },
    {
     "name": "stderr",
     "output_type": "stream",
     "text": [
      "Widget Javascript not detected.  It may not be installed properly. Did you enable the widgetsnbextension? If not, then run \"jupyter nbextension enable --py --sys-prefix widgetsnbextension\"\n"
     ]
    },
    {
     "name": "stdout",
     "output_type": "stream",
     "text": [
      "\n",
      "Number of sites:  6153\n",
      "Portion of sites:  0.5\n",
      "Average score:  0.696847066472\n",
      "Last score:  0.691695108077\n",
      "\n",
      "Maxdepth =  20\n",
      "(41020,)\n",
      "(88877,)\n",
      "Before:  (88877, 361)\n",
      "After:  (41020, 361)\n"
     ]
    },
    {
     "name": "stderr",
     "output_type": "stream",
     "text": [
      "Widget Javascript not detected.  It may not be installed properly. Did you enable the widgetsnbextension? If not, then run \"jupyter nbextension enable --py --sys-prefix widgetsnbextension\"\n"
     ]
    },
    {
     "name": "stdout",
     "output_type": "stream",
     "text": [
      "\n",
      "Number of sites:  6153\n",
      "Portion of sites:  0.5\n",
      "Average score:  0.691955143832\n",
      "Last score:  0.69055745165\n",
      "\n",
      "Maxdepth =  25\n",
      "(41020,)\n",
      "(88877,)\n",
      "Before:  (88877, 361)\n",
      "After:  (41020, 361)\n"
     ]
    },
    {
     "name": "stderr",
     "output_type": "stream",
     "text": [
      "Widget Javascript not detected.  It may not be installed properly. Did you enable the widgetsnbextension? If not, then run \"jupyter nbextension enable --py --sys-prefix widgetsnbextension\"\n"
     ]
    },
    {
     "name": "stdout",
     "output_type": "stream",
     "text": [
      "\n",
      "Number of sites:  6153\n",
      "Portion of sites:  0.5\n",
      "Average score:  0.684771656103\n",
      "Last score:  0.679749715586\n",
      "\n",
      "Maxdepth =  30\n",
      "(41020,)\n",
      "(88877,)\n",
      "Before:  (88877, 361)\n",
      "After:  (41020, 361)\n"
     ]
    },
    {
     "name": "stderr",
     "output_type": "stream",
     "text": [
      "Widget Javascript not detected.  It may not be installed properly. Did you enable the widgetsnbextension? If not, then run \"jupyter nbextension enable --py --sys-prefix widgetsnbextension\"\n"
     ]
    },
    {
     "name": "stdout",
     "output_type": "stream",
     "text": [
      "\n",
      "Number of sites:  6153\n",
      "Portion of sites:  0.5\n",
      "Average score:  0.681830001625\n",
      "Last score:  0.674223955794\n",
      "\n",
      "Maxdepth =  40\n",
      "(41020,)\n",
      "(88877,)\n",
      "Before:  (88877, 361)\n",
      "After:  (41020, 361)\n"
     ]
    },
    {
     "name": "stderr",
     "output_type": "stream",
     "text": [
      "Widget Javascript not detected.  It may not be installed properly. Did you enable the widgetsnbextension? If not, then run \"jupyter nbextension enable --py --sys-prefix widgetsnbextension\"\n"
     ]
    },
    {
     "name": "stdout",
     "output_type": "stream",
     "text": [
      "\n",
      "Number of sites:  6153\n",
      "Portion of sites:  0.5\n",
      "Average score:  0.676385503007\n",
      "Last score:  0.671704859418\n",
      "\n",
      "Maxdepth =  45\n",
      "(41020,)\n",
      "(88877,)\n",
      "Before:  (88877, 361)\n",
      "After:  (41020, 361)\n"
     ]
    },
    {
     "name": "stderr",
     "output_type": "stream",
     "text": [
      "Widget Javascript not detected.  It may not be installed properly. Did you enable the widgetsnbextension? If not, then run \"jupyter nbextension enable --py --sys-prefix widgetsnbextension\"\n"
     ]
    },
    {
     "name": "stdout",
     "output_type": "stream",
     "text": [
      "\n",
      "Number of sites:  6153\n",
      "Portion of sites:  0.5\n",
      "Average score:  0.67289127255\n",
      "Last score:  0.667966845441\n",
      "\n",
      "Maxdepth =  50\n",
      "(41020,)\n",
      "(88877,)\n",
      "Before:  (88877, 361)\n",
      "After:  (41020, 361)\n"
     ]
    },
    {
     "name": "stderr",
     "output_type": "stream",
     "text": [
      "Widget Javascript not detected.  It may not be installed properly. Did you enable the widgetsnbextension? If not, then run \"jupyter nbextension enable --py --sys-prefix widgetsnbextension\"\n"
     ]
    },
    {
     "name": "stdout",
     "output_type": "stream",
     "text": [
      "\n",
      "Number of sites:  6153\n",
      "Portion of sites:  0.5\n",
      "Average score:  0.671802372826\n",
      "Last score:  0.664472614985\n",
      "\n",
      "Maxdepth =  55\n",
      "(41020,)\n",
      "(88877,)\n",
      "Before:  (88877, 361)\n",
      "After:  (41020, 361)\n"
     ]
    },
    {
     "name": "stderr",
     "output_type": "stream",
     "text": [
      "Widget Javascript not detected.  It may not be installed properly. Did you enable the widgetsnbextension? If not, then run \"jupyter nbextension enable --py --sys-prefix widgetsnbextension\"\n"
     ]
    },
    {
     "name": "stdout",
     "output_type": "stream",
     "text": [
      "\n",
      "Number of sites:  6153\n",
      "Portion of sites:  0.5\n",
      "Average score:  0.669722086787\n",
      "Last score:  0.664310092638\n",
      "\n",
      "Maxdepth =  60\n",
      "(41020,)\n",
      "(88877,)\n",
      "Before:  (88877, 361)\n",
      "After:  (41020, 361)\n"
     ]
    },
    {
     "name": "stderr",
     "output_type": "stream",
     "text": [
      "Widget Javascript not detected.  It may not be installed properly. Did you enable the widgetsnbextension? If not, then run \"jupyter nbextension enable --py --sys-prefix widgetsnbextension\"\n"
     ]
    },
    {
     "name": "stdout",
     "output_type": "stream",
     "text": [
      "\n",
      "Number of sites:  6153\n",
      "Portion of sites:  0.5\n",
      "Average score:  0.668210628961\n",
      "Last score:  0.660165772794\n",
      "\n",
      "Maxdepth =  65\n",
      "(41020,)\n",
      "(88877,)\n",
      "Before:  (88877, 361)\n",
      "After:  (41020, 361)\n"
     ]
    },
    {
     "name": "stderr",
     "output_type": "stream",
     "text": [
      "Widget Javascript not detected.  It may not be installed properly. Did you enable the widgetsnbextension? If not, then run \"jupyter nbextension enable --py --sys-prefix widgetsnbextension\"\n"
     ]
    },
    {
     "name": "stdout",
     "output_type": "stream",
     "text": [
      "\n",
      "Number of sites:  6153\n",
      "Portion of sites:  0.5\n",
      "Average score:  0.666276613034\n",
      "Last score:  0.660572078661\n",
      "\n",
      "Maxdepth =  70\n",
      "(41020,)\n",
      "(88877,)\n",
      "Before:  (88877, 361)\n",
      "After:  (41020, 361)\n"
     ]
    },
    {
     "name": "stderr",
     "output_type": "stream",
     "text": [
      "Widget Javascript not detected.  It may not be installed properly. Did you enable the widgetsnbextension? If not, then run \"jupyter nbextension enable --py --sys-prefix widgetsnbextension\"\n"
     ]
    },
    {
     "name": "stdout",
     "output_type": "stream",
     "text": [
      "\n",
      "Number of sites:  6153\n",
      "Portion of sites:  0.5\n",
      "Average score:  0.663464976434\n",
      "Last score:  0.659678205753\n",
      "\n",
      "Maxdepth =  75\n",
      "(41020,)\n",
      "(88877,)\n",
      "Before:  (88877, 361)\n",
      "After:  (41020, 361)\n"
     ]
    },
    {
     "name": "stderr",
     "output_type": "stream",
     "text": [
      "Widget Javascript not detected.  It may not be installed properly. Did you enable the widgetsnbextension? If not, then run \"jupyter nbextension enable --py --sys-prefix widgetsnbextension\"\n"
     ]
    },
    {
     "name": "stdout",
     "output_type": "stream",
     "text": [
      "\n",
      "Number of sites:  6153\n",
      "Portion of sites:  0.5\n",
      "Average score:  0.662619860231\n",
      "Last score:  0.660409556314\n",
      "\n",
      "Maxdepth =  80\n",
      "(41020,)\n",
      "(88877,)\n",
      "Before:  (88877, 361)\n",
      "After:  (41020, 361)\n"
     ]
    },
    {
     "name": "stderr",
     "output_type": "stream",
     "text": [
      "Widget Javascript not detected.  It may not be installed properly. Did you enable the widgetsnbextension? If not, then run \"jupyter nbextension enable --py --sys-prefix widgetsnbextension\"\n"
     ]
    },
    {
     "name": "stdout",
     "output_type": "stream",
     "text": [
      "\n",
      "Number of sites:  6153\n",
      "Portion of sites:  0.5\n",
      "Average score:  0.663594994312\n",
      "Last score:  0.657240370551\n",
      "\n",
      "Maxdepth =  100\n",
      "(41020,)\n",
      "(88877,)\n",
      "Before:  (88877, 361)\n",
      "After:  (41020, 361)\n"
     ]
    },
    {
     "name": "stderr",
     "output_type": "stream",
     "text": [
      "Widget Javascript not detected.  It may not be installed properly. Did you enable the widgetsnbextension? If not, then run \"jupyter nbextension enable --py --sys-prefix widgetsnbextension\"\n"
     ]
    },
    {
     "name": "stdout",
     "output_type": "stream",
     "text": [
      "\n",
      "Number of sites:  6153\n",
      "Portion of sites:  0.5\n",
      "Average score:  0.656395254347\n",
      "Last score:  0.651795871932\n",
      "\n",
      "Maxdepth =  120\n",
      "(41020,)\n",
      "(88877,)\n",
      "Before:  (88877, 361)\n",
      "After:  (41020, 361)\n"
     ]
    },
    {
     "name": "stderr",
     "output_type": "stream",
     "text": [
      "Widget Javascript not detected.  It may not be installed properly. Did you enable the widgetsnbextension? If not, then run \"jupyter nbextension enable --py --sys-prefix widgetsnbextension\"\n"
     ]
    },
    {
     "name": "stdout",
     "output_type": "stream",
     "text": [
      "\n",
      "Number of sites:  6153\n",
      "Portion of sites:  0.5\n",
      "Average score:  0.652364700146\n",
      "Last score:  0.649520559077\n",
      "\n",
      "Maxdepth =  130\n",
      "(41020,)\n",
      "(88877,)\n",
      "Before:  (88877, 361)\n",
      "After:  (41020, 361)\n"
     ]
    },
    {
     "name": "stderr",
     "output_type": "stream",
     "text": [
      "Widget Javascript not detected.  It may not be installed properly. Did you enable the widgetsnbextension? If not, then run \"jupyter nbextension enable --py --sys-prefix widgetsnbextension\"\n"
     ]
    },
    {
     "name": "stdout",
     "output_type": "stream",
     "text": [
      "\n",
      "Number of sites:  6153\n",
      "Portion of sites:  0.5\n",
      "Average score:  0.652137168861\n",
      "Last score:  0.6457825451\n",
      "\n",
      "Maxdepth =  140\n",
      "(41020,)\n",
      "(88877,)\n",
      "Before:  (88877, 361)\n",
      "After:  (41020, 361)\n"
     ]
    },
    {
     "name": "stderr",
     "output_type": "stream",
     "text": [
      "Widget Javascript not detected.  It may not be installed properly. Did you enable the widgetsnbextension? If not, then run \"jupyter nbextension enable --py --sys-prefix widgetsnbextension\"\n"
     ]
    },
    {
     "name": "stdout",
     "output_type": "stream",
     "text": [
      "\n",
      "Number of sites:  6153\n",
      "Portion of sites:  0.5\n",
      "Average score:  0.652104664391\n",
      "Last score:  0.650414431984\n",
      "\n",
      "Maxdepth =  150\n",
      "(41020,)\n",
      "(88877,)\n",
      "Before:  (88877, 361)\n",
      "After:  (41020, 361)\n"
     ]
    },
    {
     "name": "stderr",
     "output_type": "stream",
     "text": [
      "Widget Javascript not detected.  It may not be installed properly. Did you enable the widgetsnbextension? If not, then run \"jupyter nbextension enable --py --sys-prefix widgetsnbextension\"\n"
     ]
    },
    {
     "name": "stdout",
     "output_type": "stream",
     "text": [
      "\n",
      "Number of sites:  6153\n",
      "Portion of sites:  0.5\n",
      "Average score:  0.649032992036\n",
      "Last score:  0.645863806273\n",
      "\n",
      "Maxdepth =  160\n",
      "(41020,)\n",
      "(88877,)\n",
      "Before:  (88877, 361)\n",
      "After:  (41020, 361)\n"
     ]
    },
    {
     "name": "stderr",
     "output_type": "stream",
     "text": [
      "Widget Javascript not detected.  It may not be installed properly. Did you enable the widgetsnbextension? If not, then run \"jupyter nbextension enable --py --sys-prefix widgetsnbextension\"\n"
     ]
    },
    {
     "name": "stdout",
     "output_type": "stream",
     "text": [
      "\n",
      "Number of sites:  6153\n",
      "Portion of sites:  0.5\n",
      "Average score:  0.646611409069\n",
      "Last score:  0.640419307655\n",
      "\n",
      "Maxdepth =  170\n",
      "(41020,)\n",
      "(88877,)\n",
      "Before:  (88877, 361)\n",
      "After:  (41020, 361)\n"
     ]
    },
    {
     "name": "stderr",
     "output_type": "stream",
     "text": [
      "Widget Javascript not detected.  It may not be installed properly. Did you enable the widgetsnbextension? If not, then run \"jupyter nbextension enable --py --sys-prefix widgetsnbextension\"\n"
     ]
    },
    {
     "name": "stdout",
     "output_type": "stream",
     "text": [
      "\n",
      "Number of sites:  6153\n",
      "Portion of sites:  0.5\n",
      "Average score:  0.649715585893\n",
      "Last score:  0.647895335609\n",
      "\n",
      "Maxdepth =  180\n",
      "(41020,)\n",
      "(88877,)\n",
      "Before:  (88877, 361)\n",
      "After:  (41020, 361)\n"
     ]
    },
    {
     "name": "stderr",
     "output_type": "stream",
     "text": [
      "Widget Javascript not detected.  It may not be installed properly. Did you enable the widgetsnbextension? If not, then run \"jupyter nbextension enable --py --sys-prefix widgetsnbextension\"\n"
     ]
    },
    {
     "name": "stdout",
     "output_type": "stream",
     "text": [
      "\n",
      "Number of sites:  6153\n",
      "Portion of sites:  0.5\n",
      "Average score:  0.64627011214\n",
      "Last score:  0.642532098163\n",
      "\n",
      "Maxdepth =  190\n",
      "(41020,)\n",
      "(88877,)\n",
      "Before:  (88877, 361)\n",
      "After:  (41020, 361)\n"
     ]
    },
    {
     "name": "stderr",
     "output_type": "stream",
     "text": [
      "Widget Javascript not detected.  It may not be installed properly. Did you enable the widgetsnbextension? If not, then run \"jupyter nbextension enable --py --sys-prefix widgetsnbextension\"\n"
     ]
    },
    {
     "name": "stdout",
     "output_type": "stream",
     "text": [
      "\n",
      "Number of sites:  6153\n",
      "Portion of sites:  0.5\n",
      "Average score:  0.645571266049\n",
      "Last score:  0.64269462051\n",
      "\n",
      "Maxdepth =  200\n",
      "(41020,)\n",
      "(88877,)\n",
      "Before:  (88877, 361)\n",
      "After:  (41020, 361)\n"
     ]
    },
    {
     "name": "stderr",
     "output_type": "stream",
     "text": [
      "Widget Javascript not detected.  It may not be installed properly. Did you enable the widgetsnbextension? If not, then run \"jupyter nbextension enable --py --sys-prefix widgetsnbextension\"\n"
     ]
    },
    {
     "name": "stdout",
     "output_type": "stream",
     "text": [
      "\n",
      "Number of sites:  6153\n",
      "Portion of sites:  0.5\n",
      "Average score:  0.644872419958\n",
      "Last score:  0.643019665204\n"
     ]
    }
   ],
   "source": [
    "test_l = []\n",
    "train_l = []\n",
    "cnf_l = []\n",
    "for i in lv:\n",
    "    print()\n",
    "    print('Leaves = ',i)\n",
    "    m = Magnesium(\"set_minresol_N_5.csv\", fold='input files/',colours = ['#f6c35b', '#929292'],\n",
    "                 model = RandomForestClassifier(n_estimators=200, max_depth = 20, min_samples_leaf=i, \n",
    "                                                n_jobs=-1, criterion='gini'),  with_groups = False)\n",
    "    data = m.compute(n_splits = 5, test_size = 0.3, plots = False, reduce_features = False, balanced = True)\n",
    "    train_l.append(data['train score'])\n",
    "    test_l.append(data['test score'])\n",
    "    cnf_l.append(data['confusion'][1])"
   ]
  },
  {
   "cell_type": "markdown",
   "metadata": {},
   "source": [
    "### Save data"
   ]
  },
  {
   "cell_type": "code",
   "execution_count": null,
   "metadata": {
    "collapsed": true
   },
   "outputs": [],
   "source": [
    "h = open('outputs/balanced_test_l.txt', 'w')\n",
    "h.write(' '.join([str(i) for i in test_l]))\n",
    "h.close()\n",
    "\n",
    "h = open('outputs/balanced_train_l.txt', 'w')\n",
    "h.write(' '.join([str(i) for i in train_l]))\n",
    "h.close()\n",
    "\n",
    "h = open('outputs/balanced_cnf_l.txt', 'w')\n",
    "h.write('\\n'.join([' '.join([str(j) for j in i]) for i in cnf_l]))\n",
    "h.close()"
   ]
  },
  {
   "cell_type": "markdown",
   "metadata": {},
   "source": [
    "### Upload data"
   ]
  },
  {
   "cell_type": "code",
   "execution_count": 6,
   "metadata": {
    "collapsed": true
   },
   "outputs": [],
   "source": [
    "# Чтобы не прогонять расчеты, написанные выше каждый раз, я сохранила эти данные, \n",
    "# поэтому сейчас я могу работать с сохраненными данными.\n",
    "\n",
    "test_l = [float(i) for i in open('outputs/balanced_test_l.txt').read().split()]\n",
    "train_l = [float(i) for i in open('outputs/balanced_train_l.txt').read().split()]\n",
    "cnf_l = open('outputs/balanced_cnf_l.txt').read().split('\\n')\n",
    "cnf_l =[np.array([float(j) for j in re.split('\\[|\\]|\\s', i) if len(j)>0]).reshape(2,2) for i in cnf_l]   \n",
    "\n",
    "lv = [1,5,10, 15, 20, 25, 30, 40, 45, 50, 55, 60, 65, 70, 75, 80, 100, 120, 130, 140, 150, 160, 170, 180, 190, 200]"
   ]
  },
  {
   "cell_type": "markdown",
   "metadata": {},
   "source": [
    "### Plots"
   ]
  },
  {
   "cell_type": "code",
   "execution_count": 8,
   "metadata": {
    "collapsed": false
   },
   "outputs": [
    {
     "data": {
      "image/png": "[encoded data removed]",
      "text/plain": [
       "<matplotlib.figure.Figure at 0x266e2aba2e8>"
      ]
     },
     "metadata": {},
     "output_type": "display_data"
    },
    {
     "data": {
      "image/png": "[encoded data removed]",
      "text/plain": [
       "<matplotlib.figure.Figure at 0x266e2b24c18>"
      ]
     },
     "metadata": {},
     "output_type": "display_data"
    }
   ],
   "source": [
    "ax = plt.figure(figsize = (15,10)).add_subplot(211)\n",
    "ax.plot(lv, test_l, color = 'teal', label = 'Mean test accuracy')\n",
    "ax.scatter(lv, test_l, color = 'teal')\n",
    "ax.plot(lv, train_l, color = 'purple', label = 'Mean train accuracy')\n",
    "ax.scatter(lv, train_l, color = 'purple')\n",
    "ax.plot(lv, [i[0,0] for i in cnf_l], '-.',color = 'grey', label = 'TN')\n",
    "ax.scatter(lv, [i[0,0] for i in cnf_l], color = 'grey')\n",
    "ax.plot(lv, [i[1,1] for i in cnf_l], '--',color = 'darkgrey', label = 'TP')\n",
    "ax.scatter(lv, [i[1,1] for i in cnf_l],  color = 'darkgrey')\n",
    "plt.legend()\n",
    "plt.xlabel('Leaves')\n",
    "plt.ylabel('Accuracy')\n",
    "plt.title('Accuracy scores, maxdepth = 20', fontsize = 12)\n",
    "\n",
    "ax = plt.figure(figsize = (15,10)).add_subplot(212)\n",
    "ax.plot(lv, test_l, color = 'teal', label = 'Mean test accuracy')\n",
    "ax.scatter(lv, test_l, color = 'teal')\n",
    "ax.plot(lv, train_l, color = 'purple', label = 'Mean train accuracy')\n",
    "ax.scatter(lv, train_l, color = 'purple')\n",
    "plt.legend()\n",
    "plt.xlabel('Leaves')\n",
    "plt.ylabel('Accuracy')\n",
    "plt.title('Accuracy scores, maxdepth = 20', fontsize = 12)\n",
    "plt.show()"
   ]
  },
  {
   "cell_type": "markdown",
   "metadata": {},
   "source": [
    "### Estimators"
   ]
  },
  {
   "cell_type": "code",
   "execution_count": 4,
   "metadata": {
    "collapsed": true
   },
   "outputs": [],
   "source": [
    "estimators = [25, 50, 75, 100, 125, 150, 175, 200]"
   ]
  },
  {
   "cell_type": "code",
   "execution_count": 5,
   "metadata": {
    "collapsed": false
   },
   "outputs": [
    {
     "name": "stdout",
     "output_type": "stream",
     "text": [
      "estimator: 25\n",
      "\n",
      "Number of sites:  3991\n",
      "Portion of sites:  0.21432790935\n",
      "Average score:  0.78567209065\n",
      "Last score:  0.78567209065\n",
      "estimator: 50\n",
      "\n",
      "Number of sites:  3991\n",
      "Portion of sites:  0.21432790935\n",
      "Average score:  0.78567209065\n",
      "Last score:  0.78567209065\n",
      "estimator: 75\n",
      "\n",
      "Number of sites:  3991\n",
      "Portion of sites:  0.21432790935\n",
      "Average score:  0.78567209065\n",
      "Last score:  0.78567209065\n",
      "estimator: 100\n",
      "\n",
      "Number of sites:  3991\n",
      "Portion of sites:  0.21432790935\n",
      "Average score:  0.78567209065\n",
      "Last score:  0.78567209065\n",
      "estimator: 125\n",
      "\n",
      "Number of sites:  3991\n",
      "Portion of sites:  0.21432790935\n",
      "Average score:  0.78567209065\n",
      "Last score:  0.78567209065\n",
      "estimator: 150\n",
      "\n",
      "Number of sites:  3991\n",
      "Portion of sites:  0.21432790935\n",
      "Average score:  0.78567209065\n",
      "Last score:  0.78567209065\n",
      "estimator: 175\n",
      "\n",
      "Number of sites:  3991\n",
      "Portion of sites:  0.21432790935\n",
      "Average score:  0.78567209065\n",
      "Last score:  0.78567209065\n",
      "estimator: 200\n",
      "\n",
      "Number of sites:  3991\n",
      "Portion of sites:  0.21432790935\n",
      "Average score:  0.78567209065\n",
      "Last score:  0.78567209065\n"
     ]
    }
   ],
   "source": [
    "test_e = []\n",
    "train_e = []\n",
    "cnf_e = []\n",
    "for i in estimators:\n",
    "    print('estimator:', i)\n",
    "    m = Magnesium(\"set_minresol_N_5_b_b.csv\", fold='input files/',colours = ['#f6c35b', '#929292'],\n",
    "                 model = RandomForestClassifier(n_estimators=i, n_jobs=-1, criterion='gini', \n",
    "                 max_depth = 20, min_samples_leaf=75),  with_groups = True)\n",
    "    data = m.compute(n_splits = 5, test_size = 0.3, plots = False, reduce_features = False)\n",
    "    train_e.append(data['train score'])\n",
    "    test_e.append(data['test score'])\n",
    "    cnf_e.append(data['confusion'][1])"
   ]
  },
  {
   "cell_type": "markdown",
   "metadata": {},
   "source": [
    "### Save data"
   ]
  },
  {
   "cell_type": "code",
   "execution_count": 6,
   "metadata": {
    "collapsed": false
   },
   "outputs": [],
   "source": [
    "h = open('outputs/balanced_test_e.txt', 'w')\n",
    "h.write(' '.join([str(i) for i in test_e]))\n",
    "h.close()\n",
    "\n",
    "h = open('outputs/balanced_train_e.txt', 'w')\n",
    "h.write(' '.join([str(i) for i in train_e]))\n",
    "h.close()\n",
    "\n",
    "h = open('outputs/balanced_cnf_e.txt', 'w')\n",
    "h.write('\\n'.join([' '.join([str(j) for j in i]) for i in cnf_e]))\n",
    "h.close()"
   ]
  },
  {
   "cell_type": "markdown",
   "metadata": {},
   "source": [
    "### Upload data"
   ]
  },
  {
   "cell_type": "code",
   "execution_count": 9,
   "metadata": {
    "collapsed": true
   },
   "outputs": [],
   "source": [
    "# Чтобы не прогонять расчеты, написанные выше каждый раз, я сохранила эти данные, \n",
    "# поэтому сейчас я могу работать с сохраненными данными.\n",
    "\n",
    "test_e = [float(i) for i in open('outputs/balanced_test_e.txt').read().split()]\n",
    "train_e = [float(i) for i in open('outputs/balanced_train_e.txt').read().split()]\n",
    "cnf_e = open('outputs/balanced_cnf_e.txt').read().split('\\n')\n",
    "cnf_e =[np.array([float(j) for j in re.split('\\[|\\]|\\s', i) if len(j)>0]).reshape(2,2) for i in cnf_e]   \n",
    "\n",
    "estimators = [25, 50, 75, 100, 125, 150, 175, 200]"
   ]
  },
  {
   "cell_type": "markdown",
   "metadata": {},
   "source": [
    "### Plots"
   ]
  },
  {
   "cell_type": "code",
   "execution_count": 21,
   "metadata": {
    "collapsed": false
   },
   "outputs": [
    {
     "data": {
      "image/png": "[encoded data removed]",
      "text/plain": [
       "<matplotlib.figure.Figure at 0x22551aa0550>"
      ]
     },
     "metadata": {},
     "output_type": "display_data"
    },
    {
     "data": {
      "image/png": "[encoded data removed]",
      "text/plain": [
       "<matplotlib.figure.Figure at 0x2255a39ce48>"
      ]
     },
     "metadata": {},
     "output_type": "display_data"
    },
    {
     "data": {
      "image/png": "[encoded data removed]",
      "text/plain": [
       "<matplotlib.figure.Figure at 0x2254fe4cda0>"
      ]
     },
     "metadata": {},
     "output_type": "display_data"
    }
   ],
   "source": [
    "ax = plt.figure(figsize = (15,10)).add_subplot(311)\n",
    "ax.plot(estimators, test_e, color = 'teal', label = 'Mean test accuracy')\n",
    "ax.scatter(estimators, test_e, color = 'teal')\n",
    "ax.plot(estimators, train_e, color = 'purple', label = 'Mean train accuracy')\n",
    "ax.scatter(estimators, train_e, color = 'purple')\n",
    "ax.plot(estimators, [i[0,0] for i in cnf_e], '-.',color = 'grey', label = 'TN')\n",
    "ax.scatter(estimators, [i[0,0] for i in cnf_e], color = 'grey')\n",
    "ax.plot(estimators, [i[1,1] for i in cnf_e], '--',color = 'darkgrey', label = 'TP')\n",
    "ax.scatter(estimators, [i[1,1] for i in cnf_e],  color = 'darkgrey')\n",
    "plt.legend()\n",
    "plt.xlabel('Estimators')\n",
    "plt.ylabel('Accuracy')\n",
    "plt.title('Accuracy scores, maxdepth = 20, min_samples_leaf=75', fontsize = 12)\n",
    "plt.show()\n",
    "\n",
    "ax = plt.figure(figsize = (15,10)).add_subplot(312)\n",
    "ax.plot(estimators, test_e, color = 'teal', label = 'Mean test accuracy')\n",
    "ax.scatter(estimators, test_e, color = 'teal')\n",
    "ax.plot(estimators, train_e, color = 'purple', label = 'Mean train accuracy')\n",
    "ax.scatter(estimators, train_e, color = 'purple')\n",
    "plt.legend()\n",
    "plt.xlabel('Estimators')\n",
    "plt.ylabel('Accuracy')\n",
    "plt.title('Accuracy scores, maxdepth = 20, min_samples_leaf=75', fontsize = 12)\n",
    "\n",
    "ax = plt.figure(figsize = (5,20)).add_subplot(312)\n",
    "ax.plot(estimators[:2], test_e[:2], color = 'teal', label = 'Mean test accuracy')\n",
    "ax.scatter(estimators[:2], test_e[:2], color = 'teal')\n",
    "ax.plot(estimators[:2], train_e[:2], color = 'purple', label = 'Mean train accuracy')\n",
    "ax.scatter(estimators[:2], train_e[:2], color = 'purple')\n",
    "ax.set_xticks(estimators[:2])\n",
    "plt.legend()\n",
    "plt.xlabel('Estimators')\n",
    "plt.ylabel('Accuracy')\n",
    "plt.title('Accuracy scores, part', fontsize = 12)\n",
    "\n",
    "plt.show()"
   ]
  },
  {
   "cell_type": "code",
   "execution_count": null,
   "metadata": {
    "collapsed": true
   },
   "outputs": [],
   "source": []
  }
 ],
 "metadata": {
  "anaconda-cloud": {},
  "kernelspec": {
   "display_name": "Python [default]",
   "language": "python",
   "name": "python3"
  },
  "language_info": {
   "codemirror_mode": {
    "name": "ipython",
    "version": 3
   },
   "file_extension": ".py",
   "mimetype": "text/x-python",
   "name": "python",
   "nbconvert_exporter": "python",
   "pygments_lexer": "ipython3",
   "version": "3.5.2"
  },
  "widgets": {
   "state": {
    "0561ddc229764d3d9eb21abf08e90bb6": {
     "views": [
      {
       "cell_index": 3
      }
     ]
    },
    "0c8a7b62ba4948b892fa13a2d3f7f531": {
     "views": [
      {
       "cell_index": 21
      }
     ]
    },
    "14f4e51c530e48d9b2cb495a4d354ab5": {
     "views": [
      {
       "cell_index": 3
      }
     ]
    },
    "15a80ac889a34f4b8d7056b035b82c29": {
     "views": [
      {
       "cell_index": 21
      }
     ]
    },
    "1c2d72c98ce741ab86757d6b8ec6ed5f": {
     "views": [
      {
       "cell_index": 3
      }
     ]
    },
    "1f270e7b9cd04ddd9f4c78746a42a927": {
     "views": [
      {
       "cell_index": 3
      }
     ]
    },
    "20c1c40a8e44419d9c96f9449ca88775": {
     "views": [
      {
       "cell_index": 21
      }
     ]
    },
    "2fd15dad8e2147088de1a1b7bd2bbc9c": {
     "views": [
      {
       "cell_index": 3
      }
     ]
    },
    "3487ee15c2534a8eb5a95173ebe599b5": {
     "views": [
      {
       "cell_index": 3
      }
     ]
    },
    "3e46c146d1314dc7ad3f6836ad47df3a": {
     "views": [
      {
       "cell_index": 3
      }
     ]
    },
    "4e636b690d65486ca42fe37fcb6eb21c": {
     "views": [
      {
       "cell_index": 21
      }
     ]
    },
    "5917adf64d5142898154f36f89a05d61": {
     "views": [
      {
       "cell_index": 21
      }
     ]
    },
    "63a3937cdf8b4ad0adf95b245df61790": {
     "views": [
      {
       "cell_index": 3
      }
     ]
    },
    "65f7c9e65e5d47f7b247c73f25e14a13": {
     "views": [
      {
       "cell_index": 3
      }
     ]
    },
    "66919c424b5a4060ac4e12128584c952": {
     "views": [
      {
       "cell_index": 21
      }
     ]
    },
    "6f71a97820a04752b56fea78eca99f4b": {
     "views": [
      {
       "cell_index": 3
      }
     ]
    },
    "710a31edffad48fb97beb4a79ed9f310": {
     "views": [
      {
       "cell_index": 3
      }
     ]
    },
    "7368e0d258d0466a9403582f0412dbbc": {
     "views": [
      {
       "cell_index": 3
      }
     ]
    },
    "75c4cfd74d344f19a43f28e8689f0417": {
     "views": [
      {
       "cell_index": 21
      }
     ]
    },
    "781777f93b2c4c7abf6d4b92ed9636f5": {
     "views": [
      {
       "cell_index": 3
      }
     ]
    },
    "78c6430968da46b781db8776e4a31cd5": {
     "views": [
      {
       "cell_index": 3
      }
     ]
    },
    "7a2735da48594b88adccbf3d79c0bc96": {
     "views": [
      {
       "cell_index": 21
      }
     ]
    },
    "80da344353b24e7fbbe38a2ae17db860": {
     "views": [
      {
       "cell_index": 3
      }
     ]
    },
    "83c8ba8b28d74d74a0e55cc7fd06be01": {
     "views": [
      {
       "cell_index": 3
      }
     ]
    },
    "864db3be606145479cd6e898a8100c77": {
     "views": [
      {
       "cell_index": 3
      }
     ]
    },
    "8771c5d7289647c9a078615225365f4b": {
     "views": [
      {
       "cell_index": 3
      }
     ]
    },
    "89fb2f8e4c7a4eed8980c97b7438170a": {
     "views": [
      {
       "cell_index": 3
      }
     ]
    },
    "916ecb3e1c6240f4a667e240d71f060c": {
     "views": [
      {
       "cell_index": 3
      }
     ]
    },
    "9f322c78fde44d39a3e8c4084872cede": {
     "views": [
      {
       "cell_index": 21
      }
     ]
    },
    "a0e2b0a876d547e1ae079a1a03f33472": {
     "views": [
      {
       "cell_index": 3
      }
     ]
    },
    "a277dae547ab44a99f9b082aba08309e": {
     "views": [
      {
       "cell_index": 3
      }
     ]
    },
    "af051370fa0c41d281700bcd0674d9c5": {
     "views": [
      {
       "cell_index": 21
      }
     ]
    },
    "bd4cfc62c18943599ad1f545a193fa4d": {
     "views": [
      {
       "cell_index": 21
      }
     ]
    },
    "eaf4f3c4bde2459bb8c3d61c9d3985b5": {
     "views": [
      {
       "cell_index": 21
      }
     ]
    }
   },
   "version": "1.2.0"
  }
 },
 "nbformat": 4,
 "nbformat_minor": 2
}
