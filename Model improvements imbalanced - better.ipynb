{
 "cells": [
  {
   "cell_type": "code",
   "execution_count": 1,
   "metadata": {
    "collapsed": true
   },
   "outputs": [],
   "source": [
    "from class_magnesium_not_drop_na import *"
   ]
  },
  {
   "cell_type": "markdown",
   "metadata": {},
   "source": [
    "### Max depth"
   ]
  },
  {
   "cell_type": "code",
   "execution_count": 2,
   "metadata": {
    "collapsed": true
   },
   "outputs": [],
   "source": [
    "md = list(range(1,11)) + [15, 20, 25, 30, 35]\n",
    "#md = [ 25, 30, 40]"
   ]
  },
  {
   "cell_type": "code",
   "execution_count": 3,
   "metadata": {
    "collapsed": false
   },
   "outputs": [
    {
     "name": "stderr",
     "output_type": "stream",
     "text": [
      "Widget Javascript not detected.  It may not be installed properly. Did you enable the widgetsnbextension? If not, then run \"jupyter nbextension enable --py --sys-prefix widgetsnbextension\"\n"
     ]
    },
    {
     "name": "stdout",
     "output_type": "stream",
     "text": [
      "\n",
      "Number of sites:  6153\n",
      "Portion of sites:  0.230760576058\n",
      "Average score:  0.769239423942\n",
      "Last score:  0.769239423942\n"
     ]
    },
    {
     "name": "stderr",
     "output_type": "stream",
     "text": [
      "Widget Javascript not detected.  It may not be installed properly. Did you enable the widgetsnbextension? If not, then run \"jupyter nbextension enable --py --sys-prefix widgetsnbextension\"\n"
     ]
    },
    {
     "name": "stdout",
     "output_type": "stream",
     "text": [
      "\n",
      "Number of sites:  6153\n",
      "Portion of sites:  0.230760576058\n",
      "Average score:  0.769239423942\n",
      "Last score:  0.769239423942\n"
     ]
    },
    {
     "name": "stderr",
     "output_type": "stream",
     "text": [
      "Widget Javascript not detected.  It may not be installed properly. Did you enable the widgetsnbextension? If not, then run \"jupyter nbextension enable --py --sys-prefix widgetsnbextension\"\n"
     ]
    },
    {
     "name": "stdout",
     "output_type": "stream",
     "text": [
      "\n",
      "Number of sites:  6153\n",
      "Portion of sites:  0.230760576058\n",
      "Average score:  0.769239423942\n",
      "Last score:  0.769239423942\n"
     ]
    },
    {
     "name": "stderr",
     "output_type": "stream",
     "text": [
      "Widget Javascript not detected.  It may not be installed properly. Did you enable the widgetsnbextension? If not, then run \"jupyter nbextension enable --py --sys-prefix widgetsnbextension\"\n"
     ]
    },
    {
     "name": "stdout",
     "output_type": "stream",
     "text": [
      "\n",
      "Number of sites:  6153\n",
      "Portion of sites:  0.230760576058\n",
      "Average score:  0.769239423942\n",
      "Last score:  0.769239423942\n"
     ]
    },
    {
     "name": "stderr",
     "output_type": "stream",
     "text": [
      "Widget Javascript not detected.  It may not be installed properly. Did you enable the widgetsnbextension? If not, then run \"jupyter nbextension enable --py --sys-prefix widgetsnbextension\"\n"
     ]
    },
    {
     "name": "stdout",
     "output_type": "stream",
     "text": [
      "\n",
      "Number of sites:  6153\n",
      "Portion of sites:  0.230760576058\n",
      "Average score:  0.769239423942\n",
      "Last score:  0.769239423942\n"
     ]
    },
    {
     "name": "stderr",
     "output_type": "stream",
     "text": [
      "Widget Javascript not detected.  It may not be installed properly. Did you enable the widgetsnbextension? If not, then run \"jupyter nbextension enable --py --sys-prefix widgetsnbextension\"\n"
     ]
    },
    {
     "name": "stdout",
     "output_type": "stream",
     "text": [
      "\n",
      "Number of sites:  6153\n",
      "Portion of sites:  0.230760576058\n",
      "Average score:  0.769239423942\n",
      "Last score:  0.769239423942\n"
     ]
    },
    {
     "name": "stderr",
     "output_type": "stream",
     "text": [
      "Widget Javascript not detected.  It may not be installed properly. Did you enable the widgetsnbextension? If not, then run \"jupyter nbextension enable --py --sys-prefix widgetsnbextension\"\n"
     ]
    },
    {
     "name": "stdout",
     "output_type": "stream",
     "text": [
      "\n",
      "Number of sites:  6153\n",
      "Portion of sites:  0.230760576058\n",
      "Average score:  0.769239423942\n",
      "Last score:  0.769239423942\n"
     ]
    },
    {
     "name": "stderr",
     "output_type": "stream",
     "text": [
      "Widget Javascript not detected.  It may not be installed properly. Did you enable the widgetsnbextension? If not, then run \"jupyter nbextension enable --py --sys-prefix widgetsnbextension\"\n"
     ]
    },
    {
     "name": "stdout",
     "output_type": "stream",
     "text": [
      "\n",
      "Number of sites:  6153\n",
      "Portion of sites:  0.230760576058\n",
      "Average score:  0.769239423942\n",
      "Last score:  0.769239423942\n"
     ]
    },
    {
     "name": "stderr",
     "output_type": "stream",
     "text": [
      "Widget Javascript not detected.  It may not be installed properly. Did you enable the widgetsnbextension? If not, then run \"jupyter nbextension enable --py --sys-prefix widgetsnbextension\"\n"
     ]
    },
    {
     "name": "stdout",
     "output_type": "stream",
     "text": [
      "\n",
      "Number of sites:  6153\n",
      "Portion of sites:  0.230760576058\n",
      "Average score:  0.769239423942\n",
      "Last score:  0.769239423942\n"
     ]
    },
    {
     "name": "stderr",
     "output_type": "stream",
     "text": [
      "Widget Javascript not detected.  It may not be installed properly. Did you enable the widgetsnbextension? If not, then run \"jupyter nbextension enable --py --sys-prefix widgetsnbextension\"\n"
     ]
    },
    {
     "name": "stdout",
     "output_type": "stream",
     "text": [
      "\n",
      "Number of sites:  6153\n",
      "Portion of sites:  0.230760576058\n",
      "Average score:  0.769239423942\n",
      "Last score:  0.769239423942\n"
     ]
    },
    {
     "name": "stderr",
     "output_type": "stream",
     "text": [
      "Widget Javascript not detected.  It may not be installed properly. Did you enable the widgetsnbextension? If not, then run \"jupyter nbextension enable --py --sys-prefix widgetsnbextension\"\n"
     ]
    },
    {
     "name": "stdout",
     "output_type": "stream",
     "text": [
      "\n",
      "Number of sites:  6153\n",
      "Portion of sites:  0.230760576058\n",
      "Average score:  0.770282028203\n",
      "Last score:  0.770289528953\n"
     ]
    },
    {
     "name": "stderr",
     "output_type": "stream",
     "text": [
      "Widget Javascript not detected.  It may not be installed properly. Did you enable the widgetsnbextension? If not, then run \"jupyter nbextension enable --py --sys-prefix widgetsnbextension\"\n"
     ]
    },
    {
     "name": "stdout",
     "output_type": "stream",
     "text": [
      "\n",
      "Number of sites:  6153\n",
      "Portion of sites:  0.230760576058\n",
      "Average score:  0.773837383738\n",
      "Last score:  0.773364836484\n"
     ]
    },
    {
     "name": "stderr",
     "output_type": "stream",
     "text": [
      "Widget Javascript not detected.  It may not be installed properly. Did you enable the widgetsnbextension? If not, then run \"jupyter nbextension enable --py --sys-prefix widgetsnbextension\"\n"
     ]
    },
    {
     "name": "stdout",
     "output_type": "stream",
     "text": [
      "\n",
      "Number of sites:  6153\n",
      "Portion of sites:  0.230760576058\n",
      "Average score:  0.775892589259\n",
      "Last score:  0.775052505251\n"
     ]
    },
    {
     "name": "stderr",
     "output_type": "stream",
     "text": [
      "Widget Javascript not detected.  It may not be installed properly. Did you enable the widgetsnbextension? If not, then run \"jupyter nbextension enable --py --sys-prefix widgetsnbextension\"\n"
     ]
    },
    {
     "name": "stdout",
     "output_type": "stream",
     "text": [
      "\n",
      "Number of sites:  6153\n",
      "Portion of sites:  0.230760576058\n",
      "Average score:  0.776785178518\n",
      "Last score:  0.776065106511\n"
     ]
    },
    {
     "name": "stderr",
     "output_type": "stream",
     "text": [
      "Widget Javascript not detected.  It may not be installed properly. Did you enable the widgetsnbextension? If not, then run \"jupyter nbextension enable --py --sys-prefix widgetsnbextension\"\n"
     ]
    },
    {
     "name": "stdout",
     "output_type": "stream",
     "text": [
      "\n",
      "Number of sites:  6153\n",
      "Portion of sites:  0.230760576058\n",
      "Average score:  0.776822682268\n",
      "Last score:  0.776177617762\n"
     ]
    }
   ],
   "source": [
    "test = []\n",
    "train = []\n",
    "cnf = []\n",
    "for i in md:\n",
    "    m = Magnesium(\"set_minresol_N_5.csv\", fold='input files/',colours = ['#f6c35b', '#929292'],\n",
    "                 model = RandomForestClassifier(n_estimators=200, max_depth = i, n_jobs=-1, criterion='gini'),  \n",
    "                  with_groups = False)\n",
    "    data = m.compute(n_splits = 5, test_size = 0.3, plots = False, reduce_features = False, balanced = False)\n",
    "    train.append(data['train score'])\n",
    "    test.append(data['test score'])\n",
    "    cnf.append(data['confusion'][1])"
   ]
  },
  {
   "cell_type": "markdown",
   "metadata": {},
   "source": [
    "### Save data"
   ]
  },
  {
   "cell_type": "code",
   "execution_count": null,
   "metadata": {
    "collapsed": true
   },
   "outputs": [],
   "source": [
    "h = open('outputs/imbalanced_train.txt', 'w')\n",
    "h.write(' '.join([str(i) for i in train]))\n",
    "h.close()\n",
    "h = open('outputs/imbalanced_train.txt', 'w')\n",
    "h.write(' '.join([str(i) for i in train]))\n",
    "h.close()\n",
    "\n",
    "h = open('outputs/imbalanced_cnf.txt', 'w')\n",
    "h.write('\\n'.join([' '.join([str(j) for j in i]) for i in cnf]))\n",
    "h.close()"
   ]
  },
  {
   "cell_type": "markdown",
   "metadata": {},
   "source": [
    "### Upload data"
   ]
  },
  {
   "cell_type": "code",
   "execution_count": 15,
   "metadata": {
    "collapsed": false
   },
   "outputs": [],
   "source": [
    "# Чтобы не прогонять расчеты, написанные выше каждый раз, я сохранила эти данные, \n",
    "# поэтому сейчас я могу работать с сохраненными данными.\n",
    "\n",
    "test = [float(i) for i in open('outputs/imbalanced_test.txt').read().split()]\n",
    "train = [float(i) for i in open('outputs/imbalanced_train.txt').read().split()]\n",
    "cnf = open('outputs/imbalanced_cnf.txt').read().split('\\n')\n",
    "cnf =[np.array([float(j) for j in re.split('\\[|\\]|\\s', i) if len(j)>0]).reshape(2,2) for i in cnf]   \n",
    "\n",
    "md = list(range(1,11)) + [15, 20, 25, 30, 35]"
   ]
  },
  {
   "cell_type": "markdown",
   "metadata": {},
   "source": [
    "### Plots"
   ]
  },
  {
   "cell_type": "code",
   "execution_count": 17,
   "metadata": {
    "collapsed": false
   },
   "outputs": [
    {
     "data": {
      "image/png": "[encoded data removed]",
      "text/plain": [
       "<matplotlib.figure.Figure at 0x20dfa017940>"
      ]
     },
     "metadata": {},
     "output_type": "display_data"
    },
    {
     "data": {
      "image/png": "[encoded data removed]",
      "text/plain": [
       "<matplotlib.figure.Figure at 0x20dfa0703c8>"
      ]
     },
     "metadata": {},
     "output_type": "display_data"
    }
   ],
   "source": [
    "ax = plt.figure(figsize = (15,10)).add_subplot(211)\n",
    "ax.plot(md, test, color = 'teal', label = 'Mean test accuracy')\n",
    "ax.scatter(md, test, color = 'teal')\n",
    "ax.plot(md, train, color = 'purple', label = 'Mean train accuracy')\n",
    "ax.scatter(md, train, color = 'purple')\n",
    "ax.plot(md, [i[0,0] for i in cnf], '-.',color = 'grey', label = 'TN')\n",
    "ax.scatter(md, [i[0,0] for i in cnf], color = 'grey')\n",
    "ax.plot(md, [i[1,1] for i in cnf], '--',color = 'darkgrey', label = 'TP')\n",
    "ax.scatter(md, [i[1,1] for i in cnf],  color = 'darkgrey')\n",
    "plt.xlabel('MaxDepth')\n",
    "plt.ylabel('Accuracy')\n",
    "plt.legend()\n",
    "plt.title('Accuracy scores', fontsize = 12)\n",
    "\n",
    "ax = plt.figure(figsize = (15,10)).add_subplot(212)\n",
    "ax.plot(md, test, color = 'teal', label = 'Mean test accuracy')\n",
    "ax.scatter(md, test, color = 'teal')\n",
    "ax.plot(md, train, color = 'purple', label = 'Mean train accuracy')\n",
    "ax.scatter(md, train, color = 'purple')\n",
    "plt.xlabel('MaxDepth')\n",
    "plt.ylabel('Accuracy')\n",
    "plt.legend()\n",
    "plt.title('Accuracy scores', fontsize = 12)\n",
    "\n",
    "plt.show()"
   ]
  },
  {
   "cell_type": "markdown",
   "metadata": {},
   "source": [
    "### Leaves"
   ]
  },
  {
   "cell_type": "code",
   "execution_count": 2,
   "metadata": {
    "collapsed": true
   },
   "outputs": [],
   "source": [
    "lv = [1,5,10, 15, 20, 25, 30, 40, 45, 50, 55, 60, 65, 70, 75, 80, 100]"
   ]
  },
  {
   "cell_type": "code",
   "execution_count": 3,
   "metadata": {
    "collapsed": false
   },
   "outputs": [
    {
     "name": "stdout",
     "output_type": "stream",
     "text": [
      "Number in leaves -  1\n",
      "\n",
      "Number of sites:  3991\n",
      "Portion of sites:  0.21432790935\n",
      "Average score:  0.790107942645\n",
      "Last score:  0.790290532195\n",
      "Number in leaves -  5\n",
      "\n",
      "Number of sites:  3991\n",
      "Portion of sites:  0.21432790935\n",
      "Average score:  0.787573170077\n",
      "Last score:  0.787605391762\n",
      "Number in leaves -  10\n",
      "\n",
      "Number of sites:  3991\n",
      "Portion of sites:  0.21432790935\n",
      "Average score:  0.786262821546\n",
      "Last score:  0.786423929972\n",
      "Number in leaves -  15\n",
      "\n",
      "Number of sites:  3991\n",
      "Portion of sites:  0.21432790935\n",
      "Average score:  0.785951345255\n",
      "Last score:  0.785940604694\n",
      "Number in leaves -  20\n",
      "\n",
      "Number of sites:  3991\n",
      "Portion of sites:  0.21432790935\n",
      "Average score:  0.785747274582\n",
      "Last score:  0.785725793459\n",
      "Number in leaves -  25\n",
      "\n",
      "Number of sites:  3991\n",
      "Portion of sites:  0.21432790935\n",
      "Average score:  0.785682831212\n",
      "Last score:  0.78567209065\n",
      "Number in leaves -  30\n",
      "\n",
      "Number of sites:  3991\n",
      "Portion of sites:  0.21432790935\n",
      "Average score:  0.785682831212\n",
      "Last score:  0.78567209065\n",
      "Number in leaves -  40\n",
      "\n",
      "Number of sites:  3991\n",
      "Portion of sites:  0.21432790935\n",
      "Average score:  0.78567209065\n",
      "Last score:  0.78567209065\n",
      "Number in leaves -  45\n",
      "\n",
      "Number of sites:  3991\n",
      "Portion of sites:  0.21432790935\n",
      "Average score:  0.78567209065\n",
      "Last score:  0.78567209065\n",
      "Number in leaves -  50\n",
      "\n",
      "Number of sites:  3991\n",
      "Portion of sites:  0.21432790935\n",
      "Average score:  0.78567209065\n",
      "Last score:  0.78567209065\n",
      "Number in leaves -  55\n",
      "\n",
      "Number of sites:  3991\n",
      "Portion of sites:  0.21432790935\n",
      "Average score:  0.78567209065\n",
      "Last score:  0.78567209065\n",
      "Number in leaves -  60\n",
      "\n",
      "Number of sites:  3991\n",
      "Portion of sites:  0.21432790935\n",
      "Average score:  0.78567209065\n",
      "Last score:  0.78567209065\n",
      "Number in leaves -  65\n",
      "\n",
      "Number of sites:  3991\n",
      "Portion of sites:  0.21432790935\n",
      "Average score:  0.78567209065\n",
      "Last score:  0.78567209065\n",
      "Number in leaves -  70\n",
      "\n",
      "Number of sites:  3991\n",
      "Portion of sites:  0.21432790935\n",
      "Average score:  0.78567209065\n",
      "Last score:  0.78567209065\n",
      "Number in leaves -  75\n",
      "\n",
      "Number of sites:  3991\n",
      "Portion of sites:  0.21432790935\n",
      "Average score:  0.78567209065\n",
      "Last score:  0.78567209065\n",
      "Number in leaves -  80\n",
      "\n",
      "Number of sites:  3991\n",
      "Portion of sites:  0.21432790935\n",
      "Average score:  0.78567209065\n",
      "Last score:  0.78567209065\n",
      "Number in leaves -  100\n",
      "\n",
      "Number of sites:  3991\n",
      "Portion of sites:  0.21432790935\n",
      "Average score:  0.78567209065\n",
      "Last score:  0.78567209065\n"
     ]
    }
   ],
   "source": [
    "test_l = []\n",
    "train_l = []\n",
    "cnf_l = []\n",
    "for i in lv:\n",
    "    print('Number in leaves - ', i)\n",
    "    m = Magnesium(\"set_minresol_N_5_b_b.csv\", fold='input files/',colours = ['#f6c35b', '#929292'],\n",
    "                 model = RandomForestClassifier(n_estimators=200, max_depth = 30, min_samples_leaf=i, n_jobs=-1, \n",
    "                                                criterion='gini'),  with_groups = False)\n",
    "    data = m.compute(n_splits = 5, test_size = 0.3, plots = False, reduce_features = False)\n",
    "    train_l.append(data['train score'])\n",
    "    test_l.append(data['test score'])\n",
    "    cnf_l.append(data['confusion'][1])"
   ]
  },
  {
   "cell_type": "markdown",
   "metadata": {},
   "source": [
    "### Save data"
   ]
  },
  {
   "cell_type": "code",
   "execution_count": 4,
   "metadata": {
    "collapsed": true
   },
   "outputs": [],
   "source": [
    "h = open('outputs/imbalanced_test_l.txt', 'w')\n",
    "h.write(' '.join([str(i) for i in test_l]))\n",
    "h.close()\n",
    "\n",
    "h = open('outputs/imbalanced_train_l.txt', 'w')\n",
    "h.write(' '.join([str(i) for i in train_l]))\n",
    "h.close()\n",
    "\n",
    "h = open('outputs/imbalanced_cnf_l.txt', 'w')\n",
    "h.write('\\n'.join([' '.join([str(j) for j in i]) for i in cnf_l]))\n",
    "h.close()"
   ]
  },
  {
   "cell_type": "markdown",
   "metadata": {},
   "source": [
    "### Upload data"
   ]
  },
  {
   "cell_type": "code",
   "execution_count": 5,
   "metadata": {
    "collapsed": false
   },
   "outputs": [],
   "source": [
    "# Чтобы не прогонять расчеты, написанные выше каждый раз, я сохранила эти данные, \n",
    "# поэтому сейчас я могу работать с сохраненными данными.\n",
    "\n",
    "test_l = [float(i) for i in open('outputs/imbalanced_test_l.txt').read().split()]\n",
    "train_l = [float(i) for i in open('outputs/imbalanced_train_l.txt').read().split()]\n",
    "cnf_l = open('outputs/imbalanced_cnf_l.txt').read().split('\\n')\n",
    "cnf_l =[np.array([float(j) for j in re.split('\\[|\\]|\\s', i) if len(j)>0]).reshape(2,2) for i in cnf_l]   \n",
    "\n",
    "lv = [1,5,10, 15, 20, 25, 30, 40, 45, 50, 55, 60, 65, 70, 75, 80, 100]"
   ]
  },
  {
   "cell_type": "markdown",
   "metadata": {},
   "source": [
    "### Plots"
   ]
  },
  {
   "cell_type": "code",
   "execution_count": 16,
   "metadata": {
    "collapsed": false
   },
   "outputs": [
    {
     "data": {
      "image/png": "[encoded data removed]",
      "text/plain": [
       "<matplotlib.figure.Figure at 0x29adc85ab70>"
      ]
     },
     "metadata": {},
     "output_type": "display_data"
    },
    {
     "data": {
      "image/png": "[encoded data removed]",
      "text/plain": [
       "<matplotlib.figure.Figure at 0x29b02468860>"
      ]
     },
     "metadata": {},
     "output_type": "display_data"
    },
    {
     "data": {
      "image/png": "[encoded data removed]",
      "text/plain": [
       "<matplotlib.figure.Figure at 0x29a8b6572b0>"
      ]
     },
     "metadata": {},
     "output_type": "display_data"
    }
   ],
   "source": [
    "ax = plt.figure(figsize = (15,15)).add_subplot(311)\n",
    "ax.plot(lv, test_l, color = 'teal', label = 'Mean test accuracy')\n",
    "ax.scatter(lv, test_l, color = 'teal')\n",
    "ax.plot(lv, train_l, color = 'purple', label = 'Mean train accuracy')\n",
    "ax.scatter(lv, train_l, color = 'purple')\n",
    "ax.plot(lv, [i[0,0] for i in cnf_l], '-.',color = 'grey', label = 'TN')\n",
    "ax.scatter(lv, [i[0,0] for i in cnf_l], color = 'grey')\n",
    "ax.plot(lv, [i[1,1] for i in cnf_l], '--',color = 'darkgrey', label = 'TP')\n",
    "ax.scatter(lv, [i[1,1] for i in cnf_l],  color = 'darkgrey')\n",
    "plt.xlabel('Leaves')\n",
    "plt.ylabel('Accuracy')\n",
    "plt.legend()\n",
    "plt.title('Accuracy scores, maxdepth = 30', fontsize = 12)\n",
    "\n",
    "ax = plt.figure(figsize = (15,15)).add_subplot(312)\n",
    "ax.plot(lv, test_l, color = 'teal', label = 'Mean test accuracy')\n",
    "ax.scatter(lv, test_l, color = 'teal')\n",
    "ax.plot(lv, train_l, color = 'purple', label = 'Mean train accuracy')\n",
    "ax.scatter(lv, train_l, color = 'purple')\n",
    "plt.xlabel('Leaves')\n",
    "plt.ylabel('Accuracy')\n",
    "plt.legend()\n",
    "plt.title('Accuracy scores, maxdepth = 30', fontsize = 12)\n",
    "\n",
    "k = 3\n",
    "n = 8\n",
    "ax = plt.figure(figsize = (15,15)).add_subplot(312)\n",
    "ax.plot(lv[k:n], test_l[k:n], color = 'teal', label = 'Mean test accuracy')\n",
    "ax.scatter(lv[k:n], test_l[k:n], color = 'teal')\n",
    "ax.plot(lv[k:n], train_l[k:n], color = 'purple', label = 'Mean train accuracy')\n",
    "ax.scatter(lv[k:n], train_l[k:n], color = 'purple')\n",
    "ax.set_xticks(lv[k:n])\n",
    "plt.xlabel('Leaves')\n",
    "plt.ylabel('Accuracy')\n",
    "plt.legend()\n",
    "plt.title('Accuracy scores, maxdepth = 30', fontsize = 12)\n",
    "\n",
    "plt.show()"
   ]
  },
  {
   "cell_type": "markdown",
   "metadata": {},
   "source": [
    "### Estimators"
   ]
  },
  {
   "cell_type": "code",
   "execution_count": 10,
   "metadata": {
    "collapsed": true
   },
   "outputs": [],
   "source": [
    "estimators = [25, 50, 75, 100, 125, 150, 175, 200, 250, 300, 350, 400]"
   ]
  },
  {
   "cell_type": "code",
   "execution_count": 11,
   "metadata": {
    "collapsed": false
   },
   "outputs": [
    {
     "name": "stdout",
     "output_type": "stream",
     "text": [
      "estimator: 25\n",
      "\n",
      "Number of sites:  3991\n",
      "Portion of sites:  0.21432790935\n",
      "Average score:  0.785725793459\n",
      "Last score:  0.785725793459\n",
      "estimator: 50\n",
      "\n",
      "Number of sites:  3991\n",
      "Portion of sites:  0.21432790935\n",
      "Average score:  0.785682831212\n",
      "Last score:  0.785725793459\n",
      "estimator: 75\n",
      "\n",
      "Number of sites:  3991\n",
      "Portion of sites:  0.21432790935\n",
      "Average score:  0.785682831212\n",
      "Last score:  0.78567209065\n",
      "estimator: 100\n",
      "\n",
      "Number of sites:  3991\n",
      "Portion of sites:  0.21432790935\n",
      "Average score:  0.785682831212\n",
      "Last score:  0.78567209065\n",
      "estimator: 125\n",
      "\n",
      "Number of sites:  3991\n",
      "Portion of sites:  0.21432790935\n",
      "Average score:  0.78567209065\n",
      "Last score:  0.78567209065\n",
      "estimator: 150\n",
      "\n",
      "Number of sites:  3991\n",
      "Portion of sites:  0.21432790935\n",
      "Average score:  0.78567209065\n",
      "Last score:  0.78567209065\n",
      "estimator: 175\n",
      "\n",
      "Number of sites:  3991\n",
      "Portion of sites:  0.21432790935\n",
      "Average score:  0.78567209065\n",
      "Last score:  0.78567209065\n",
      "estimator: 200\n",
      "\n",
      "Number of sites:  3991\n",
      "Portion of sites:  0.21432790935\n",
      "Average score:  0.78567209065\n",
      "Last score:  0.78567209065\n",
      "estimator: 250\n",
      "\n",
      "Number of sites:  3991\n",
      "Portion of sites:  0.21432790935\n",
      "Average score:  0.78567209065\n",
      "Last score:  0.78567209065\n",
      "estimator: 300\n",
      "\n",
      "Number of sites:  3991\n",
      "Portion of sites:  0.21432790935\n",
      "Average score:  0.78567209065\n",
      "Last score:  0.78567209065\n",
      "estimator: 350\n",
      "\n",
      "Number of sites:  3991\n",
      "Portion of sites:  0.21432790935\n",
      "Average score:  0.78567209065\n",
      "Last score:  0.78567209065\n",
      "estimator: 400\n",
      "\n",
      "Number of sites:  3991\n",
      "Portion of sites:  0.21432790935\n",
      "Average score:  0.78567209065\n",
      "Last score:  0.78567209065\n"
     ]
    }
   ],
   "source": [
    "test_e = []\n",
    "train_e = []\n",
    "cnf_e = []\n",
    "for i in estimators:\n",
    "    print('estimator:', i)\n",
    "    m = Magnesium(\"set_minresol_N_5_b_b.csv\", fold='input files/',colours = ['#f6c35b', '#929292'],\n",
    "                 model = RandomForestClassifier(n_estimators=i, n_jobs=-1, criterion='gini', \n",
    "                 max_depth = 30, min_samples_leaf=40),  with_groups = False)\n",
    "    data = m.compute(n_splits = 5, test_size = 0.3, plots = False, reduce_features = False)\n",
    "    train_e.append(data['train score'])\n",
    "    test_e.append(data['test score'])\n",
    "    cnf_e.append(data['confusion'][1])"
   ]
  },
  {
   "cell_type": "markdown",
   "metadata": {},
   "source": [
    "### Save data"
   ]
  },
  {
   "cell_type": "code",
   "execution_count": 12,
   "metadata": {
    "collapsed": true
   },
   "outputs": [],
   "source": [
    "h = open('outputs/imbalanced_test_e.txt', 'w')\n",
    "h.write(' '.join([str(i) for i in test_e]))\n",
    "h.close()\n",
    "\n",
    "h = open('outputs/imbalanced_train_e.txt', 'w')\n",
    "h.write(' '.join([str(i) for i in train_e]))\n",
    "h.close()\n",
    "\n",
    "h = open('outputs/imbalanced_cnf_e.txt', 'w')\n",
    "h.write('\\n'.join([' '.join([str(j) for j in i]) for i in cnf_e]))\n",
    "h.close()"
   ]
  },
  {
   "cell_type": "markdown",
   "metadata": {},
   "source": [
    "### Upload data"
   ]
  },
  {
   "cell_type": "code",
   "execution_count": 13,
   "metadata": {
    "collapsed": true
   },
   "outputs": [],
   "source": [
    "# Чтобы не прогонять расчеты, написанные выше каждый раз, я сохранила эти данные, \n",
    "# поэтому сейчас я могу работать с сохраненными данными.\n",
    "\n",
    "test_e = [float(i) for i in open('outputs/imbalanced_test_e.txt').read().split()]\n",
    "train_e = [float(i) for i in open('outputs/imbalanced_train_e.txt').read().split()]\n",
    "cnf_e = open('outputs/imbalanced_cnf_e.txt').read().split('\\n')\n",
    "cnf_e =[np.array([float(j) for j in re.split('\\[|\\]|\\s', i) if len(j)>0]).reshape(2,2) for i in cnf_e]   \n",
    "\n",
    "estimators = [25, 50, 75, 100, 125, 150, 175, 200, 250, 300, 350, 400]"
   ]
  },
  {
   "cell_type": "markdown",
   "metadata": {},
   "source": [
    "### Plots"
   ]
  },
  {
   "cell_type": "code",
   "execution_count": 15,
   "metadata": {
    "collapsed": false
   },
   "outputs": [
    {
     "data": {
      "image/png": "[encoded data removed]",
      "text/plain": [
       "<matplotlib.figure.Figure at 0x29a8bb66d30>"
      ]
     },
     "metadata": {},
     "output_type": "display_data"
    },
    {
     "data": {
      "image/png": "[encoded data removed]",
      "text/plain": [
       "<matplotlib.figure.Figure at 0x29ae3d38588>"
      ]
     },
     "metadata": {},
     "output_type": "display_data"
    }
   ],
   "source": [
    "ax = plt.figure(figsize = (15,10)).add_subplot(211)\n",
    "ax.plot(estimators, test_e, color = 'teal', label = 'Mean test accuracy')\n",
    "ax.scatter(estimators, test_e, color = 'teal')\n",
    "ax.plot(estimators, train_e, color = 'purple', label = 'Mean train accuracy')\n",
    "ax.scatter(estimators, train_e, color = 'purple')\n",
    "ax.plot(estimators, [i[0,0] for i in cnf_e], '-.',color = 'grey', label = 'TN')\n",
    "ax.scatter(estimators, [i[0,0] for i in cnf_e], color = 'grey')\n",
    "ax.plot(estimators, [i[1,1] for i in cnf_e], '--',color = 'darkgrey', label = 'TP')\n",
    "ax.scatter(estimators, [i[1,1] for i in cnf_e],  color = 'darkgrey')\n",
    "plt.legend()\n",
    "plt.xlabel('Estimators')\n",
    "plt.ylabel('Accuracy')\n",
    "plt.title('Accuracy scores, max_depth = 30, min_samples_leaf=40', fontsize = 12)\n",
    "plt.show()\n",
    "\n",
    "ax = plt.figure(figsize = (15,10)).add_subplot(212)\n",
    "ax.plot(estimators, test_e, color = 'teal', label = 'Mean test accuracy')\n",
    "ax.scatter(estimators, test_e, color = 'teal')\n",
    "ax.plot(estimators, train_e, color = 'purple', label = 'Mean train accuracy')\n",
    "ax.scatter(estimators, train_e, color = 'purple')\n",
    "plt.legend()\n",
    "plt.xlabel('Estimators')\n",
    "plt.ylabel('Accuracy')\n",
    "plt.title('Accuracy scores, max_depth = 30, min_samples_leaf=40', fontsize = 12)\n",
    "\n",
    "plt.show()"
   ]
  },
  {
   "cell_type": "code",
   "execution_count": null,
   "metadata": {
    "collapsed": true
   },
   "outputs": [],
   "source": []
  }
 ],
 "metadata": {
  "anaconda-cloud": {},
  "kernelspec": {
   "display_name": "Python 3",
   "language": "python",
   "name": "root"
  },
  "language_info": {
   "codemirror_mode": {
    "name": "ipython",
    "version": 3
   },
   "file_extension": ".py",
   "mimetype": "text/x-python",
   "name": "python",
   "nbconvert_exporter": "python",
   "pygments_lexer": "ipython3",
   "version": "3.5.2"
  },
  "widgets": {
   "state": {
    "00482fa640b04e5e83ef10afa6fc5a9c": {
     "views": [
      {
       "cell_index": 12
      }
     ]
    },
    "06429f927b5e4a218abf0afc416a69eb": {
     "views": [
      {
       "cell_index": 12
      }
     ]
    },
    "079ad78b5a0447e39bf2d8659cdc9486": {
     "views": [
      {
       "cell_index": 21
      }
     ]
    },
    "0b380e3aad504fe9aa66c1e62d4a82bb": {
     "views": [
      {
       "cell_index": 12
      }
     ]
    },
    "0e5772bba75b4ee990973967af72084a": {
     "views": [
      {
       "cell_index": 21
      }
     ]
    },
    "183ae1e7039f44acb7e24905263b161d": {
     "views": [
      {
       "cell_index": 21
      }
     ]
    },
    "1afd7b5fcc5d48f8b78b6055a7512518": {
     "views": [
      {
       "cell_index": 12
      }
     ]
    },
    "1dd682a638714e9fa0987d708b0d155a": {
     "views": [
      {
       "cell_index": 21
      }
     ]
    },
    "2ef697bf27ee4324ab8ee738877749b6": {
     "views": [
      {
       "cell_index": 21
      }
     ]
    },
    "2f4d84ebcc6f4dfdaab0c6a7fbdb71e3": {
     "views": [
      {
       "cell_index": 12
      }
     ]
    },
    "336b79c1fd344e608410dbce3184b536": {
     "views": [
      {
       "cell_index": 21
      }
     ]
    },
    "3ef72f65726b4caea2ba88e1dc0526b4": {
     "views": [
      {
       "cell_index": 12
      }
     ]
    },
    "41c71a3ebd8e4ca3aa567aea4b06a0f3": {
     "views": [
      {
       "cell_index": 21
      }
     ]
    },
    "425bae0c77e946d086b9f92401c2bc45": {
     "views": [
      {
       "cell_index": 12
      }
     ]
    },
    "4abdc79c253d49c29daf49a3846c4b30": {
     "views": [
      {
       "cell_index": 12
      }
     ]
    },
    "4e9c178fb5754c9d83a3f9475480136c": {
     "views": [
      {
       "cell_index": 12
      }
     ]
    },
    "524d1035dbea4d59863a8b375b8f4f48": {
     "views": [
      {
       "cell_index": 12
      }
     ]
    },
    "5b63ae9d7d7946098e85ffda443c0aa6": {
     "views": [
      {
       "cell_index": 21
      }
     ]
    },
    "5d038dabc3a24bc0a7da2d60a1dc7c1a": {
     "views": [
      {
       "cell_index": 12
      }
     ]
    },
    "5f6fba79a56942af835d3e8dafed07c2": {
     "views": [
      {
       "cell_index": 12
      }
     ]
    },
    "64f155303bcd40309a2c755cc1607104": {
     "views": [
      {
       "cell_index": 12
      }
     ]
    },
    "83e8644b4f924c8a88ca8aa83b22d702": {
     "views": [
      {
       "cell_index": 12
      }
     ]
    },
    "8f6bb68719e1403d96c6e7d4ca986bd3": {
     "views": [
      {
       "cell_index": 12
      }
     ]
    },
    "937311c994a84f3c87fc193fad5e2fb5": {
     "views": [
      {
       "cell_index": 12
      }
     ]
    },
    "9c49be051d5c4b788b5ad4a3407a23dc": {
     "views": [
      {
       "cell_index": 21
      }
     ]
    },
    "9fcd6c4423704d38ac759cd5e8df10de": {
     "views": [
      {
       "cell_index": 21
      }
     ]
    },
    "a4a0b087e5054fdc986782b1ac241be4": {
     "views": [
      {
       "cell_index": 21
      }
     ]
    },
    "a62349e9a59c45c5bf7110bc31b1e441": {
     "views": [
      {
       "cell_index": 21
      }
     ]
    },
    "a79f857a05324c858263194b44fa0eb0": {
     "views": [
      {
       "cell_index": 21
      }
     ]
    },
    "ac76c9a222204eea8926f4945c828f58": {
     "views": [
      {
       "cell_index": 21
      }
     ]
    },
    "b12d70284b1443a5aeb6337851e311be": {
     "views": [
      {
       "cell_index": 12
      }
     ]
    },
    "be33dc48c511456ea2ad4eee866ce76c": {
     "views": [
      {
       "cell_index": 21
      }
     ]
    },
    "c98b52b20d7e44de8e9240f0430ac023": {
     "views": [
      {
       "cell_index": 12
      }
     ]
    },
    "d2adc90b02ef4c018fa57ee7e81ada9f": {
     "views": [
      {
       "cell_index": 21
      }
     ]
    },
    "d5645a231e33491aba2bfe9bd80f2ab1": {
     "views": [
      {
       "cell_index": 12
      }
     ]
    },
    "dff24ea624be4f8eb394d619bc8b4b9a": {
     "views": [
      {
       "cell_index": 21
      }
     ]
    },
    "e34a8ebfef134fb88fbd06577755f438": {
     "views": [
      {
       "cell_index": 12
      }
     ]
    },
    "f34e2ddde33e45dabb327b87ca481228": {
     "views": [
      {
       "cell_index": 21
      }
     ]
    }
   },
   "version": "1.2.0"
  }
 },
 "nbformat": 4,
 "nbformat_minor": 2
}
