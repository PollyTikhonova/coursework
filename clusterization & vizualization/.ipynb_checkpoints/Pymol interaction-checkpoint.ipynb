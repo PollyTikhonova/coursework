{
 "cells": [
  {
   "cell_type": "markdown",
   "metadata": {},
   "source": [
    "### Pymol codes"
   ]
  },
  {
   "cell_type": "markdown",
   "metadata": {},
   "source": [
    "<a href=\"https://pollytikhonova.github.io/coursework/clusterization%20%26%20vizualization/\"><img src=\"https://pollytikhonova.github.io/coursework/GitHub-Mark-32px.png\" alt=\"В репозиторий\" title=\"В репозиторий\" style=\"max-width:100%;  display: inline-block; margin-right: 10px;\"></a> <a href=\"Pymol%20interaction.ipynb\" download target=\"_blank\">Скачать этот ipynb-файл можно здесь</a>"
   ]
  },
  {
   "cell_type": "code",
   "execution_count": 1,
   "metadata": {
    "collapsed": true
   },
   "outputs": [],
   "source": [
    "from xmlrpc.client import ServerProxy\n",
    "from IPython.display import Image\n",
    "from ipywidgets import interact, interactive, fixed, interact_manual\n",
    "import ipywidgets as widgets\n",
    "import pandas as pd\n",
    "import numpy as np\n",
    "import os"
   ]
  },
  {
   "cell_type": "code",
   "execution_count": 2,
   "metadata": {
    "collapsed": true
   },
   "outputs": [],
   "source": [
    "from ipywidgets import interact, interactive, fixed, interact_manual\n",
    "import ipywidgets as widgets"
   ]
  },
  {
   "cell_type": "code",
   "execution_count": 3,
   "metadata": {
    "collapsed": true
   },
   "outputs": [],
   "source": [
    "cmd = ServerProxy(uri=\"http://localhost:9123/RPC2\")\n",
    "# cmd = ServerProxy(uri=\"http://localhost:9124/RPC2\")"
   ]
  },
  {
   "cell_type": "code",
   "execution_count": 4,
   "metadata": {
    "collapsed": true
   },
   "outputs": [],
   "source": [
    "cmd.reinitialize()"
   ]
  },
  {
   "cell_type": "code",
   "execution_count": 5,
   "metadata": {
    "collapsed": true
   },
   "outputs": [],
   "source": [
    "interesting_chains = sorted(['462d', '1hr2', '1qa6', '1hc8'])\n",
    "full_validation = pd.read_csv('../Try differents sets/trained_results_validation/diploma_chains/datatable.csv')\n",
    "full_validation['groups'] = [i.split('.cif1_')[0] for i in full_validation.pdb_chain.values]"
   ]
  },
  {
   "cell_type": "code",
   "execution_count": 6,
   "metadata": {
    "collapsed": true
   },
   "outputs": [],
   "source": [
    "# pdbs = np.unique(full_validation['groups']).tolist()"
   ]
  },
  {
   "cell_type": "code",
   "execution_count": 4,
   "metadata": {
    "collapsed": true
   },
   "outputs": [],
   "source": [
    "def view_pdb(pdb='1hc8', treshold = 0.5):\n",
    "    cmd.reinitialize()\n",
    "    cmd.do('bg_color white')\n",
    "    cmd.fetch(pdb)\n",
    "#     cmd.do('''\n",
    "# hide all\n",
    "# select chain_a, chain B\n",
    "# show cartoon, chain_a  \n",
    "# show sticks, chain_a\n",
    "# color grey\n",
    "# set cartoon_transparency, 0.3\n",
    "# set stick_transparency, 0.5\n",
    "#     ''')    \n",
    "    cmd.do('''\n",
    "hide all\n",
    "show cartoon\n",
    "set cartoon_ladder_mode, 0\n",
    "show sticks\n",
    "color grey\n",
    "set cartoon_transparency, 0.3\n",
    "set stick_transparency, 0.5\n",
    "    ''')    \n",
    "    cmd.do('''\n",
    "select mg, (name MG)\n",
    "show spheres, mg\n",
    "color yellow, mg''')\n",
    "    mg_real = (full_validation['groups'] == pdb) & (full_validation['mg'].values == 1)\n",
    "    mg_predicted = (full_validation['groups'] == pdb) & (full_validation['probability'] >= treshold)    \n",
    "    mg_true_predicted = (mg_real & mg_predicted)\n",
    "    mg_other = mg_predicted & ~ mg_true_predicted\n",
    "    mg_real = mg_real & ~ mg_true_predicted\n",
    "    mg_other = full_validation.pdb_index.loc[mg_other].values.tolist()\n",
    "    mg_real = full_validation.pdb_index.loc[mg_real].values.tolist()\n",
    "    mg_true_predicted = full_validation.pdb_index.loc[mg_true_predicted].values.tolist()   \n",
    "    \n",
    "    cmd.do('''\n",
    "select atoms_real, id {0}\n",
    "color yellow, atoms_real\n",
    "show spheres, atoms_real\n",
    "set sphere_scale, 0.3, atoms_real\n",
    "select atoms_true_predicted, id {1}\n",
    "color orange, atoms_true_predicted\n",
    "show spheres, atoms_true_predicted\n",
    "set sphere_scale, 0.3, atoms_true_predicted\n",
    "select atoms_other, id {2}\n",
    "color teal, atoms_other\n",
    "show spheres, atoms_other\n",
    "set sphere_scale, 0.3, atoms_other\n",
    "set cartoon_transparency, 0, atoms_real | atoms_true_predicted | atoms_other\n",
    "set stick_transparency, 0.5, atoms_real | atoms_true_predicted | atoms_other\n",
    "    '''.format(str(mg_real)[1:-1].replace(',', '| id'),\n",
    "               str(mg_true_predicted)[1:-1].replace(',', '| id'), \n",
    "               str(mg_other)[1:-1].replace(',', '| id')))\n",
    "    path = os.getcwd().replace('\\\\', '/')\n",
    "    cmd.load(path+'/outputs/%s_mg_coordinates.pdb'%pdb)\n",
    "    cmd.do('''\n",
    "hide everything, %s_mg_coordinates\n",
    "select mc, (name MC)\n",
    "show spheres, mc\n",
    "color red, mc\n",
    "set sphere_scale, 3, mc'''%pdb)\n",
    "#     cmd.do('''\n",
    "# select atoms_real, index {0}\n",
    "# color yellow, atoms_real\n",
    "# select atoms_true_predicted, index {1}\n",
    "# color orange, atoms_true_predicted\n",
    "# select atoms_other, index {2}\n",
    "# color teal, atoms_other\n",
    "# set cartoon_transparency, 0, atoms_real | atoms_true_predicted | atoms_other\n",
    "# set stick_transparency, 0.5, atoms_real | atoms_true_predicted | atoms_other\n",
    "#     '''.format(str(mg_real)[1:-1].replace(',', '| index'),\n",
    "#                str(mg_true_predicted)[1:-1].replace(',', '| index'), \n",
    "#                str(mg_other)[1:-1].replace(',', '| index')))"
   ]
  },
  {
   "cell_type": "code",
   "execution_count": 33,
   "metadata": {
    "collapsed": true
   },
   "outputs": [],
   "source": [
    "full_validation = pd.read_csv('../Try differents sets/trained_results_validation/rfc_200_gini_26_0.7_20/datatable.csv')\n",
    "full_validation['groups'] = [i.split('.cif1_')[0] for i in full_validation.pdb_chain.values]"
   ]
  },
  {
   "cell_type": "code",
   "execution_count": 5,
   "metadata": {
    "collapsed": true
   },
   "outputs": [],
   "source": [
    "full_validation = pd.read_csv('../Try differents sets/trained_results_validation/diploma_chains/datatable.csv')\n",
    "full_validation['groups'] = [i.split('.cif1_')[0] for i in full_validation.pdb_chain.values]"
   ]
  },
  {
   "cell_type": "code",
   "execution_count": 6,
   "metadata": {
    "collapsed": true
   },
   "outputs": [],
   "source": [
    "view_pdb()"
   ]
  },
  {
   "cell_type": "code",
   "execution_count": 26,
   "metadata": {
    "collapsed": true
   },
   "outputs": [],
   "source": [
    "def view_pdb3(pdb='1hc8', treshold = 0.5):\n",
    "    cmd.reinitialize()\n",
    "    cmd.do('bg_color white')\n",
    "#     cmd.fetch(pdb)\n",
    "    path = os.getcwd().replace('\\\\', '/')\n",
    "    cmd.load(path+'/../For Diploma/pdbs/%s_manual.pdb'%pdb)  \n",
    "    cmd.do('''\n",
    "hide all\n",
    "show cartoon\n",
    "color grey\n",
    "set cartoon_transparency, 0.3\n",
    "set stick_transparency, 0.5\n",
    "    ''')    \n",
    "    cmd.do('''\n",
    "select mg, (name MG)\n",
    "show spheres, mg\n",
    "color yellow, mg''')\n",
    "    \n",
    "    cmd.do('''\n",
    "select mc, (name MC)\n",
    "show spheres, mc\n",
    "color red, mc\n",
    "set sphere_scale, 3.5, mc''')"
   ]
  },
  {
   "cell_type": "code",
   "execution_count": 27,
   "metadata": {
    "collapsed": true
   },
   "outputs": [],
   "source": [
    "view_pdb3(pdb='462d')"
   ]
  },
  {
   "cell_type": "code",
   "execution_count": 16,
   "metadata": {
    "collapsed": true
   },
   "outputs": [],
   "source": [
    "# view_pdb(pdb='5nzd')\n",
    "# view_pdb(pdb='462d')\n",
    "view_pdb(pdb='1hc8')"
   ]
  },
  {
   "cell_type": "code",
   "execution_count": 10,
   "metadata": {
    "collapsed": false
   },
   "outputs": [
    {
     "data": {
      "application/vnd.jupyter.widget-view+json": {
       "model_id": "2490dbd6c8db41adb38e5c59e5481e3e",
       "version_major": 2,
       "version_minor": 0
      },
      "text/html": [
       "<p>Failed to display Jupyter Widget of type <code>interactive</code>.</p>\n",
       "<p>\n",
       "  If you're reading this message in the Jupyter Notebook or JupyterLab Notebook, it may mean\n",
       "  that the widgets JavaScript is still loading. If this message persists, it\n",
       "  likely means that the widgets JavaScript library is either not installed or\n",
       "  not enabled. See the <a href=\"https://ipywidgets.readthedocs.io/en/stable/user_install.html\">Jupyter\n",
       "  Widgets Documentation</a> for setup instructions.\n",
       "</p>\n",
       "<p>\n",
       "  If you're reading this message in another frontend (for example, a static\n",
       "  rendering on GitHub or <a href=\"https://nbviewer.jupyter.org/\">NBViewer</a>),\n",
       "  it may mean that your frontend doesn't currently support widgets.\n",
       "</p>\n"
      ],
      "text/plain": [
       "interactive(children=(Dropdown(description='pdb', index=3, options=('1hc8', '1hr2', '1qa6', '462d'), value='462d'), FloatSlider(value=0.5, description='treshold', max=0.7, min=0.3, step=0.01), Output()), _dom_classes=('widget-interact',))"
      ]
     },
     "metadata": {},
     "output_type": "display_data"
    },
    {
     "data": {
      "text/plain": [
       "<function __main__.view_pdb>"
      ]
     },
     "execution_count": 10,
     "metadata": {},
     "output_type": "execute_result"
    }
   ],
   "source": [
    "interact(view_pdb, pdb = interesting_chains, treshold = (0.3, 0.7, 0.01))"
   ]
  },
  {
   "cell_type": "code",
   "execution_count": 28,
   "metadata": {
    "collapsed": true
   },
   "outputs": [],
   "source": [
    "def view_pdb_real(pdb='1gid'):\n",
    "    cmd.reinitialize()\n",
    "    cmd.do('bg_color white')\n",
    "    cmd.fetch(pdb)\n",
    "#     cmd.do('''\n",
    "# hide all\n",
    "# select chain_a, chain B\n",
    "# show cartoon, chain_a  \n",
    "# show sticks, chain_a\n",
    "# color grey\n",
    "# set cartoon_transparency, 0.3\n",
    "# set stick_transparency, 0.5\n",
    "#     ''')    \n",
    "    cmd.do('''\n",
    "hide all\n",
    "show cartoon\n",
    "set cartoon_ladder_mode, 0\n",
    "show sticks\n",
    "color grey\n",
    "set cartoon_transparency, 0.3\n",
    "set stick_transparency, 0.5\n",
    "    ''')    \n",
    "    cmd.do('''\n",
    "select mg, (name MG)\n",
    "show spheres, mg\n",
    "color yellow, mg\n",
    "set sphere_scale, 1, mg''')\n",
    "    mg_real = (full_validation['groups'] == pdb) & (full_validation['mg'].values == 1)\n",
    "    mg_real = full_validation.pdb_index.loc[mg_real].values.tolist()\n",
    "    \n",
    "    path = os.getcwd().replace('\\\\', '/')\n",
    "    cmd.load(path+'/outputs/%s_mg_coordinates_predict_09.pdb'%pdb)\n",
    "    cmd.do('''\n",
    "hide everything, %s_mg_coordinates\n",
    "select mc, (name MC)\n",
    "show spheres, mc\n",
    "color red, mc\n",
    "set sphere_scale, 3.5, mc'''%pdb)\n",
    "    cmd.do('''\n",
    "select atoms_real, index {0}\n",
    "color yellow, atoms_real\n",
    "show spheres, atoms_real\n",
    "set sphere_scale, 0.3, atoms_real\n",
    "set cartoon_transparency, 0, atoms_real \n",
    "set stick_transparency, 0.5, atoms_real \n",
    "    '''.format(str(mg_real)[1:-1].replace(',', '| id')))"
   ]
  },
  {
   "cell_type": "code",
   "execution_count": 29,
   "metadata": {
    "collapsed": true
   },
   "outputs": [],
   "source": [
    "full_validation = pd.read_csv('../Try differents sets/trained_results_validation/rfc_200_gini_26_0.7_20/datatable.csv')\n",
    "full_validation['groups'] = [i.split('.cif1_')[0] for i in full_validation.pdb_chain.values]"
   ]
  },
  {
   "cell_type": "code",
   "execution_count": 22,
   "metadata": {
    "collapsed": true
   },
   "outputs": [],
   "source": [
    "full_validation = pd.read_csv('../Try differents sets/trained_results_validation/diploma_chains/datatable.csv')\n",
    "full_validation['groups'] = [i.split('.cif1_')[0] for i in full_validation.pdb_chain.values]"
   ]
  },
  {
   "cell_type": "code",
   "execution_count": 31,
   "metadata": {
    "collapsed": true
   },
   "outputs": [],
   "source": [
    "view_pdb_real(pdb='5nzd')\n",
    "# view_pdb_real(pdb='462d')\n",
    "# view_pdb_real(pdb='1hc8')"
   ]
  },
  {
   "cell_type": "code",
   "execution_count": 9,
   "metadata": {
    "collapsed": true
   },
   "outputs": [],
   "source": [
    "cmd.do('index 1hc8')"
   ]
  },
  {
   "cell_type": "code",
   "execution_count": 19,
   "metadata": {
    "collapsed": true
   },
   "outputs": [],
   "source": [
    "def view_pdb2(pdb, treshold = 0.5):\n",
    "    cmd.reinitialize()\n",
    "    cmd.do('bg_color white')\n",
    "    cmd.fetch(pdb)\n",
    "#     cmd.do('''\n",
    "# hide all\n",
    "# select chain_a, chain B\n",
    "# show cartoon, chain_a  \n",
    "# show sticks, chain_a\n",
    "# color grey\n",
    "# set cartoon_transparency, 0.3\n",
    "# set stick_transparency, 0.5\n",
    "#     ''')    \n",
    "    cmd.do('''\n",
    "hide all\n",
    "show cartoon\n",
    "show sticks\n",
    "color grey\n",
    "set cartoon_transparency, 0.3\n",
    "set stick_transparency, 0.5\n",
    "    ''')    \n",
    "    cmd.do('''\n",
    "select mg, (name MG)\n",
    "show spheres, mg\n",
    "color yellow, mg''')\n",
    "    mg_real = (full_validation['groups'] == pdb) & (full_validation['mg'].values == 1)\n",
    "    mg_predicted = (full_validation['groups'] == pdb) & (full_validation['probability'] >= treshold)    \n",
    "    mg_true_predicted = (mg_real & mg_predicted)\n",
    "    mg_other = mg_predicted & ~ mg_true_predicted\n",
    "    mg_real = mg_real & ~ mg_true_predicted\n",
    "    mg_other = full_validation.pdb_index.loc[mg_other].values.tolist()\n",
    "    mg_real = full_validation.pdb_index.loc[mg_real].values.tolist()\n",
    "    mg_true_predicted = full_validation.pdb_index.loc[mg_true_predicted].values.tolist()   \n",
    "    \n",
    "    cmd.do('''\n",
    "select atoms_real, index {0}\n",
    "color yellow, atoms_real\n",
    "select atoms_true_predicted, index {1}\n",
    "color orange, atoms_true_predicted\n",
    "select atoms_other, index {2}\n",
    "color teal, atoms_other\n",
    "set cartoon_transparency, 0, atoms_real | atoms_true_predicted | atoms_other\n",
    "set stick_transparency, 0.5, atoms_real | atoms_true_predicted | atoms_other\n",
    "    '''.format(str(mg_real)[1:-1].replace(',', '| index'),\n",
    "               str(mg_true_predicted)[1:-1].replace(',', '| index'), \n",
    "               str(mg_other)[1:-1].replace(',', '| index')))\n",
    "    Vizualization/outputs/462d_mg_coordinates.pdb"
   ]
  },
  {
   "cell_type": "code",
   "execution_count": 20,
   "metadata": {
    "collapsed": false
   },
   "outputs": [
    {
     "data": {
      "application/vnd.jupyter.widget-view+json": {
       "model_id": "372d9aaade1c46169ab478d384e67b5d",
       "version_major": 2,
       "version_minor": 0
      },
      "text/html": [
       "<p>Failed to display Jupyter Widget of type <code>interactive</code>.</p>\n",
       "<p>\n",
       "  If you're reading this message in the Jupyter Notebook or JupyterLab Notebook, it may mean\n",
       "  that the widgets JavaScript is still loading. If this message persists, it\n",
       "  likely means that the widgets JavaScript library is either not installed or\n",
       "  not enabled. See the <a href=\"https://ipywidgets.readthedocs.io/en/stable/user_install.html\">Jupyter\n",
       "  Widgets Documentation</a> for setup instructions.\n",
       "</p>\n",
       "<p>\n",
       "  If you're reading this message in another frontend (for example, a static\n",
       "  rendering on GitHub or <a href=\"https://nbviewer.jupyter.org/\">NBViewer</a>),\n",
       "  it may mean that your frontend doesn't currently support widgets.\n",
       "</p>\n"
      ],
      "text/plain": [
       "interactive(children=(Dropdown(description='pdb', options=('1hc8', '1hr2', '1qa6', '462d'), value='1hc8'), FloatSlider(value=0.5, description='treshold', max=0.7, min=0.3, step=0.01), Output()), _dom_classes=('widget-interact',))"
      ]
     },
     "metadata": {},
     "output_type": "display_data"
    },
    {
     "data": {
      "text/plain": [
       "<function __main__.view_pdb2>"
      ]
     },
     "execution_count": 20,
     "metadata": {},
     "output_type": "execute_result"
    }
   ],
   "source": [
    "interact(view_pdb2, pdb = interesting_chains, treshold = (0.3, 0.7, 0.01))"
   ]
  }
 ],
 "metadata": {
  "anaconda-cloud": {},
  "kernelspec": {
   "display_name": "Python [default]",
   "language": "python",
   "name": "python3"
  },
  "language_info": {
   "codemirror_mode": {
    "name": "ipython",
    "version": 3
   },
   "file_extension": ".py",
   "mimetype": "text/x-python",
   "name": "python",
   "nbconvert_exporter": "python",
   "pygments_lexer": "ipython3",
   "version": "3.5.2"
  }
 },
 "nbformat": 4,
 "nbformat_minor": 2
}
