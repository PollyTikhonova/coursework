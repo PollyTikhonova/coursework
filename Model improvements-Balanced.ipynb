{
 "cells": [
  {
   "cell_type": "code",
   "execution_count": 1,
   "metadata": {
    "collapsed": false
   },
   "outputs": [],
   "source": [
    "from class_magnesium_not_drop_na import *"
   ]
  },
  {
   "cell_type": "markdown",
   "metadata": {},
   "source": [
    "### Max depth"
   ]
  },
  {
   "cell_type": "code",
   "execution_count": 2,
   "metadata": {
    "collapsed": true
   },
   "outputs": [],
   "source": [
    "md = list(range(1,11)) + [15, 20, 25, 30, 35]\n"
   ]
  },
  {
   "cell_type": "code",
   "execution_count": 3,
   "metadata": {
    "collapsed": false
   },
   "outputs": [
    {
     "name": "stdout",
     "output_type": "stream",
     "text": [
      "\n",
      "Maxdepth =  1\n",
      "(41020,)\n",
      "(88877,)\n",
      "Before:  (88877, 361)\n",
      "After:  (41020, 361)\n",
      "\n",
      "Number of sites:  6153\n",
      "Portion of sites:  0.5\n",
      "Average score:  0.604745652527\n",
      "Last score:  0.603445473753\n",
      "\n",
      "Maxdepth =  2\n",
      "(41020,)\n",
      "(88877,)\n",
      "Before:  (88877, 361)\n",
      "After:  (41020, 361)\n",
      "\n",
      "Number of sites:  6153\n",
      "Portion of sites:  0.5\n",
      "Average score:  0.610368925727\n",
      "Last score:  0.607833577117\n",
      "\n",
      "Maxdepth =  3\n",
      "(41020,)\n",
      "(88877,)\n",
      "Before:  (88877, 361)\n",
      "After:  (41020, 361)\n",
      "\n",
      "Number of sites:  6153\n",
      "Portion of sites:  0.5\n",
      "Average score:  0.61919388916\n",
      "Last score:  0.619372663741\n",
      "\n",
      "Maxdepth =  4\n",
      "(41020,)\n",
      "(88877,)\n",
      "Before:  (88877, 361)\n",
      "After:  (41020, 361)\n",
      "\n",
      "Number of sites:  6153\n",
      "Portion of sites:  0.5\n",
      "Average score:  0.626929952869\n",
      "Last score:  0.627417519909\n",
      "\n",
      "Maxdepth =  5\n",
      "(41020,)\n",
      "(88877,)\n",
      "Before:  (88877, 361)\n",
      "After:  (41020, 361)\n",
      "\n",
      "Number of sites:  6153\n",
      "Portion of sites:  0.5\n",
      "Average score:  0.634909800098\n",
      "Last score:  0.633105802048\n",
      "\n",
      "Maxdepth =  6\n",
      "(41020,)\n",
      "(88877,)\n",
      "Before:  (88877, 361)\n",
      "After:  (41020, 361)\n",
      "\n",
      "Number of sites:  6153\n",
      "Portion of sites:  0.5\n",
      "Average score:  0.641751990899\n",
      "Last score:  0.638956606533\n",
      "\n",
      "Maxdepth =  7\n",
      "(41020,)\n",
      "(88877,)\n",
      "Before:  (88877, 361)\n",
      "After:  (41020, 361)\n",
      "\n",
      "Number of sites:  6153\n",
      "Portion of sites:  0.5\n",
      "Average score:  0.646903949293\n",
      "Last score:  0.645213716886\n",
      "\n",
      "Maxdepth =  8\n",
      "(41020,)\n",
      "(88877,)\n",
      "Before:  (88877, 361)\n",
      "After:  (41020, 361)\n",
      "\n",
      "Number of sites:  6153\n",
      "Portion of sites:  0.5\n",
      "Average score:  0.654916300991\n",
      "Last score:  0.651877133106\n",
      "\n",
      "Maxdepth =  9\n",
      "(41020,)\n",
      "(88877,)\n",
      "Before:  (88877, 361)\n",
      "After:  (41020, 361)\n",
      "\n",
      "Number of sites:  6153\n",
      "Portion of sites:  0.5\n",
      "Average score:  0.662798634812\n",
      "Last score:  0.656996587031\n",
      "\n",
      "Maxdepth =  10\n",
      "(41020,)\n",
      "(88877,)\n",
      "Before:  (88877, 361)\n",
      "After:  (41020, 361)\n",
      "\n",
      "Number of sites:  6153\n",
      "Portion of sites:  0.5\n",
      "Average score:  0.670810986511\n",
      "Last score:  0.667641800748\n",
      "\n",
      "Maxdepth =  15\n",
      "(41020,)\n",
      "(88877,)\n",
      "Before:  (88877, 361)\n",
      "After:  (41020, 361)\n",
      "\n",
      "Number of sites:  6153\n",
      "Portion of sites:  0.5\n",
      "Average score:  0.700308792459\n",
      "Last score:  0.697139606696\n",
      "\n",
      "Maxdepth =  20\n",
      "(41020,)\n",
      "(88877,)\n",
      "Before:  (88877, 361)\n",
      "After:  (41020, 361)\n",
      "\n",
      "Number of sites:  6153\n",
      "Portion of sites:  0.5\n",
      "Average score:  0.70999512433\n",
      "Last score:  0.704534373476\n",
      "\n",
      "Maxdepth =  25\n",
      "(41020,)\n",
      "(88877,)\n",
      "Before:  (88877, 361)\n",
      "After:  (41020, 361)\n",
      "\n",
      "Number of sites:  6153\n",
      "Portion of sites:  0.5\n",
      "Average score:  0.710222655615\n",
      "Last score:  0.706403380465\n",
      "\n",
      "Maxdepth =  30\n",
      "(41020,)\n",
      "(88877,)\n",
      "Before:  (88877, 361)\n",
      "After:  (41020, 361)\n",
      "\n",
      "Number of sites:  6153\n",
      "Portion of sites:  0.5\n",
      "Average score:  0.709751340809\n",
      "Last score:  0.70485941817\n",
      "\n",
      "Maxdepth =  35\n",
      "(41020,)\n",
      "(88877,)\n",
      "Before:  (88877, 361)\n",
      "After:  (41020, 361)\n",
      "\n",
      "Number of sites:  6153\n",
      "Portion of sites:  0.5\n",
      "Average score:  0.711132780757\n",
      "Last score:  0.705509507557\n"
     ]
    }
   ],
   "source": [
    "test = []\n",
    "train = []\n",
    "for i in md:\n",
    "    print()\n",
    "    print('Maxdepth = ',i)\n",
    "    m = Magnesium(\"set_minresol_N_5.csv\", fold='input files/',colours = ['#f6c35b', '#929292'],\n",
    "                 model = RandomForestClassifier(n_estimators=200, max_depth = i, n_jobs=-1, criterion='gini'),\n",
    "                  with_groups = False)\n",
    "    data = m.compute(n_splits = 5, test_size = 0.3, plots = False, reduce_features = False, balanced = True)\n",
    "    train.append(data['train score'])\n",
    "    test.append(data['test score'])"
   ]
  },
  {
   "cell_type": "code",
   "execution_count": null,
   "metadata": {
    "collapsed": false
   },
   "outputs": [],
   "source": [
    "ax = plt.figure(figsize = (15,10)).add_subplot(111)\n",
    "ax.plot(list(range(len(test))), test, color = 'teal', label = 'Mean test accuracy')\n",
    "ax.scatter(list(range(len(test))), test, color = 'teal')\n",
    "ax.plot(list(range(len(train))), train, color = 'purple', label = 'Mean train accuracy')\n",
    "ax.scatter(list(range(len(train))), train, color = 'purple')\n",
    "#new_ticks = [ax.get_xticks()[i] for i in range(len(ax.get_xticks())) if i%2 == 1]\n",
    "#ax.set_xticks(new_ticks)\n",
    "#ax.set_xticklabels(md)\n",
    "plt.legend()\n",
    "plt.title('Accuracy scores', fontsize = 12)\n",
    "plt.show()"
   ]
  },
  {
   "cell_type": "code",
   "execution_count": 5,
   "metadata": {
    "collapsed": false
   },
   "outputs": [
    {
     "data": {
      "image/png": "[encoded data removed]",
      "text/plain": [
       "<matplotlib.figure.Figure at 0x174d3183ba8>"
      ]
     },
     "metadata": {},
     "output_type": "display_data"
    }
   ],
   "source": [
    "ax = plt.figure(figsize = (15,10)).add_subplot(111)\n",
    "ax.plot(md[:-2], test[:-2], color = 'teal', label = 'Mean test accuracy')\n",
    "ax.scatter(md[:-2], test[:-2], color = 'teal')\n",
    "ax.plot(md[:-2], train[:-2], color = 'purple', label = 'Mean train accuracy')\n",
    "ax.scatter(md[:-2], train[:-2], color = 'purple')\n",
    "#new_ticks = [ax.get_xticks()[i] for i in range(len(ax.get_xticks())) if i%2 == 1]\n",
    "ax.set_xticks(md[:-2])\n",
    "#ax.set_xticklabels(md)\n",
    "plt.legend()\n",
    "plt.title('Accuracy scores', fontsize = 12)\n",
    "plt.show()"
   ]
  },
  {
   "cell_type": "markdown",
   "metadata": {},
   "source": [
    "### Leaves"
   ]
  },
  {
   "cell_type": "code",
   "execution_count": 33,
   "metadata": {
    "collapsed": true
   },
   "outputs": [],
   "source": [
    "#lv = [1,5,10, 15, 20, 25, 30, 40, 45, 50, 55, 60, 65, 70, 75, 80, 100, 120, 130, 140, 150, 160, 170, 180, 190, 200]\n",
    "lv = [220, 250, 280, 300, 350, 400]"
   ]
  },
  {
   "cell_type": "code",
   "execution_count": 34,
   "metadata": {
    "collapsed": false
   },
   "outputs": [
    {
     "name": "stdout",
     "output_type": "stream",
     "text": [
      "\n",
      "Maxdepth =  220\n",
      "(41020,)\n",
      "(88877,)\n",
      "Before:  (88877, 361)\n",
      "After:  (41020, 361)\n",
      "\n",
      "Number of sites:  6153\n",
      "Portion of sites:  0.5\n",
      "Average score:  0.642662116041\n",
      "Last score:  0.639850479441\n",
      "\n",
      "Maxdepth =  250\n",
      "(41020,)\n",
      "(88877,)\n",
      "Before:  (88877, 361)\n",
      "After:  (41020, 361)\n",
      "\n",
      "Number of sites:  6153\n",
      "Portion of sites:  0.5\n",
      "Average score:  0.640841865757\n",
      "Last score:  0.639606695921\n",
      "\n",
      "Maxdepth =  280\n",
      "(41020,)\n",
      "(88877,)\n",
      "Before:  (88877, 361)\n",
      "After:  (41020, 361)\n",
      "\n",
      "Number of sites:  6153\n",
      "Portion of sites:  0.5\n",
      "Average score:  0.638972858768\n",
      "Last score:  0.635949943117\n",
      "\n",
      "Maxdepth =  300\n",
      "(41020,)\n",
      "(88877,)\n",
      "Before:  (88877, 361)\n",
      "After:  (41020, 361)\n",
      "\n",
      "Number of sites:  6153\n",
      "Portion of sites:  0.5\n",
      "Average score:  0.636372501219\n",
      "Last score:  0.632699496181\n",
      "\n",
      "Maxdepth =  350\n",
      "(41020,)\n",
      "(88877,)\n",
      "Before:  (88877, 361)\n",
      "After:  (41020, 361)\n",
      "\n",
      "Number of sites:  6153\n",
      "Portion of sites:  0.5\n",
      "Average score:  0.634308467414\n",
      "Last score:  0.630342922152\n",
      "\n",
      "Maxdepth =  400\n",
      "(41020,)\n",
      "(88877,)\n",
      "Before:  (88877, 361)\n",
      "After:  (41020, 361)\n",
      "\n",
      "Number of sites:  6153\n",
      "Portion of sites:  0.5\n",
      "Average score:  0.630456687795\n",
      "Last score:  0.626198602308\n"
     ]
    }
   ],
   "source": [
    "#test = []\n",
    "#train = []\n",
    "for i in lv:\n",
    "    print()\n",
    "    print('Maxdepth = ',i)\n",
    "    m = Magnesium(\"set_minresol_N_5.csv\", fold='input files/',colours = ['#f6c35b', '#929292'],\n",
    "                 model = RandomForestClassifier(n_estimators=200, max_depth = 20, min_samples_leaf=i, \n",
    "                                                n_jobs=-1, criterion='gini'),  with_groups = False)\n",
    "    data = m.compute(n_splits = 5, test_size = 0.3, plots = False, reduce_features = False, balanced = True)\n",
    "    train.append(data['train score'])\n",
    "    test.append(data['test score'])"
   ]
  },
  {
   "cell_type": "code",
   "execution_count": 35,
   "metadata": {
    "collapsed": false
   },
   "outputs": [
    {
     "data": {
      "image/png": "[encoded data removed]",
      "text/plain": [
       "<matplotlib.figure.Figure at 0x174a1b27080>"
      ]
     },
     "metadata": {},
     "output_type": "display_data"
    }
   ],
   "source": [
    "lv = [1,5,10, 15, 20, 25, 30, 40, 45, 50, 55, 60, 65, 70, 75, 80, 100, 120, 130, 140, 150, 160, 170, 180, 190, 200, 220, 250, 280, 300, 350, 400]\n",
    "ax = plt.figure(figsize = (15,10)).add_subplot(111)\n",
    "ax.plot(lv, test, color = 'teal', label = 'Mean test accuracy')\n",
    "ax.scatter(lv, test, color = 'teal')\n",
    "ax.plot(lv, train, color = 'purple', label = 'Mean train accuracy')\n",
    "ax.scatter(lv, train, color = 'purple')\n",
    "#new_ticks = [ax.get_xticks()[i] for i in range(len(ax.get_xticks())) if i%2 == 1]\n",
    "#ax.set_xticks(new_ticks)\n",
    "#ax.set_xticklabels(lv)\n",
    "plt.legend()\n",
    "plt.title('Accuracy scores', fontsize = 12)\n",
    "plt.show()"
   ]
  },
  {
   "cell_type": "markdown",
   "metadata": {},
   "source": [
    "### Estimators"
   ]
  },
  {
   "cell_type": "code",
   "execution_count": 9,
   "metadata": {
    "collapsed": true
   },
   "outputs": [],
   "source": [
    "n = [25, 50, 75, 100, 125, 150, 175, 200]"
   ]
  },
  {
   "cell_type": "code",
   "execution_count": null,
   "metadata": {
    "collapsed": false
   },
   "outputs": [],
   "source": [
    "test = []\n",
    "train = []\n",
    "for i in n:\n",
    "    m = Magnesium(\"set_minresol_N_5_b_b.csv\", fold='input files/',colours = ['#f6c35b', '#929292'],\n",
    "                 model = RandomForestClassifier(n_estimators=i, n_jobs=-1, criterion='gini'),  with_groups = True)\n",
    "    data = m.compute(n_splits = 5, test_size = 0.3, plots = False, reduce_features = False)\n",
    "    train.append(data['train score'])\n",
    "    test.append(data['test score'])"
   ]
  },
  {
   "cell_type": "code",
   "execution_count": 11,
   "metadata": {
    "collapsed": false
   },
   "outputs": [
    {
     "data": {
      "image/png": "[encoded data removed]",
      "text/plain": [
       "<matplotlib.figure.Figure at 0x174e1d40320>"
      ]
     },
     "metadata": {},
     "output_type": "display_data"
    }
   ],
   "source": [
    "ax = plt.figure().add_subplot(111)\n",
    "ax.plot(list(range(len(test))), test, color = 'teal', label = 'Mean test accuracy')\n",
    "ax.plot(list(range(len(train))), test, color = 'purple', label = 'Mean train accuracy')\n",
    "ax.set_xticklabels([0]+n)\n",
    "plt.legend()\n",
    "plt.title('Accuracy scores', fontsize = 12)\n",
    "plt.show()"
   ]
  }
 ],
 "metadata": {
  "anaconda-cloud": {},
  "kernelspec": {
   "display_name": "Python [default]",
   "language": "python",
   "name": "python3"
  },
  "language_info": {
   "codemirror_mode": {
    "name": "ipython",
    "version": 3
   },
   "file_extension": ".py",
   "mimetype": "text/x-python",
   "name": "python",
   "nbconvert_exporter": "python",
   "pygments_lexer": "ipython3",
   "version": "3.5.2"
  },
  "widgets": {
   "state": {
    "04abb94ca9444912a1bfacc0f39eb2d2": {
     "views": [
      {
       "cell_index": 3
      }
     ]
    },
    "05245bdaecdc49e5a403a7a416c8d214": {
     "views": [
      {
       "cell_index": 3
      }
     ]
    },
    "1673ebee66144c608fb6dc6bef23212b": {
     "views": [
      {
       "cell_index": 8
      }
     ]
    },
    "1cf2eca097c54b149ad62b21e208e3cc": {
     "views": [
      {
       "cell_index": 8
      }
     ]
    },
    "1e47e4e66b0b4957a060d14436c56487": {
     "views": [
      {
       "cell_index": 3
      }
     ]
    },
    "2510ce1035df4d91822bb371407ff913": {
     "views": [
      {
       "cell_index": 8
      }
     ]
    },
    "2883effb93b04deeb6589070cafb4331": {
     "views": [
      {
       "cell_index": 8
      }
     ]
    },
    "2a6aae0e2f754dfcba4494ccb9a4435e": {
     "views": [
      {
       "cell_index": 8
      }
     ]
    },
    "3f264c7529cd4f7ab0f3718b24bba6bb": {
     "views": [
      {
       "cell_index": 3
      }
     ]
    },
    "4bc7ec12767f408ca186c29b8329f867": {
     "views": [
      {
       "cell_index": 8
      }
     ]
    },
    "4c5ec8bf75974b4182997240982019b3": {
     "views": [
      {
       "cell_index": 8
      }
     ]
    },
    "58f61b97db674afb9e40441cd44fd153": {
     "views": [
      {
       "cell_index": 8
      }
     ]
    },
    "5ed4f0a71d4e48c285cf11083eb948fe": {
     "views": [
      {
       "cell_index": 3
      }
     ]
    },
    "64b8827b2fca4d4082dee2597638f61d": {
     "views": [
      {
       "cell_index": 3
      }
     ]
    },
    "657ec64864074c43a0d2b2e34d634a93": {
     "views": [
      {
       "cell_index": 8
      }
     ]
    },
    "66124162d7234834be97eee9d2fe83ef": {
     "views": [
      {
       "cell_index": 3
      }
     ]
    },
    "6a5e4fd9f12240eaa6949c1577552baa": {
     "views": [
      {
       "cell_index": 3
      }
     ]
    },
    "7acb58c39139422d81b2756a34b697fa": {
     "views": [
      {
       "cell_index": 3
      }
     ]
    },
    "882dec421c8145e3a4c655fdb3fbce3c": {
     "views": [
      {
       "cell_index": 8
      }
     ]
    },
    "8b3939ac0e9e41239abf93e559c5d5ca": {
     "views": [
      {
       "cell_index": 8
      }
     ]
    },
    "971d28d2f6c149f8a45d4e47d879f664": {
     "views": [
      {
       "cell_index": 8
      }
     ]
    },
    "99f7af90e13b4b8cbdb3b8dae4642d29": {
     "views": [
      {
       "cell_index": 8
      }
     ]
    },
    "9a4450558d9341cea57057a42d222fe8": {
     "views": [
      {
       "cell_index": 8
      }
     ]
    },
    "a070b7f2b27742c0bbee50308466dd9f": {
     "views": [
      {
       "cell_index": 8
      }
     ]
    },
    "a68ed49847a94a5bb5f0544999485874": {
     "views": [
      {
       "cell_index": 8
      }
     ]
    },
    "b0976901832547bbb7852adfc7dbf722": {
     "views": [
      {
       "cell_index": 3
      }
     ]
    },
    "b31dc1e4b28d4c27a42746378db89a3d": {
     "views": [
      {
       "cell_index": 3
      }
     ]
    },
    "b72971b7ce59449ca3c564c394f7b276": {
     "views": [
      {
       "cell_index": 12
      }
     ]
    },
    "ca1d8922e5744ed3bc970cf0e5111560": {
     "views": [
      {
       "cell_index": 3
      }
     ]
    },
    "cc36269a7ffd41f984fb6a7385d365aa": {
     "views": [
      {
       "cell_index": 3
      }
     ]
    },
    "e51c326149014dbca4898cd35de0120f": {
     "views": [
      {
       "cell_index": 8
      }
     ]
    },
    "ea70cb88cdc540b8ae5f9aa81adc79df": {
     "views": [
      {
       "cell_index": 8
      }
     ]
    },
    "ee5292a41c61481b892140c7bd7ae027": {
     "views": [
      {
       "cell_index": 12
      }
     ]
    },
    "f3784b6af72647778db298b4cb3ce9ef": {
     "views": [
      {
       "cell_index": 8
      }
     ]
    },
    "f91dcc5e2c714c80a0e9dd9d0d6dc0c7": {
     "views": [
      {
       "cell_index": 3
      }
     ]
    },
    "ff2c641fa7be4b11b6e9d6fe67aede69": {
     "views": [
      {
       "cell_index": 8
      }
     ]
    },
    "ffc5c27d274f43d0a9dc6ef83e233ef2": {
     "views": [
      {
       "cell_index": 3
      }
     ]
    }
   },
   "version": "1.2.0"
  }
 },
 "nbformat": 4,
 "nbformat_minor": 2
}
