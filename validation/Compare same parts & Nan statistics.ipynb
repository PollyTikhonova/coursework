{
 "cells": [
  {
   "cell_type": "markdown",
   "metadata": {},
   "source": [
    "### Сравнение совпадающих частей валидационного и тренировочного датасетов. Статистика Nan'ов"
   ]
  },
  {
   "cell_type": "markdown",
   "metadata": {},
   "source": [
    "<a href=\"https://pollytikhonova.github.io/coursework/validation/\"><img src=\"https://pollytikhonova.github.io/coursework/GitHub-Mark-32px.png\" alt=\"В репозиторий\" title=\"В репозиторий\" style=\"max-width:100%;  display: inline-block; margin-right: 10px;\"></a> <a href=\"Compare same parts & Nan statistics.ipynb\" download target=\"_blank\">Скачать этот ipunb-файл можно здесь</a>"
   ]
  },
  {
   "cell_type": "code",
   "execution_count": 2,
   "metadata": {
    "collapsed": true
   },
   "outputs": [],
   "source": [
    "import sys\n",
    "sys.path.insert(0, '../basic codes')\n",
    "\n",
    "import class_magnesium_not_drop_na\n",
    "from class_magnesium_not_drop_na import *\n",
    "from sklearn import preprocessing"
   ]
  },
  {
   "cell_type": "code",
   "execution_count": 15,
   "metadata": {
    "collapsed": false
   },
   "outputs": [],
   "source": [
    "data_origin = pd.read_table('../main_datasets/set_minresol_a_7_1000.csv')"
   ]
  },
  {
   "cell_type": "code",
   "execution_count": 16,
   "metadata": {
    "collapsed": false
   },
   "outputs": [],
   "source": [
    "val_data_origin = pd.read_table('../main_datasets/set_val_A_7.csv')"
   ]
  },
  {
   "cell_type": "code",
   "execution_count": 17,
   "metadata": {
    "collapsed": false
   },
   "outputs": [
    {
     "name": "stderr",
     "output_type": "stream",
     "text": [
      "C:\\Users\\tikho\\Anaconda3\\lib\\site-packages\\ipykernel\\__main__.py:4: SettingWithCopyWarning: \n",
      "A value is trying to be set on a copy of a slice from a DataFrame\n",
      "\n",
      "See the caveats in the documentation: http://pandas.pydata.org/pandas-docs/stable/indexing.html#indexing-view-versus-copy\n"
     ]
    }
   ],
   "source": [
    "pdb_validation = val_data_origin['pdb_chain']\n",
    "pdb_our = data_origin['pdb_chain']\n",
    "validation = val_data_origin[val_data_origin['pdb_chain'].isin(pdb_our)]\n",
    "validation.drop('DSSR', axis=1, inplace=True)\n",
    "our = data_origin[data_origin['pdb_chain'].isin(pdb_validation)]"
   ]
  },
  {
   "cell_type": "code",
   "execution_count": 13,
   "metadata": {
    "collapsed": false
   },
   "outputs": [
    {
     "name": "stdout",
     "output_type": "stream",
     "text": [
      "(4643, 386)\n",
      "(4643, 385)\n"
     ]
    }
   ],
   "source": [
    "print(validation.shape)\n",
    "print(our.shape)"
   ]
  },
  {
   "cell_type": "code",
   "execution_count": 10,
   "metadata": {
    "collapsed": false
   },
   "outputs": [
    {
     "name": "stderr",
     "output_type": "stream",
     "text": [
      "C:\\Users\\tikho\\Anaconda3\\lib\\site-packages\\ipykernel\\__main__.py:1: SettingWithCopyWarning: \n",
      "A value is trying to be set on a copy of a slice from a DataFrame\n",
      "\n",
      "See the caveats in the documentation: http://pandas.pydata.org/pandas-docs/stable/indexing.html#indexing-view-versus-copy\n",
      "  if __name__ == '__main__':\n",
      "C:\\Users\\tikho\\Anaconda3\\lib\\site-packages\\ipykernel\\__main__.py:2: SettingWithCopyWarning: \n",
      "A value is trying to be set on a copy of a slice from a DataFrame\n",
      "\n",
      "See the caveats in the documentation: http://pandas.pydata.org/pandas-docs/stable/indexing.html#indexing-view-versus-copy\n",
      "  from ipykernel import kernelapp as app\n"
     ]
    }
   ],
   "source": [
    "our.sort_values(list(our.columns), inplace=True)\n",
    "validation.sort_values(list(our.columns), inplace=True)"
   ]
  },
  {
   "cell_type": "code",
   "execution_count": 11,
   "metadata": {
    "collapsed": false
   },
   "outputs": [
    {
     "data": {
      "text/plain": [
       "False"
      ]
     },
     "execution_count": 11,
     "metadata": {},
     "output_type": "execute_result"
    }
   ],
   "source": [
    "# сравнение двух датафреймов\n",
    "our.equals(validation)"
   ]
  },
  {
   "cell_type": "code",
   "execution_count": 21,
   "metadata": {
    "collapsed": false
   },
   "outputs": [],
   "source": [
    "not_equal_cols = []\n",
    "for i in our.columns:\n",
    "    if not sorted(validation[i]) == sorted(our[i]):\n",
    "        not_equal_cols.append(i)len(not_equal_cols)"
   ]
  },
  {
   "cell_type": "code",
   "execution_count": 35,
   "metadata": {
    "collapsed": false
   },
   "outputs": [
    {
     "name": "stdout",
     "output_type": "stream",
     "text": [
      "       alpham2        betam2       gammam2       deltam2     epsilonm2        zetam2         e-zm2\n",
      "         chim2 phase-anglem2        sszpm2          dpm2       splaym2         etam2       thetam2\n",
      "        etapm2      thetapm2       etappm2     thetappm2          v0m2          v1m2          v2m2\n",
      "          v3m2          v4m2          tmm2           pm2       alpham1        betam1       gammam1\n",
      "       deltam1     epsilonm1        zetam1         e-zm1         chim1 phase-anglem1        sszpm1\n",
      "          dpm1       splaym1         etam1       thetam1        etapm1      thetapm1       etappm1\n",
      "     thetappm1          v0m1          v1m1          v2m1          v3m1          v4m1          tmm1\n",
      "           pm1         alpha          beta         gamma         delta       epsilon          zeta\n",
      "           e-z           chi   phase-angle          sszp            dp         splay           eta\n",
      "         theta          etap        thetap         etapp       thetapp            v0            v1\n",
      "            v2            v3            v4            tm             p        alpha1         beta1\n",
      "        gamma1        delta1      epsilon1         zeta1          e-z1          chi1  phase-angle1\n",
      "         sszp1           dp1        splay1          eta1        theta1         etap1       thetap1\n",
      "        etapp1      thetapp1           v01           v11           v21           v31           v41\n",
      "           tm1            p1        alpha2         beta2        gamma2        delta2      epsilon2\n",
      "         zeta2          e-z2          chi2  phase-angle2         sszp2           dp2        splay2\n",
      "          eta2        theta2         etap2       thetap2        etapp2      thetapp2           v02\n",
      "           v12           v22           v32           v42           tm2            p2        seqAm2\n",
      "        seqCm2        seqGm2        seqUm2        seqAm1        seqCm1        seqGm1        seqUm1\n",
      "         seqA1         seqC1         seqG1         seqU1         seqA2         seqC2         seqG2\n",
      "         seqU2          SIm2         SIIm2        SIIIm2         SIVm2          SVm2         SVIm2\n",
      "        SVIIm2       SVIIIm2         SIXm2          SXm2         SXIm2        SXIIm2       SXIIIm2\n",
      "        SXIVm2         SXVm2        SXVIm2       SXVIIm2      SXVIIIm2        SXIXm2         SXXm2\n",
      "        SXXIm2       SXXIIm2      SXXIIIm2       SXXIVm2        SXXVm2       SXXVIm2      SXXVIIm2\n",
      "     SXXVIIIm2       SXXIXm2         cWHm2         cWSm2         cWWm2         cHSm2         cHHm2\n",
      "         cSSm2         tWHm2         tWSm2         tWWm2         tHSm2         tHHm2         tSSm2\n",
      "          SIm1         SIIm1        SIIIm1         SIVm1          SVm1         SVIm1        SVIIm1\n",
      "       SVIIIm1         SIXm1          SXm1         SXIm1        SXIIm1       SXIIIm1        SXIVm1\n",
      "         SXVm1        SXVIm1       SXVIIm1      SXVIIIm1        SXIXm1         SXXm1        SXXIm1\n",
      "       SXXIIm1      SXXIIIm1       SXXIVm1        SXXVm1       SXXVIm1      SXXVIIm1     SXXVIIIm1\n",
      "       SXXIXm1         cWHm1         cWSm1         cWWm1         cHSm1         cHHm1         cSSm1\n",
      "         tWHm1         tWSm1         tWWm1         tHSm1         tHHm1         tSSm1           cWH\n",
      "           cWW           SI1          SII1         SIII1          SIV1           SV1          SVI1\n",
      "         SVII1        SVIII1          SIX1           SX1          SXI1         SXII1        SXIII1\n",
      "         SXIV1          SXV1         SXVI1        SXVII1       SXVIII1         SXIX1          SXX1\n",
      "         SXXI1        SXXII1       SXXIII1        SXXIV1         SXXV1        SXXVI1       SXXVII1\n",
      "      SXXVIII1        SXXIX1          cWH1          cWS1          cWW1          cHS1          cHH1\n",
      "          cSS1          tWH1          tWS1          tWW1          tHS1          tHH1          tSS1\n",
      "           SI2          SII2         SIII2          SIV2           SV2          SVI2         SVII2\n",
      "        SVIII2          SIX2           SX2          SXI2         SXII2        SXIII2         SXIV2\n",
      "          SXV2         SXVI2        SXVII2       SXVIII2         SXIX2          SXX2         SXXI2\n",
      "        SXXII2       SXXIII2        SXXIV2         SXXV2        SXXVI2       SXXVII2      SXXVIII2\n",
      "        SXXIX2          cWH2          cWS2          cWW2          cHS2          cHH2          cSS2\n",
      "          tWH2          tWS2          tWW2          tHS2          tHH2          tSS2            mg\n"
     ]
    }
   ],
   "source": [
    "# столбцы которые точно имеют расходждения (есть вероятность, что не все)\n",
    "for row in np.array(not_equal_cols).reshape(len(not_equal_cols)//7, 7):\n",
    "    print(str(\"{: >14}\"*7).format(*row))"
   ]
  },
  {
   "cell_type": "markdown",
   "metadata": {},
   "source": [
    "### Nans statistics"
   ]
  },
  {
   "cell_type": "code",
   "execution_count": 67,
   "metadata": {
    "collapsed": false
   },
   "outputs": [
    {
     "data": {
      "text/html": [
       "<span style=\"font-weight:bold\">Train</span>"
      ],
      "text/plain": [
       "<IPython.core.display.HTML object>"
      ]
     },
     "metadata": {},
     "output_type": "display_data"
    },
    {
     "name": "stdout",
     "output_type": "stream",
     "text": [
      "    chi               239    p                 239    tm                239    v4                239    v3                239\n",
      "    v2                239    v1                239    v0                239    phase-angle       239    gamma             255\n",
      "    delta             260    beta             1778    cSSm1            2773    cHHm1            2773    SIIm1            2773\n",
      "    cWWm1            2773    tWHm1            2773    cHSm1            2773    tWSm1            2773    seqAm1           2773\n",
      "    tHSm1            2773    tHHm1            2773    tSSm1            2773    seqGm1           2773    seqCm1           2773\n",
      "    cWSm1            2773    tWWm1            2773    cWHm1            2773    seqUm1           2773    SXXVIIIm1        2773\n",
      "    SXVm1            2773    SXIVm1           2773    SXIIIm1          2773    SXIIm1           2773    SXIm1            2773\n",
      "    SXm1             2773    SXVIm1           2773    SXXIXm1          2773    SVIIIm1          2773    SVIIm1           2773\n",
      "    SVIm1            2773    SVm1             2773    SIVm1            2773    SIIIm1           2773    SIXm1            2773\n",
      "    SXVIIm1          2773    SIm1             2773    SXXIIm1          2773    SXXVm1           2773    SXXIm1           2773\n",
      "    SXXVIm1          2773    SXXVIIm1         2773    SXXm1            2773    SXXIIIm1         2773    SXIXm1           2773\n",
      "    SXVIIIm1         2773    SXXIVm1          2773    SXXIII1          2948    SXXIV1           2948    SXXV1            2948\n",
      "    SXXVI1           2948    SXX1             2948    SXIX1            2948    SXVIII1          2948    SXVII1           2948\n",
      "    SXVI1            2948    SXXVII1          2948    SXXVIII1         2948    SXXIX1           2948    cWH1             2948\n",
      "    SXXII1           2948    SXXI1            2948    seqA1            2948    SXV1             2948    seqC1            2948\n",
      "    SII1             2948    SIII1            2948    seqG1            2948    seqU1            2948    SI1              2948\n",
      "    SIV1             2948    cWS1             2948    SV1              2948    SVII1            2948    SIX1             2948\n",
      "    SX1              2948    SXI1             2948    SXII1            2948    SXIII1           2948    SXIV1            2948\n",
      "    SVI1             2948    SVIII1           2948    cWW1             2948    tWH1             2948    tSS1             2948\n",
      "    tHH1             2948    tHS1             2948    cHS1             2948    cHH1             2948    cSS1             2948\n",
      "    tWW1             2948    tWS1             2948    chim1            4226    phase-anglem1    4226    v0m1             4226\n",
      "    pm1              4226    tmm1             4226    v4m1             4226    v3m1             4226    v2m1             4226\n",
      "    v1m1             4226    gammam1          4248    deltam1          4248    v01              4582    v11              4582\n",
      "    v21              4582    v31              4582    chi1             4582    phase-angle1     4582    v41              4582\n",
      "    tm1              4582    p1               4582    gamma1           4582    beta1            4604    delta1           4627\n",
      "    splaym1          4801    alpha            4801    sszpm1           4801    e-zm1            4801    zetam1           4801\n",
      "    epsilonm1        4801    dpm1             4801    dp               5080    splay            5080    sszp             5080\n",
      "    epsilon          5090    alpha1           5090    zeta             5090    e-z              5090    cWS2             6134\n",
      "    SXXI2            6134    SXXII2           6134    tHS2             6134    tWW2             6134    SXXIII2          6134\n",
      "    tWS2             6134    tWH2             6134    cSS2             6134    cHS2             6134    cWW2             6134\n",
      "    SXXIV2           6134    SXXV2            6134    SXXVI2           6134    SXXVII2          6134    SXXVIII2         6134\n",
      "    SXXIX2           6134    SXX2             6134    cWH2             6134    cHH2             6134    SXIX2            6134\n",
      "    seqC2            6134    SXVII2           6134    SI2              6134    SII2             6134    SIII2            6134\n",
      "    SIV2             6134    SV2              6134    SVI2             6134    SVII2            6134    SVIII2           6134\n",
      "    SIX2             6134    SXVIII2          6134    seqA2            6134    seqU2            6134    SX2              6134\n",
      "    SXI2             6134    SXII2            6134    SXIII2           6134    tHH2             6134    SXIV2            6134\n",
      "    SXV2             6134    SXVI2            6134    seqG2            6134    tSS2             6134    SXIIm2           6336\n",
      "    tHHm2            6336    SXVIm2           6336    SXVm2            6336    SXIVm2           6336    SXIIIm2          6336\n",
      "    SXIm2            6336    SXm2             6336    SVIIIm2          6336    SVIIm2           6336    SVIm2            6336\n",
      "    SVm2             6336    SIVm2            6336    SIIIm2           6336    SIIm2            6336    SIm2             6336\n",
      "    seqUm2           6336    seqGm2           6336    seqCm2           6336    seqAm2           6336    tSSm2            6336\n",
      "    SXVIIm2          6336    SXVIIIm2         6336    SIXm2            6336    SXXm2            6336    tHSm2            6336\n",
      "    SXIXm2           6336    tWSm2            6336    tWHm2            6336    cSSm2            6336    cHHm2            6336\n",
      "    cHSm2            6336    cWWm2            6336    cWSm2            6336    cWHm2            6336    tWWm2            6336\n",
      "    SXXVIIIm2        6336    SXXVIIm2         6336    SXXIm2           6336    SXXVIm2          6336    SXXVm2           6336\n",
      "    SXXIVm2          6336    SXXIIIm2         6336    SXXIIm2          6336    SXXIXm2          6336    betam1           6554\n",
      "    theta            6629    thetapp          6629    thetap           6629    thetam1          7129    thetapm1         7129\n",
      "    thetappm1        7129    v0m2             8674    chim2            8674    v2m2             8674    v3m2             8674\n",
      "    v4m2             8674    tmm2             8674    pm2              8674    phase-anglem2    8674    v1m2             8674\n",
      "    deltam2          8694    gammam2          8694    phase-angle2     8720    v12              8720    v32              8720\n",
      "    p2               8720    v42              8720    v22              8720    tm2              8720    chi2             8720\n",
      "    v02              8720    gamma2           8723    beta2            8745    delta2           8765    sszpm2           9462\n",
      "    dpm2             9462    splaym2          9462    zetam2           9462    e-zm2            9462    alpham1          9462\n",
      "    epsilonm2        9462    sszp1            9509    splay1           9509    dp1              9509    epsilon1         9521\n",
      "    zeta1            9521    e-z1             9521    alpha2           9521    theta1           9543    thetap1          9543\n",
      "    thetapp1         9543    eta              9618    etapp            9618    etap             9618    eta1            10009\n",
      "    etap1           10009    etapp1          10009    etam1           10030    etappm1         10030    etapm1          10030\n",
      "    betam2          10936    thetam2         11724    thetappm2       11724    thetapm2        11724    alpham2         13730\n",
      "    splay2          13796    dp2             13796    sszp2           13796    zeta2           13806    e-z2            13806\n",
      "    epsilon2        13806    thetapp2        13831    thetap2         13831    theta2          13831    etappm2         14496\n",
      "    etam2           14496    etapm2          14496    etapp2          14573    etap2           14573    eta2            14573\n"
     ]
    }
   ],
   "source": [
    "from IPython.core.display import display,HTML\n",
    "display(HTML('<span style=\"font-weight:bold\">Train</span>'))\n",
    "\n",
    "sd = data_original.isnull().sum()\n",
    "sd = np.array([str(\"{: <15} {: >5}\").format(ind, val)  for ind, val in ((sd[sd!=0]).sort_values()).iteritems()])\n",
    "for row in sd.reshape(61, 5):\n",
    "    print(str(\"{: >25}\"*5).format(*row))"
   ]
  },
  {
   "cell_type": "code",
   "execution_count": 68,
   "metadata": {
    "collapsed": false
   },
   "outputs": [
    {
     "data": {
      "text/html": [
       "<span style=\"font-weight:bold\">Validation</span>"
      ],
      "text/plain": [
       "<IPython.core.display.HTML object>"
      ]
     },
     "metadata": {},
     "output_type": "display_data"
    },
    {
     "name": "stdout",
     "output_type": "stream",
     "text": [
      "    chi                12    p                  12    tm                 12    v4                 12    v3                 12\n",
      "    v2                 12    v1                 12    v0                 12    phase-angle        12    delta              12\n",
      "    gamma              20    beta              282    cSSm1             288    cHHm1             288    SIIm1             288\n",
      "    cWWm1             288    tWHm1             288    cHSm1             288    tWSm1             288    seqAm1            288\n",
      "    tHSm1             288    tHHm1             288    tSSm1             288    seqGm1            288    seqCm1            288\n",
      "    cWSm1             288    tWWm1             288    cWHm1             288    seqUm1            288    SXXVIIIm1         288\n",
      "    SXVm1             288    SXIVm1            288    SXIIIm1           288    SXIIm1            288    SXIm1             288\n",
      "    SXm1              288    SXVIm1            288    SXXIXm1           288    SVIIIm1           288    SVIIm1            288\n",
      "    SVIm1             288    SVm1              288    SIVm1             288    SIIIm1            288    SIXm1             288\n",
      "    SXVIIm1           288    SIm1              288    SXXIIm1           288    SXXVm1            288    SXXIm1            288\n",
      "    SXXVIm1           288    SXXVIIm1          288    SXXm1             288    SXXIIIm1          288    SXIXm1            288\n",
      "    SXVIIIm1          288    SXXIVm1           288    SXXIII1           290    SXXIV1            290    SXXV1             290\n",
      "    SXXVI1            290    SXX1              290    SXIX1             290    SXVIII1           290    SXVII1            290\n",
      "    SXVI1             290    SXXVII1           290    SXXVIII1          290    SXXIX1            290    cWH1              290\n",
      "    SXXII1            290    SXXI1             290    seqA1             290    SXV1              290    seqC1             290\n",
      "    SII1              290    SIII1             290    seqG1             290    seqU1             290    SI1               290\n",
      "    SIV1              290    cWS1              290    SV1               290    SVII1             290    SIX1              290\n",
      "    SX1               290    SXI1              290    SXII1             290    SXIII1            290    SXIV1             290\n",
      "    SVI1              290    SVIII1            290    cWW1              290    cHS1              290    tSS1              290\n",
      "    tHH1              290    tHS1              290    cHH1              290    cSS1              290    tWH1              290\n",
      "    tWS1              290    tWW1              290    deltam1           399    v4m1              399    chim1             399\n",
      "    v3m1              399    v1m1              399    v2m1              399    pm1               399    tmm1              399\n",
      "    v0m1              399    phase-anglem1     399    gammam1           409    splaym1           411    alpha             411\n",
      "    dpm1              411    sszpm1            411    epsilonm1         411    zetam1            411    e-zm1             411\n",
      "    v01               432    delta1            432    chi1              432    phase-angle1      432    p1                432\n",
      "    tm1               432    v41               432    v31               432    v21               432    v11               432\n",
      "    beta1             432    gamma1            432    epsilon           438    zeta              438    alpha1            438\n",
      "    dp                438    sszp              438    splay             438    e-z               438    cWS2              593\n",
      "    SXXI2             593    SXXII2            593    tHS2              593    tWW2              593    SXXIII2           593\n",
      "    tWS2              593    tWH2              593    cSS2              593    cHH2              593    cHS2              593\n",
      "    SXX2              593    cWW2              593    SXXIV2            593    SXXV2             593    SXXVI2            593\n",
      "    SXXVII2           593    SXXVIII2          593    SXXIX2            593    cWH2              593    SXIX2             593\n",
      "    seqC2             593    SXVII2            593    SI2               593    SII2              593    SIII2             593\n",
      "    SIV2              593    SV2               593    SVI2              593    SVII2             593    SVIII2            593\n",
      "    SIX2              593    SXVIII2           593    seqA2             593    seqU2             593    SX2               593\n",
      "    SXI2              593    SXII2             593    SXIII2            593    tHH2              593    SXIV2             593\n",
      "    SXV2              593    SXVI2             593    seqG2             593    tSS2              593    SXIIm2            607\n",
      "    tHHm2             607    SXVIm2            607    SXVm2             607    SXIVm2            607    SXIIIm2           607\n",
      "    SXIm2             607    SXm2              607    SIXm2             607    SVIIm2            607    SVIm2             607\n",
      "    SVm2              607    SIVm2             607    SIIIm2            607    SIIm2             607    SIm2              607\n",
      "    seqUm2            607    seqGm2            607    seqCm2            607    seqAm2            607    tSSm2             607\n",
      "    SXVIIm2           607    SXVIIIm2          607    SVIIIm2           607    SXXm2             607    tHSm2             607\n",
      "    SXIXm2            607    tWSm2             607    tWHm2             607    cSSm2             607    cHHm2             607\n",
      "    cHSm2             607    cWWm2             607    cWSm2             607    cWHm2             607    tWWm2             607\n",
      "    SXXVIIIm2         607    SXXIXm2           607    SXXIIm2           607    SXXIIIm2          607    SXXIVm2           607\n",
      "    SXXIm2            607    SXXVIm2           607    SXXVIIm2          607    SXXVm2            607    thetap            708\n",
      "    theta             708    thetapp           708    betam1            723    thetappm1         735    thetapm1          735\n",
      "    thetam1           735    pm2               797    v2m2              797    v4m2              797    v3m2              797\n",
      "    v1m2              797    v0m2              797    phase-anglem2     797    chim2             797    deltam2           797\n",
      "    tmm2              797    gamma2            799    delta2            799    phase-angle2      799    v32               799\n",
      "    tm2               799    v22               799    v42               799    v12               799    chi2              799\n",
      "    v02               799    p2                799    gammam2           807    beta2             820    splaym2           835\n",
      "    alpham1           835    dpm2              835    sszpm2            835    e-zm2             835    epsilonm2         835\n",
      "    zetam2            835    eta               837    etap              837    etapp             837    epsilon1          841\n",
      "    e-z1              841    sszp1             841    dp1               841    splay1            841    theta1            841\n",
      "    thetap1           841    thetapp1          841    alpha2            841    zeta1             841    etam1             847\n",
      "    etappm1           847    eta1              847    etap1             847    etapp1            847    etapm1            847\n",
      "    betam2           1117    thetam2          1155    thetappm2        1155    thetapm2         1155    zeta2            1228\n",
      "    epsilon2         1228    splay2           1228    dp2              1228    sszp2            1228    e-z2             1228\n",
      "    alpham2          1229    thetapp2         1249    thetap2          1249    theta2           1249    etappm2          1267\n",
      "    etam2            1267    etapm2           1267    etapp2           1270    etap2            1270    eta2             1270\n"
     ]
    }
   ],
   "source": [
    "display(HTML('<span style=\"font-weight:bold\">Validation</span>'))\n",
    "sv = val_data_original.isnull().sum()\n",
    "sv = np.array([str(\"{: <15} {: >5}\").format(ind, val)  for ind, val in ((sv[sv!=0]).sort_values()).iteritems()])\n",
    "for row in sv.reshape(61, 5):\n",
    "    print(str(\"{: >25}\"*5).format(*row))"
   ]
  }
 ],
 "metadata": {
  "anaconda-cloud": {},
  "kernelspec": {
   "display_name": "Python 3",
   "language": "python",
   "name": "root"
  },
  "language_info": {
   "codemirror_mode": {
    "name": "ipython",
    "version": 3
   },
   "file_extension": ".py",
   "mimetype": "text/x-python",
   "name": "python",
   "nbconvert_exporter": "python",
   "pygments_lexer": "ipython3",
   "version": "3.5.2"
  }
 },
 "nbformat": 4,
 "nbformat_minor": 2
}
